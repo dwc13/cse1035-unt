{
 "cells": [
  {
   "cell_type": "markdown",
   "id": "458caefa",
   "metadata": {},
   "source": [
    "# **Chapter 9: Classes and Objects**"
   ]
  },
  {
   "cell_type": "markdown",
   "id": "11676ea4",
   "metadata": {},
   "source": [
    "## What is an Object?\n",
    "\n",
    "Objects are instances of data types that store data and have behaviors. In Python, everything is an object.\n",
    "\n",
    "`objects = data + functions`\n",
    "\n",
    "Let us look at some primitive data types and their object nature."
   ]
  },
  {
   "cell_type": "markdown",
   "id": "6205ac59",
   "metadata": {},
   "source": [
    "### Example 1\n",
    "Creating and inspecting primitive Python Objects."
   ]
  },
  {
   "cell_type": "code",
   "execution_count": 1,
   "id": "1833447e",
   "metadata": {},
   "outputs": [
    {
     "name": "stdout",
     "output_type": "stream",
     "text": [
      "<class 'int'>\n",
      "<class 'str'>\n"
     ]
    }
   ],
   "source": [
    "x = 10\n",
    "print(type(x))   # Expected Output: <class 'int'>\n",
    "\n",
    "s = 'Hello'\n",
    "print(type(s))   # Expected Output: <class 'str'>"
   ]
  },
  {
   "cell_type": "markdown",
   "id": "ce1dc5bd",
   "metadata": {},
   "source": [
    "### You Try\n",
    "Create two different variable types and print out their types using the `type()` function."
   ]
  },
  {
   "cell_type": "code",
   "execution_count": null,
   "id": "af424acd",
   "metadata": {},
   "outputs": [],
   "source": [
    "# You Try: create two different variable types and print their types\n",
    "x = 10\n",
    "s = 'Hello'\n",
    "print(type(x))   # Expected: <class 'int'>\n",
    "print(type(s))   # Expected: <class 'str'>"
   ]
  },
  {
   "cell_type": "markdown",
   "id": "c8f880f9",
   "metadata": {},
   "source": [
    "## What are Classes?\n",
    "A class defines the structure and behavior (attributes and methods) of objects.\n",
    "\n",
    "Classes are blueprints for creating objects. Once you have defined a class, you can create multiple objects (instances) of that class.\n",
    "\n",
    "To define a class in Python, use the `class` keyword followed by the class name and a colon. By convention, class names use CamelCase."
   ]
  },
  {
   "cell_type": "markdown",
   "id": "cf579c7a",
   "metadata": {},
   "source": [
    "### Example 1\n",
    "Creating a simple class `Rectangle` and instantiating an object of the `Rectangle` class."
   ]
  },
  {
   "cell_type": "code",
   "execution_count": 10,
   "id": "5f2bdf99",
   "metadata": {},
   "outputs": [
    {
     "name": "stdout",
     "output_type": "stream",
     "text": [
      "shape1=<__main__.Rectangle object at 0x115013a10> is an object of type <class '__main__.Rectangle'>\n",
      "Has attributes shape1.width=0, shape1.length=0\n"
     ]
    }
   ],
   "source": [
    "class Rectangle:\n",
    "    \"\"\"Class of the shape rectangle\"\"\"\n",
    "    width = 0\n",
    "    length = 0\n",
    "\n",
    "shape1 = Rectangle()\n",
    "print(f\"{shape1=} is an object of type {type(shape1)}\")\n",
    "print(f\"Has attributes {shape1.width=}, {shape1.length=}\")"
   ]
  },
  {
   "cell_type": "markdown",
   "id": "db5e15be",
   "metadata": {},
   "source": [
    "### Example 2\n",
    "Creating multiple instance objects of the `HousePlan` class and be able to manipulate their attributes."
   ]
  },
  {
   "cell_type": "code",
   "execution_count": 13,
   "id": "20cf2d9d",
   "metadata": {},
   "outputs": [
    {
     "name": "stdout",
     "output_type": "stream",
     "text": [
      "house1.length=40\n",
      "house2.width=20\n",
      "house3.length=40\n",
      "house3.length=30\n"
     ]
    }
   ],
   "source": [
    "class HousePlan:\n",
    "    \"\"\"Floorplan of a house\"\"\"\n",
    "    width = 20\n",
    "    length = 40\n",
    "    room = {\n",
    "        1: \"Living Room\",\n",
    "        2: \"Bedroom\",\n",
    "    }\n",
    "\n",
    "house1 = HousePlan()\n",
    "house2 = HousePlan()\n",
    "house3 = HousePlan()\n",
    "\n",
    "print(f\"{house1.length=}\") # Output 40\n",
    "\n",
    "print(f\"{house2.width=}\")  # Output 20\n",
    "\n",
    "print(f\"{house3.length=}\") # Output 40\n",
    "house3.length = 30\n",
    "print(f\"{house3.length=}\") # Output 30"
   ]
  },
  {
   "cell_type": "markdown",
   "id": "2014733b",
   "metadata": {},
   "source": [
    "## Class Attributes and Methods\n",
    "Attributes are variables that belong to a class, while methods are functions that belong to a class."
   ]
  },
  {
   "cell_type": "markdown",
   "id": "8ef28626",
   "metadata": {},
   "source": [
    "### Class Constructor\n",
    "A constructor is a special method that is automatically called when an object of a class is created. In Python, the constructor method is defined using the `__init__` method.\n",
    "\n",
    "Remember that the first parameter of any method in a class is always `self`, which refers to the instance of the class itself."
   ]
  },
  {
   "cell_type": "markdown",
   "id": "398fcaae",
   "metadata": {},
   "source": [
    "### Example 1\n",
    "Adding the constructor method to the `Rectangle` class to initialize its attributes."
   ]
  },
  {
   "cell_type": "code",
   "execution_count": 11,
   "id": "b9c886f5",
   "metadata": {},
   "outputs": [
    {
     "name": "stdout",
     "output_type": "stream",
     "text": [
      "shape1=<__main__.Rectangle object at 0x115011d30> is an object of type <class '__main__.Rectangle'>\n",
      "Has attributes shape1.width=0, shape1.length=0\n"
     ]
    }
   ],
   "source": [
    "class Rectangle:\n",
    "    \"\"\"Class of the shape rectangle\"\"\"\n",
    "    def __init__(self):\n",
    "        self.width = 0\n",
    "        self.length = 0\n",
    "\n",
    "shape1 = Rectangle()\n",
    "print(f\"{shape1=} is an object of type {type(shape1)}\")\n",
    "print(f\"Has attributes {shape1.width=}, {shape1.length=}\")"
   ]
  },
  {
   "cell_type": "markdown",
   "id": "0aa12443",
   "metadata": {},
   "source": [
    "### Example 2\n",
    "Adding the constructor method to the `HousePlan` class to initialize its attributes."
   ]
  },
  {
   "cell_type": "code",
   "execution_count": 16,
   "id": "233d4500",
   "metadata": {},
   "outputs": [
    {
     "name": "stdout",
     "output_type": "stream",
     "text": [
      "house1.length=40\n",
      "house2.width=20\n",
      "house3.length=40\n",
      "house3.length=30\n",
      "house3.room={1: 'Living Room', 2: 'Bedroom'}\n"
     ]
    }
   ],
   "source": [
    "class HousePlan:\n",
    "    \"\"\"Floorplan of a house\"\"\"\n",
    "    def __init__(self):\n",
    "        self.width = 20\n",
    "        self.length = 40\n",
    "        self.room = {\n",
    "            1: \"Living Room\",\n",
    "            2: \"Bedroom\",\n",
    "        }\n",
    "\n",
    "house1 = HousePlan()\n",
    "house2 = HousePlan()\n",
    "house3 = HousePlan()\n",
    "\n",
    "print(f\"{house1.length=}\") # Output 40\n",
    "\n",
    "print(f\"{house2.width=}\")  # Output 20\n",
    "\n",
    "print(f\"{house3.length=}\") # Output 40\n",
    "house3.length = 30\n",
    "print(f\"{house3.length=}\") # Output 30\n",
    "\n",
    "print(f\"{house3.room=}\")   # Output {1: 'Living Room', 2: 'Bedroom'}"
   ]
  },
  {
   "cell_type": "markdown",
   "id": "fe477189",
   "metadata": {},
   "source": [
    "### Instance Attributes in `init`\n",
    "Instance attributes are attributes that are specific to each instance of a class. They are typically defined within the constructor method."
   ]
  },
  {
   "cell_type": "markdown",
   "id": "67b9974f",
   "metadata": {},
   "source": [
    "### Example 1\n",
    "Adding attributes in the `__init__` constructor of the `Rectangle` class."
   ]
  },
  {
   "cell_type": "code",
   "execution_count": 22,
   "id": "a3075fc7",
   "metadata": {},
   "outputs": [
    {
     "name": "stdout",
     "output_type": "stream",
     "text": [
      "shape1=<__main__.Rectangle object at 0x115013a10> is an object of type <class '__main__.Rectangle'>\n",
      "Has attributes shape1.width=5, shape1.length=10\n",
      "\n",
      "shape2=<__main__.Rectangle object at 0x1160cf610> is an object of type <class '__main__.Rectangle'>\n",
      "Has attributes shape2.width=0, shape2.length=0\n"
     ]
    }
   ],
   "source": [
    "class Rectangle:\n",
    "    def __init__(self, w=0, l=0):\n",
    "        self.width = w\n",
    "        self.length = l\n",
    "\n",
    "shape1 = Rectangle(5, 10)\n",
    "print(f\"{shape1=} is an object of type {type(shape1)}\")\n",
    "print(f\"Has attributes {shape1.width=}, {shape1.length=}\\n\")\n",
    "\n",
    "shape2 = Rectangle()\n",
    "print(f\"{shape2=} is an object of type {type(shape2)}\")\n",
    "print(f\"Has attributes {shape2.width=}, {shape2.length=}\")"
   ]
  },
  {
   "cell_type": "markdown",
   "id": "a026d5e7",
   "metadata": {},
   "source": [
    "### Example 2\n",
    "Adding attributes in the `__init__` constructor of the `HousePlan` class."
   ]
  },
  {
   "cell_type": "code",
   "execution_count": 21,
   "id": "2d145e27",
   "metadata": {},
   "outputs": [
    {
     "name": "stdout",
     "output_type": "stream",
     "text": [
      "house1=<__main__.HousePlan object at 0x115012660>\n"
     ]
    }
   ],
   "source": [
    "class HousePlan:\n",
    "    \"\"\"Floorplan of a house\"\"\"\n",
    "    def __init__(self,\n",
    "                 w=20,\n",
    "                 l=40,\n",
    "                 r={1: \"Living Room\",2: \"Bedroom\"}\n",
    "                ):\n",
    "        self.width = w\n",
    "        self.length = l\n",
    "        self.room = r\n",
    "\n",
    "house1 = HousePlan()\n",
    "print(f\"{house1=}\")"
   ]
  },
  {
   "cell_type": "markdown",
   "id": "84a94725",
   "metadata": {},
   "source": [
    "### Instance Methods in Classes\n",
    "Instance methods are functions that operate on instances of a class. They can access and modify the instance attributes.\n",
    "\n",
    "These generic methods are called **Accessor** (get/getter) and **Mutator** (set/setter) methods.\n",
    "\n",
    "- *Accessor methods* are used to retrieve the value of an attribute from a class object.\n",
    "```python\n",
    "def get_name(self):\n",
    "    return self.name\n",
    "```\n",
    "\n",
    "- *Mutator methods* are used to modify (safely) the value of an attribute from a class object.\n",
    "```python\n",
    "def set_name(self, new_name):\n",
    "    self.name = new_name\n",
    "``` \n",
    "\n",
    "We use these methods to encapsulate the internal representation of the object and provide a controlled interface for accessing and modifying its attributes.\n",
    "\n",
    "- Do not expose the internal attributes directly.\n",
    "- Data values are controlled through methods and validation can be performed, not directly.\n",
    "- Hidden attributes are prefixed with a double underscore `__` to indicate they should not be accessed directly."
   ]
  },
  {
   "cell_type": "markdown",
   "id": "9c099591",
   "metadata": {},
   "source": [
    "### Example 1\n",
    "Adding a getter and setter method to the `Rectangle` class.\n"
   ]
  },
  {
   "cell_type": "code",
   "execution_count": 24,
   "id": "8a4caa2e",
   "metadata": {},
   "outputs": [
    {
     "name": "stdout",
     "output_type": "stream",
     "text": [
      "Width:0, Length:0\n",
      "Width:250, Length:350\n"
     ]
    }
   ],
   "source": [
    "class Rectangle:\n",
    "    def __init__(self, w=0, l=0):\n",
    "        self.width = w\n",
    "        self.length = l\n",
    "    \n",
    "    # Getter method\n",
    "    def print_attrs(self):\n",
    "        print(f\"Width:{self.width}, Length:{self.length}\")\n",
    "\n",
    "    # Setter method\n",
    "    def set_width(self, width):\n",
    "        self.width = width\n",
    "\n",
    "    def set_length(self, length):\n",
    "        self.length = length \n",
    "\n",
    "\n",
    "shape1 = Rectangle()\n",
    "shape1.print_attrs()\n",
    "shape1.set_width(250)\n",
    "shape1.set_length(350)\n",
    "shape1.print_attrs()"
   ]
  },
  {
   "cell_type": "markdown",
   "id": "f949b6fc",
   "metadata": {},
   "source": [
    "### Example 2\n",
    "Creating a `calculate_area` method for the `Rectangle` class."
   ]
  },
  {
   "cell_type": "code",
   "execution_count": 25,
   "id": "5f0ab5b0",
   "metadata": {},
   "outputs": [
    {
     "name": "stdout",
     "output_type": "stream",
     "text": [
      "Shape1 area: 87500\n"
     ]
    }
   ],
   "source": [
    "class Rectangle:\n",
    "    def __init__(self, w=0, l=0):\n",
    "        self.width = w\n",
    "        self.length = l\n",
    "    \n",
    "    def calculate_area(self):\n",
    "        return self.width * self.length\n",
    "\n",
    "shape1 = Rectangle(250, 350)\n",
    "print(f\"Shape1 area: {shape1.calculate_area()}\")"
   ]
  },
  {
   "cell_type": "markdown",
   "id": "67300ea3",
   "metadata": {},
   "source": [
    "### Example 3\n",
    "Defining a `Car` class with the make attribute with getter and setter methods."
   ]
  },
  {
   "cell_type": "code",
   "execution_count": 2,
   "id": "4f5df27e",
   "metadata": {},
   "outputs": [
    {
     "name": "stdout",
     "output_type": "stream",
     "text": [
      "myCar.get_make()='Ford'\n",
      "myCar.get_make()='Porche'\n",
      "myCar.get_make()='Porche'\n"
     ]
    }
   ],
   "source": [
    "class Car:\n",
    "    def __init__(self, manufacture=None):\n",
    "       self.__make = manufacture \n",
    "    \n",
    "    def set_make(self, manufacture):\n",
    "        self.__make = manufacture\n",
    "\n",
    "    def get_make(self):\n",
    "        return self.__make if self.__make != None else RuntimeError\n",
    "    \n",
    "myCar = Car('Ford')\n",
    "\n",
    "print(f'{myCar.get_make()=}')\n",
    "\n",
    "myCar.set_make('Porche')\n",
    "\n",
    "print(f'{myCar.get_make()=}')\n",
    "\n",
    "# Notice that `make` is a private attribute\n",
    "# myCar.__make will not work\n",
    "myCar.__make = 'BMW'\n",
    "print(f'{myCar.get_make()=}')"
   ]
  },
  {
   "cell_type": "markdown",
   "id": "659499fa",
   "metadata": {},
   "source": [
    "### You Try Car Class\n",
    "Extend the `Car` class in the constructor the following attributes:\n",
    "- model_year\n",
    "- purchase_price\n",
    "- current_value\n",
    "\n",
    "Initialize `model_year` and `purchase_price` using parameters passed to the constructor, and set `current_value` to be equal to `purchase_price` initially.\n",
    "\n",
    "Define this mutator to calculate the current value of the car based on depreciation. Which takes in a parameter called `current_year`. Assume the car depreciates by 15% of its purchase price each year. \n",
    "```python\n",
    "def calculate_depreciation(self, current_year):\n",
    "    car_age = current_year - self.model_year\n",
    "    depreciation_rate = 0.15\n",
    "    self.current_value = round(self.purchase_price * ((1 - depreciation_rate) ** car_age))\n",
    "```\n",
    "\n",
    "Additionally, define an accessor called `print_info` that prints all the car information in a formatted string. "
   ]
  },
  {
   "cell_type": "code",
   "execution_count": 1,
   "id": "ed8af01e",
   "metadata": {},
   "outputs": [
    {
     "name": "stdout",
     "output_type": "stream",
     "text": [
      "Car's Information\n",
      "\tManufacture: Ford\n",
      "\tModel year: 2011\n",
      "\tPurchase price: $180000\n",
      "\tCurrent value: $180000\n",
      "Car's Information\n",
      "\tManufacture: Ford\n",
      "\tModel year: 2011\n",
      "\tPurchase price: $180000\n",
      "\tCurrent value: $57704\n",
      "Car's Information\n",
      "\tManufacture: Ford\n",
      "\tModel year: 2011\n",
      "\tPurchase price: $180000\n",
      "\tCurrent value: $180000\n"
     ]
    }
   ],
   "source": [
    "class Car:\n",
    "    # Define init Method with any parameters\n",
    "    def __init__(self, \n",
    "                 manufacture,\n",
    "                 model_year,\n",
    "                 purchase_price,\n",
    "                ):\n",
    "        self.__make = manufacture\n",
    "        self.model_year = model_year \n",
    "        self.purchase_price = purchase_price\n",
    "        self.current_value = purchase_price\n",
    "\n",
    "    # Define Mutator Methods\n",
    "    def set_make(self, manufacture):\n",
    "        self.__make = manufacture\n",
    "\n",
    "    def calc_current_value(self, current_year):\n",
    "        depreciation_rate = 0.15\n",
    "        car_age = current_year - self.model_year\n",
    "        self.current_value = round(self.purchase_price * (1 - depreciation_rate) ** car_age)\n",
    "\n",
    "    # Define Accessor Methods\n",
    "    def get_make(self):\n",
    "        return self.__make\n",
    "    \n",
    "    def print_info(self):\n",
    "        print(\"Car's Information\")\n",
    "        print(f\"\\tManufacture: {self.__make}\")\n",
    "        print(f\"\\tModel year: {self.model_year}\")\n",
    "        print(f\"\\tPurchase price: ${self.purchase_price}\")\n",
    "        print(f\"\\tCurrent value: ${self.current_value}\")\n",
    "\n",
    "myCar = Car('Ford', 2011, 180000)\n",
    "myCar2 = Car('Ford', 2011, 180000)\n",
    "myCar.print_info()\n",
    "myCar.calc_current_value(2018)\n",
    "myCar.print_info()\n",
    "myCar2.print_info()\n"
   ]
  },
  {
   "cell_type": "markdown",
   "id": "901aa0ef",
   "metadata": {},
   "source": [
    "### You Try Student Class\n",
    "Create a `Student` class with a private attribute `__grade`. Add getter and setter methods that validate grades between 0 and 100."
   ]
  },
  {
   "cell_type": "code",
   "execution_count": null,
   "id": "37839fcf",
   "metadata": {},
   "outputs": [],
   "source": []
  },
  {
   "cell_type": "markdown",
   "id": "2637774d",
   "metadata": {},
   "source": [
    "## Class vs Instance Attributes\n",
    "Class attributes are shared across all instances of a class, while instance attributes are specific to each instance.\n"
   ]
  },
  {
   "cell_type": "markdown",
   "id": "9631f53f",
   "metadata": {},
   "source": [
    "### Example 1\n",
    "Demonstrating class vs instance attributes with a `Sample` class."
   ]
  },
  {
   "cell_type": "code",
   "execution_count": 38,
   "id": "328d9f14",
   "metadata": {},
   "outputs": [
    {
     "name": "stdout",
     "output_type": "stream",
     "text": [
      "0\n",
      "5\n"
     ]
    }
   ],
   "source": [
    "class Sample:\n",
    "    x = 5  # class attribute\n",
    "\n",
    "    def __init__(self):\n",
    "        self.x = 0  # instance attribute\n",
    "\n",
    "a = Sample()\n",
    "print(a.x)        # Expected Output: 0\n",
    "print(Sample.x)   # Expected Output: 5"
   ]
  },
  {
   "cell_type": "markdown",
   "id": "a7a371d5",
   "metadata": {},
   "source": [
    "### Example 2\n",
    "Demonstrating class vs instance attributes with a `Counter` class.\n",
    "\n",
    "This showcases how class attributes maintain a shared state across all instances, while instance attributes maintain individual states for each object."
   ]
  },
  {
   "cell_type": "code",
   "execution_count": null,
   "id": "83951877",
   "metadata": {},
   "outputs": [
    {
     "name": "stdout",
     "output_type": "stream",
     "text": [
      "Total instances created: 2\n",
      "c1 instance count: 2\n",
      "c2 instance count: 1\n",
      "Total instances created: 2\n"
     ]
    }
   ],
   "source": [
    "class Counter:\n",
    "    count = 0  # Class attribute\n",
    "\n",
    "    def __init__(self):\n",
    "        Counter.count += 1  # Increment class attribute\n",
    "        self.instance_count = 0  # Instance attribute\n",
    "\n",
    "    def increment_instance(self):\n",
    "        self.instance_count += 1  # Increment instance attribute\n",
    "    \n",
    "# Create instances\n",
    "c1 = Counter()\n",
    "c2 = Counter()\n",
    "c1.increment_instance()\n",
    "c1.increment_instance()\n",
    "c2.increment_instance()\n",
    "print(f\"Total instances created: {Counter.count}\")  # Access class attribute\n",
    "print(f\"c1 instance count: {c1.instance_count}\")  # Access instance attribute\n",
    "print(f\"c2 instance count: {c2.instance_count}\")  # Access instance attribute"
   ]
  },
  {
   "cell_type": "markdown",
   "id": "5b07c089",
   "metadata": {},
   "source": [
    "### You Try Class vs Instance Attributes\n",
    "Add a class attribute called `school_name` to a `Student` class and an instance attribute `name`. Print both values."
   ]
  },
  {
   "cell_type": "code",
   "execution_count": null,
   "id": "bcbd0af8",
   "metadata": {},
   "outputs": [],
   "source": [
    "# You Try: class vs instance attribute example"
   ]
  },
  {
   "cell_type": "markdown",
   "id": "ba89d08e",
   "metadata": {},
   "source": [
    "## Magic (Dunder) Methods\n",
    "Magic methods, also known as dunder methods (double underscore methods), are special methods in Python that start and end with double underscores. They allow you to define how objects of your class behave with built-in operations.\n"
   ]
  },
  {
   "cell_type": "markdown",
   "id": "17c91ff2",
   "metadata": {},
   "source": [
    "### Example 1\n",
    "Using the `__str__` method to provide a string representation of a class object.\n",
    "\n",
    "Let's print the `Rectangle` object directly to see the output of the `__str__` method.\n",
    "\n",
    "As you can see, when we print the `rect` object, Python automatically calls the `__str__` method to get a string representation of the object. Comparing it to our earlier method `print_attrs`, which required us to explicitly call it to display the attributes."
   ]
  },
  {
   "cell_type": "code",
   "execution_count": 44,
   "id": "73bdc039",
   "metadata": {},
   "outputs": [
    {
     "name": "stdout",
     "output_type": "stream",
     "text": [
      "Shape1: width=5, length=8\n",
      "Shape1: width=5, length=8\n"
     ]
    }
   ],
   "source": [
    "class Rectangle:\n",
    "    def __init__(self, name, w, l):\n",
    "        self.name = name\n",
    "        self.width = w\n",
    "        self.length = l\n",
    "\n",
    "    def print_attrs(self):\n",
    "        print(f\"{self.name}: width={self.width}, length={self.length}\")\n",
    "\n",
    "    def __str__(self):\n",
    "        return f\"{self.name}: width={self.width}, length={self.length}\"\n",
    "\n",
    "rect = Rectangle(\"Shape1\", 5, 8)\n",
    "\n",
    "rect.print_attrs()\n",
    "print(rect)"
   ]
  },
  {
   "cell_type": "markdown",
   "id": "e6b2668b",
   "metadata": {},
   "source": [
    "### Example 2\n",
    "Let's extend the `Car` class to include the `__str__` method for better representation when printing the object."
   ]
  },
  {
   "cell_type": "code",
   "execution_count": 47,
   "id": "2f3b4db7",
   "metadata": {},
   "outputs": [
    {
     "name": "stdout",
     "output_type": "stream",
     "text": [
      "Toyota (2020): Purchase Price=$30000, Current Value=$15660\n"
     ]
    }
   ],
   "source": [
    "class Car:\n",
    "    def __init__(self, make, model_year, purchase_price):\n",
    "        self.make = make\n",
    "        self.model_year = model_year\n",
    "        self.purchase_price = purchase_price\n",
    "        self.current_value = purchase_price\n",
    "\n",
    "    def calculate_depreciation(self, current_year):\n",
    "        car_age = current_year - self.model_year\n",
    "        depreciation_rate = 0.15\n",
    "        self.current_value = round(self.purchase_price * ((1 - depreciation_rate) ** car_age))\n",
    "\n",
    "    def __str__(self):\n",
    "        return f\"{self.make} ({self.model_year}): Purchase Price=${self.purchase_price}, Current Value=${self.current_value}\"\n",
    "\n",
    "# Example usage\n",
    "my_car = Car(\"Toyota\", 2020, 30000)\n",
    "my_car.calculate_depreciation(2024)\n",
    "print(my_car)  # Expected Output: Toyota (2020): Purchase Price=$30000, Current Value=$21967"
   ]
  },
  {
   "cell_type": "markdown",
   "id": "aad6592a",
   "metadata": {},
   "source": [
    "### You Try Magic Method\n",
    "Add a `__str__` method to the `HousePlan` class to print in this format: \"HousePlan: width=<width>, length=<length>\"."
   ]
  },
  {
   "cell_type": "code",
   "execution_count": null,
   "id": "ac588e97",
   "metadata": {},
   "outputs": [],
   "source": [
    "# You Try: Add __str__ to HousePlan\n"
   ]
  },
  {
   "cell_type": "markdown",
   "id": "b873044d",
   "metadata": {},
   "source": [
    "## Operator Overloading\n",
    "Operator overloading allows you to define how operators behave for instances of your class by implementing special methods.\n",
    "\n",
    "Simple example of overloading are on the arithmetic operators like `+`, `-`, `*`, etc."
   ]
  },
  {
   "cell_type": "markdown",
   "id": "e687e61d",
   "metadata": {},
   "source": [
    "### Example 1 \n",
    "Let's create an overloading of the greater than operator `>` for the `Rectangle` class to compare the areas of two rectangles."
   ]
  },
  {
   "cell_type": "code",
   "execution_count": 49,
   "id": "7b82d202",
   "metadata": {},
   "outputs": [
    {
     "name": "stdout",
     "output_type": "stream",
     "text": [
      "B is bigger\n"
     ]
    }
   ],
   "source": [
    "class Rectangle:\n",
    "    def __init__(self, w, l):\n",
    "        self.width = w\n",
    "        self.length = l\n",
    "\n",
    "    def __gt__(self, other):\n",
    "        return self.width * self.length > other.width * other.length\n",
    "\n",
    "a = Rectangle(5, 8)\n",
    "b = Rectangle(6, 7)\n",
    "\n",
    "if a > b:\n",
    "    print(\"A is bigger\")\n",
    "else:\n",
    "    print(\"B is bigger\")\n"
   ]
  },
  {
   "cell_type": "markdown",
   "id": "e1b6db01",
   "metadata": {},
   "source": [
    "### Example 2\n",
    "Let's create an overloading of the less than operator `<` for the `HousePlan` class to compare the area of two house plans."
   ]
  },
  {
   "cell_type": "code",
   "execution_count": 51,
   "id": "312f09d0",
   "metadata": {},
   "outputs": [
    {
     "name": "stdout",
     "output_type": "stream",
     "text": [
      "HousePlan 2 is smaller\n"
     ]
    }
   ],
   "source": [
    "class HousePlan:\n",
    "    \"\"\"Floorplan of a house\"\"\"\n",
    "    def __init__(self,\n",
    "                 w=0,\n",
    "                 l=0,\n",
    "                ):\n",
    "        self.width = w\n",
    "        self.length = l\n",
    "    \n",
    "    def calculate_area(self):\n",
    "        return self.width * self.length\n",
    "\n",
    "    def __lt__(self, other):\n",
    "        return self.calculate_area() < other.calculate_area()\n",
    "\n",
    "house1 = HousePlan(150, 250)\n",
    "house2 = HousePlan(175, 170)\n",
    "\n",
    "if house1 < house2:\n",
    "    print(\"HousePlan 1 is smaller\")\n",
    "else:\n",
    "    print(\"HousePlan 2 is smaller\")"
   ]
  },
  {
   "cell_type": "markdown",
   "id": "8041b4f9",
   "metadata": {},
   "source": [
    "### You Try Overloading\n",
    "Overload the equality operator (`__eq__`) in the `Student` class to compare two students’ names."
   ]
  },
  {
   "cell_type": "code",
   "execution_count": null,
   "id": "1a40d9cc",
   "metadata": {},
   "outputs": [],
   "source": [
    "# You Try: Overload __eq__ to compare Student names"
   ]
  },
  {
   "cell_type": "markdown",
   "id": "817e31ab",
   "metadata": {},
   "source": [
    "## Memory Management\n",
    "Python uses automatic memory management, which includes garbage collection to reclaim memory occupied by objects that are no longer in use. This is done through reference counting and cyclic garbage collection."
   ]
  },
  {
   "cell_type": "markdown",
   "id": "0fe15341",
   "metadata": {},
   "source": [
    "### Example\n",
    "Let's create a simple class and see how memory management works in Python."
   ]
  },
  {
   "cell_type": "code",
   "execution_count": 66,
   "id": "fdc19682",
   "metadata": {},
   "outputs": [
    {
     "name": "stdout",
     "output_type": "stream",
     "text": [
      "True\n",
      "10\n"
     ]
    }
   ],
   "source": [
    "class Sample:\n",
    "    def __init__(self, value):\n",
    "        self.value = value\n",
    "\n",
    "sample1 = Sample(10)\n",
    "sample2 = sample1\n",
    "\n",
    "# Show reference to same object\n",
    "print(sample2 is sample1)\n",
    "\n",
    "del sample1\n",
    "print(sample2.value)"
   ]
  },
  {
   "cell_type": "markdown",
   "id": "9d5cdc85",
   "metadata": {},
   "source": [
    "### You Try Memory Management\n",
    "Create a variable `x = [10, 20]` and assign it to `y`. Delete `x` and print `y`."
   ]
  },
  {
   "cell_type": "code",
   "execution_count": null,
   "id": "4ab8afc9",
   "metadata": {},
   "outputs": [],
   "source": [
    "# You Try: Memory management example"
   ]
  },
  {
   "cell_type": "markdown",
   "id": "bfa7f19f",
   "metadata": {},
   "source": [
    "## You Try Solution"
   ]
  },
  {
   "cell_type": "markdown",
   "id": "2d6869c0",
   "metadata": {},
   "source": [
    "### You Try Object Solution"
   ]
  },
  {
   "cell_type": "markdown",
   "id": "55b46756",
   "metadata": {},
   "source": [
    "```python\n",
    "# Create two different variable types and print their types\n",
    "x = 100\n",
    "s = \"hello\"\n",
    "print(type(x))  # <class 'int'>\n",
    "print(type(s))  # <class 'str'>\n",
    "```"
   ]
  },
  {
   "cell_type": "markdown",
   "id": "3ee3e559",
   "metadata": {},
   "source": [
    "### You Try Car Class Solution\n",
    "```python\n",
    "# Car class showing constructor and depreciation method\n",
    "class Car:\n",
    "    def __init__(self, make, model_year, purchase_price):\n",
    "        self.make = make\n",
    "        self.model_year = model_year\n",
    "        self.purchase_price = purchase_price\n",
    "        self.current_value = purchase_price\n",
    "\n",
    "    def calculate_depreciation(self, current_year, rate=0.15):\n",
    "        age = current_year - self.model_year\n",
    "        self.current_value = round(self.purchase_price * ((1 - rate) ** age))\n",
    "\n",
    "# Example usage\n",
    "c = Car(\"Ford\", 2018, 20000)\n",
    "c.calculate_depreciation(2023)\n",
    "print(c.make, c.model_year, c.purchase_price, c.current_value)\n",
    "```"
   ]
  },
  {
   "cell_type": "markdown",
   "id": "de8be7cd",
   "metadata": {},
   "source": [
    "### You Try Student Class Solution\n",
    "```python\n",
    "# Student class with private __grade and validated getter/setter\n",
    "class Student:\n",
    "    def __init__(self, name, grade=0):\n",
    "        self.name = name\n",
    "        self.__grade = 0\n",
    "        self.set_grade(grade)\n",
    "\n",
    "    def get_grade(self):\n",
    "        return self.__grade\n",
    "\n",
    "    def set_grade(self, value):\n",
    "        if not isinstance(value, (int, float)):\n",
    "            raise TypeError(\"Grade must be a number between 0 and 100\")\n",
    "        if 0 <= value <= 100:\n",
    "            self.__grade = value\n",
    "        else:\n",
    "            raise ValueError(\"Grade must be between 0 and 100\")\n",
    "\n",
    "# Example usage\n",
    "s = Student(\"Alice\", 92)\n",
    "print(s.name, s.get_grade())\n",
    "\n",
    "``` "
   ]
  },
  {
   "cell_type": "markdown",
   "id": "c3434819",
   "metadata": {},
   "source": [
    "### You Try Class vs Instance Attribute Solution\n",
    "```python\n",
    "# Add a class attribute school_name and an instance attribute name\n",
    "class Student:\n",
    "    school_name = \"UNT\"\n",
    "\n",
    "    def __init__(self, name):\n",
    "        self.name = name\n",
    "\n",
    "# Example usage\n",
    "stu = Student(\"Bob\")\n",
    "print(Student.school_name)  # class attribute\n",
    "print(stu.name)             # instance attribute\n",
    "```"
   ]
  },
  {
   "cell_type": "markdown",
   "id": "2d91df46",
   "metadata": {},
   "source": [
    "### You Try Magic Method Solution\n",
    "```python\n",
    "# Add __str__ to HousePlan\n",
    "class HousePlan:\n",
    "    def __init__(self, w=0, l=0):\n",
    "        self.width = w\n",
    "        self.length = l\n",
    "\n",
    "    def __str__(self):\n",
    "        return f\"HousePlan: width={self.width}, length={self.length}\"\n",
    "\n",
    "# Example usage\n",
    "h = HousePlan(20, 40)\n",
    "print(h)\n",
    "```"
   ]
  },
  {
   "cell_type": "markdown",
   "id": "53d83d5f",
   "metadata": {},
   "source": [
    "### You Try Operator Overloading Solution\n",
    "```python\n",
    "# Overload __eq__ in Student to compare names\n",
    "class Student:\n",
    "    def __init__(self, name):\n",
    "        self.name = name\n",
    "\n",
    "    def __eq__(self, other):\n",
    "        if isinstance(other, Student):\n",
    "            return self.name == other.name\n",
    "        return NotImplemented\n",
    "\n",
    "# Example usage\n",
    "s1 = Student(\"Carol\")\n",
    "s2 = Student(\"Carol\")\n",
    "s3 = Student(\"Dave\")\n",
    "print(s1 == s2)  # True\n",
    "print(s1 == s3)  # False\n",
    "```"
   ]
  },
  {
   "cell_type": "markdown",
   "id": "3af45fb4",
   "metadata": {},
   "source": [
    "### You Try Memory Management Solution\n",
    "```python\n",
    "x = [10, 20]\n",
    "y = x\n",
    "del x\n",
    "print(y)\n",
    "```"
   ]
  }
 ],
 "metadata": {
  "kernelspec": {
   "display_name": "base",
   "language": "python",
   "name": "python3"
  },
  "language_info": {
   "codemirror_mode": {
    "name": "ipython",
    "version": 3
   },
   "file_extension": ".py",
   "mimetype": "text/x-python",
   "name": "python",
   "nbconvert_exporter": "python",
   "pygments_lexer": "ipython3",
   "version": "3.13.5"
  }
 },
 "nbformat": 4,
 "nbformat_minor": 5
}
