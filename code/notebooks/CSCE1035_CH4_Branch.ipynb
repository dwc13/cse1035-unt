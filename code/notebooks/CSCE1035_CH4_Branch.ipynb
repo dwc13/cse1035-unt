{
 "cells": [
  {
   "cell_type": "markdown",
   "metadata": {},
   "source": [
    "# CSCE 1035 – Chapter 4: Branching \n"
   ]
  },
  {
   "cell_type": "markdown",
   "metadata": {},
   "source": [
    "## 1. Branching Overview\n",
    "Branches choose between alternatives based on Boolean expressions (True/False)."
   ]
  },
  {
   "cell_type": "markdown",
   "id": "8dd8a5d0",
   "metadata": {},
   "source": [
    "### Example 1: Gross Pay (Regular vs Overtime)"
   ]
  },
  {
   "cell_type": "code",
   "execution_count": 5,
   "metadata": {},
   "outputs": [
    {
     "name": "stdout",
     "output_type": "stream",
     "text": [
      "You worked 45 hours at a rate of $23.45 per hour.\n",
      "Gross pay: $1113.88\n"
     ]
    }
   ],
   "source": [
    "hours = int(input(\"Enter hours worked: \"))\n",
    "rate = float(input(\"Enter hourly rate: \"))\n",
    "if hours > 40:\n",
    "    gross_pay = rate * 40 + 1.5 * rate * (hours - 40)\n",
    "else:\n",
    "    gross_pay = rate * hours\n",
    "\n",
    "print(f\"You worked {hours} hours at a rate of ${rate:.2f} per hour.\")\n",
    "print(f\"Gross pay: ${gross_pay:.2f}\")"
   ]
  },
  {
   "cell_type": "markdown",
   "id": "095740c8",
   "metadata": {},
   "source": [
    "### Example 2: Simple Login Gate"
   ]
  },
  {
   "cell_type": "code",
   "execution_count": 6,
   "metadata": {},
   "outputs": [
    {
     "name": "stdout",
     "output_type": "stream",
     "text": [
      "Access denied\n"
     ]
    }
   ],
   "source": [
    "username, password = \"dominic\", \"mysupersecretpassword\"\n",
    "input_user, input_pass = \"alice\", \"bigbossdotcom\"\n",
    "if input_user == username and input_pass == password:\n",
    "    print(\"Access granted\")\n",
    "else:\n",
    "    print(\"Access denied\")"
   ]
  },
  {
   "cell_type": "markdown",
   "metadata": {},
   "source": [
    "### You Try: Branching Overview\n",
    "Write code that prints \"Over budget\" if `cost > budget`, else prints \"Within budget\".\n"
   ]
  },
  {
   "cell_type": "markdown",
   "metadata": {
    "tags": [
     "solution"
    ]
   },
   "source": [
    "#### Solution\n",
    "```python\n",
    "budget, cost = 1000, 1200\n",
    "print(\"Over budget\" if cost > budget else \"Within budget\")\n",
    "```"
   ]
  },
  {
   "cell_type": "markdown",
   "metadata": {},
   "source": [
    "## 2. The `if` Statement\n",
    "An `if` creates a decision structure. The body runs only if the condition is true."
   ]
  },
  {
   "cell_type": "markdown",
   "id": "e47c0193",
   "metadata": {},
   "source": [
    "### Example 1: Temperature Advisory"
   ]
  },
  {
   "cell_type": "code",
   "execution_count": 9,
   "metadata": {},
   "outputs": [
    {
     "name": "stdout",
     "output_type": "stream",
     "text": [
      "It's cold. Wear a coat.\n"
     ]
    }
   ],
   "source": [
    "temp_f = 38\n",
    "if temp_f < 40:\n",
    "    print(\"It's cold. Wear a coat.\")"
   ]
  },
  {
   "cell_type": "markdown",
   "id": "0331b851",
   "metadata": {},
   "source": [
    "### Example 2: Authorization Check"
   ]
  },
  {
   "cell_type": "code",
   "execution_count": 11,
   "metadata": {},
   "outputs": [
    {
     "name": "stdout",
     "output_type": "stream",
     "text": [
      "Proceed with authentication checks\n"
     ]
    }
   ],
   "source": [
    "user_exists = True\n",
    "if user_exists:\n",
    "    print(\"Proceed with authentication checks\")"
   ]
  },
  {
   "cell_type": "markdown",
   "metadata": {},
   "source": [
    "### You Try: `if` Statement\n",
    "Print \"Low disk space\" when `free_gb < 5`."
   ]
  },
  {
   "cell_type": "markdown",
   "metadata": {
    "tags": [
     "solution"
    ]
   },
   "source": [
    "#### Solution\n",
    "```python\n",
    "free_gb = 3\n",
    "if free_gb < 5:\n",
    "    print(\"Low disk space\")\n",
    "```"
   ]
  },
  {
   "cell_type": "markdown",
   "metadata": {},
   "source": [
    "## 3. Boolean Expressions and Operand Types\n",
    "Compare values with relational/equality operators. Operands must be comparable."
   ]
  },
  {
   "cell_type": "markdown",
   "id": "60e55eba",
   "metadata": {},
   "source": [
    "### Example 1: Valid Comparisons"
   ]
  },
  {
   "cell_type": "code",
   "execution_count": 12,
   "metadata": {},
   "outputs": [
    {
     "name": "stdout",
     "output_type": "stream",
     "text": [
      "True\n",
      "True\n",
      "True\n",
      "False\n"
     ]
    }
   ],
   "source": [
    "# Example 1: Valid comparisons\n",
    "print(3 == 3)\n",
    "print(3.14 == 3.14)\n",
    "print(\"5\" == \"5\")\n",
    "print(True == False)"
   ]
  },
  {
   "cell_type": "markdown",
   "id": "9d95e3c7",
   "metadata": {},
   "source": [
    "### Example 2: Float Comparison"
   ]
  },
  {
   "cell_type": "code",
   "execution_count": 105,
   "metadata": {},
   "outputs": [
    {
     "name": "stdout",
     "output_type": "stream",
     "text": [
      "a=0.30000000000000004 == b=0.3 : False\n",
      "a=0.30000000000000004 is close to b=0.3 : True\n"
     ]
    }
   ],
   "source": [
    "import math\n",
    "a = 0.1 + 0.2\n",
    "b = 0.3\n",
    "print(f\"{a=} == {b=} : {a == b}\")\n",
    "print(f\"{a=} is close to {b=} : {math.isclose(a, b, rel_tol=1e-9)}\")"
   ]
  },
  {
   "cell_type": "code",
   "execution_count": 115,
   "id": "4de2e026",
   "metadata": {},
   "outputs": [
    {
     "name": "stdout",
     "output_type": "stream",
     "text": [
      "a=0.5 == b=0.5 : True\n",
      "a=0.5 == b=0.5 : True\n"
     ]
    }
   ],
   "source": [
    "a = 0.5_0000_0000_0000_0000_1\n",
    "b = 0.5\n",
    "print(f\"{a=} == {b=} : {a == b}\")\n",
    "\n",
    "a = .3 + 0.2\n",
    "b = 0.5_0000_0000_0000_0000_1\n",
    "print(f\"{a=} == {b=} : {a == b}\")"
   ]
  },
  {
   "cell_type": "markdown",
   "id": "a8e43623",
   "metadata": {},
   "source": [
    "### Example 3: Invalid Comparisons"
   ]
  },
  {
   "cell_type": "code",
   "execution_count": 21,
   "id": "b636800b",
   "metadata": {},
   "outputs": [],
   "source": [
    "x = 3\n",
    "if x == True:\n",
    "    print(\"This will not print because the types are different.\")\n",
    "\n",
    "if 3.14 == \"3.14\":\n",
    "    print(\"This will not print because the types are different.\")"
   ]
  },
  {
   "cell_type": "markdown",
   "metadata": {},
   "source": [
    "### You Try: Comparisons\n",
    "Given `s1 = \"Apple\"` and `s2 = \"apple\"`, check if `s1` is less than `s2` and explain why the result is True or False."
   ]
  },
  {
   "cell_type": "markdown",
   "metadata": {
    "tags": [
     "solution"
    ]
   },
   "source": [
    "#### Solution\n",
    "```python\n",
    "s1, s2 = \"Apple\", \"apple\"\n",
    "result = s1 < s2\n",
    "print(result)\n",
    "# Explanation: uppercase 'A' has a different Unicode code point than lowercase 'a',\n",
    "# and comparisons are case-sensitive and lexicographic.\n",
    "```"
   ]
  },
  {
   "cell_type": "markdown",
   "metadata": {},
   "source": [
    "## 4. The `if-else` Statement\n",
    "Choose one of two blocks based on a condition."
   ]
  },
  {
   "cell_type": "markdown",
   "id": "e2bd7b83",
   "metadata": {},
   "source": [
    "### Example 1: Strong password length"
   ]
  },
  {
   "cell_type": "code",
   "execution_count": 94,
   "metadata": {},
   "outputs": [
    {
     "name": "stdout",
     "output_type": "stream",
     "text": [
      "Strong length\n"
     ]
    }
   ],
   "source": [
    "pw = input(\"Enter your password: \")\n",
    "if len(pw) >= 12:\n",
    "    print(\"Strong length\")\n",
    "else:\n",
    "    print(\"Too short\")"
   ]
  },
  {
   "cell_type": "markdown",
   "id": "edd8b009",
   "metadata": {},
   "source": [
    "### Example 2: Work Hours"
   ]
  },
  {
   "cell_type": "code",
   "execution_count": 116,
   "id": "af566cce",
   "metadata": {},
   "outputs": [
    {
     "name": "stdout",
     "output_type": "stream",
     "text": [
      "Access Denied: Outside of working hours\n"
     ]
    }
   ],
   "source": [
    "from datetime import datetime\n",
    "\n",
    "login_time = datetime.now()\n",
    "\n",
    "if login_time.hour < 8 or login_time.hour > 18:\n",
    "    print(\"Access Denied: Outside of working hours\")\n",
    "else:\n",
    "    print(\"Access Granted\")"
   ]
  },
  {
   "cell_type": "markdown",
   "id": "fdd7ef95",
   "metadata": {},
   "source": [
    "### Example 3: IP Blacklist"
   ]
  },
  {
   "cell_type": "code",
   "execution_count": 25,
   "id": "262559cc",
   "metadata": {},
   "outputs": [
    {
     "name": "stdout",
     "output_type": "stream",
     "text": [
      "Access denied\n"
     ]
    }
   ],
   "source": [
    "blacklisted_ips = {\"192.168.3.4\",\n",
    "                   \"192.168.3.54\",\n",
    "                   \"192.168.3.222\"}\n",
    "\n",
    "ip_address = \"192.168.3.4\"\n",
    "\n",
    "if ip_address in blacklisted_ips:\n",
    "    print(\"Access denied\")\n",
    "else:\n",
    "    print(\"Access granted\")"
   ]
  },
  {
   "cell_type": "markdown",
   "metadata": {},
   "source": [
    "### You Try: `if-else`\n",
    "Given `speed = 72`, print \"Speeding\" if `speed > 65`, else print \"OK\"."
   ]
  },
  {
   "cell_type": "markdown",
   "metadata": {
    "tags": [
     "solution"
    ]
   },
   "source": [
    "#### Solution\n",
    "```python\n",
    "speed = 72\n",
    "print(\"Speeding\" if speed > 65 else \"OK\")\n",
    "```"
   ]
  },
  {
   "cell_type": "markdown",
   "metadata": {},
   "source": [
    "## 5. `if-elif-else` Chains vs Nested `if`\n",
    "Prefer `elif` chains over deeply nested `if` for mutually exclusive conditions."
   ]
  },
  {
   "cell_type": "markdown",
   "id": "0f0fbff8",
   "metadata": {},
   "source": [
    "### Example 1: Number guessing hint with elif"
   ]
  },
  {
   "cell_type": "code",
   "execution_count": 93,
   "metadata": {},
   "outputs": [
    {
     "name": "stdout",
     "output_type": "stream",
     "text": [
      "Too low\n"
     ]
    }
   ],
   "source": [
    "import random\n",
    "secret = random.randint(1, 100)\n",
    "guess = int(input(\"Guess the secret number (1-100): \")) \n",
    "if guess < secret:\n",
    "    print(\"Too low\")\n",
    "elif guess > secret:\n",
    "    print(\"Too high\")\n",
    "else:\n",
    "    print(\"Correct\")"
   ]
  },
  {
   "cell_type": "markdown",
   "id": "e1796a88",
   "metadata": {},
   "source": [
    "### Example 2: Role access ladder"
   ]
  },
  {
   "cell_type": "code",
   "execution_count": 91,
   "metadata": {},
   "outputs": [
    {
     "name": "stdout",
     "output_type": "stream",
     "text": [
      "Access level=1 for role='user'\n"
     ]
    }
   ],
   "source": [
    "role = input(\"Enter your role (admin, analyst, user): \")\n",
    "if role == \"admin\":\n",
    "    level = 3\n",
    "elif role == \"analyst\":\n",
    "    level = 2\n",
    "else:\n",
    "    level = 1\n",
    "print(f'Access {level=} for {role=}')"
   ]
  },
  {
   "cell_type": "markdown",
   "metadata": {},
   "source": [
    "### You Try: `elif` Ladder\n",
    "Create an `elif` ladder that prints a letter grade A/B/C/D/F for a numeric score."
   ]
  },
  {
   "cell_type": "markdown",
   "metadata": {
    "tags": [
     "solution"
    ]
   },
   "source": [
    "#### Solution\n",
    "```python\n",
    "score = 87\n",
    "if score >= 90:\n",
    "    grade = \"A\"\n",
    "elif score >= 80:\n",
    "    grade = \"B\"\n",
    "elif score >= 70:\n",
    "    grade = \"C\"\n",
    "elif score >= 60:\n",
    "    grade = \"D\"\n",
    "else:\n",
    "    grade = \"F\"\n",
    "print(grade)\n",
    "```"
   ]
  },
  {
   "cell_type": "markdown",
   "metadata": {},
   "source": [
    "## 6. Multiple Distinct `if` vs `elif`\n",
    "`if` statements all evaluate; `elif` stops after the first true condition."
   ]
  },
  {
   "cell_type": "markdown",
   "id": "1a7bc211",
   "metadata": {},
   "source": [
    "### Example of Multiple if"
   ]
  },
  {
   "cell_type": "code",
   "execution_count": 90,
   "metadata": {},
   "outputs": [
    {
     "name": "stdout",
     "output_type": "stream",
     "text": [
      "Fizz\n"
     ]
    }
   ],
   "source": [
    "x = int(input(\"Enter an integer x: \"))\n",
    "if x % 3 == 0:\n",
    "    print(\"Fizz\")\n",
    "if x % 5 == 0:\n",
    "    print(\"Buzz\")"
   ]
  },
  {
   "cell_type": "markdown",
   "id": "6d77922e",
   "metadata": {},
   "source": [
    "### Example of elif (only one branch runs)"
   ]
  },
  {
   "cell_type": "code",
   "execution_count": 82,
   "metadata": {},
   "outputs": [
    {
     "name": "stdout",
     "output_type": "stream",
     "text": [
      "Buzz\n"
     ]
    }
   ],
   "source": [
    "y = int(input(\"Integer y: \"))\n",
    "if y % 3 == 0:\n",
    "    print(\"Fizz\")\n",
    "elif y % 5 == 0:\n",
    "    print(\"Buzz\")"
   ]
  },
  {
   "cell_type": "markdown",
   "metadata": {},
   "source": [
    "### You Try: Multiple `if` vs `elif`\n",
    "Given `n = 30`, show how `if` prints both labels while `elif` prints only one."
   ]
  },
  {
   "cell_type": "markdown",
   "metadata": {
    "tags": [
     "solution"
    ]
   },
   "source": [
    "#### Solution\n",
    "```python\n",
    "n = 30\n",
    "# Multiple if\n",
    "if n % 2 == 0:\n",
    "    print(\"Even\")\n",
    "if n % 3 == 0:\n",
    "    print(\"Divisible by 3\")\n",
    "\n",
    "# elif chain\n",
    "if n % 2 == 0:\n",
    "    print(\"Even\")\n",
    "elif n % 3 == 0:\n",
    "    print(\"Divisible by 3\")\n",
    "```"
   ]
  },
  {
   "cell_type": "markdown",
   "metadata": {},
   "source": [
    "## 7. Logical Operators (`and`, `or`, `not`)"
   ]
  },
  {
   "cell_type": "markdown",
   "id": "4e28c442",
   "metadata": {},
   "source": [
    "### Example 1: Compound condition"
   ]
  },
  {
   "cell_type": "code",
   "execution_count": 81,
   "metadata": {},
   "outputs": [
    {
     "name": "stdout",
     "output_type": "stream",
     "text": [
      "True\n"
     ]
    }
   ],
   "source": [
    "age, has_id = 21, True\n",
    "age = int(input(\"Enter your age: \"))\n",
    "has_id = input(\"Do you have an ID? (y/n): \")\n",
    "print(age >= 21 and has_id == 'y')"
   ]
  },
  {
   "cell_type": "markdown",
   "id": "327a1e39",
   "metadata": {},
   "source": [
    "### Example 2: Evaluation order with not"
   ]
  },
  {
   "cell_type": "code",
   "execution_count": 80,
   "metadata": {},
   "outputs": [
    {
     "name": "stdout",
     "output_type": "stream",
     "text": [
      "not ((y < 3) or (y > 7))=True\n"
     ]
    }
   ],
   "source": [
    "y = int(input(\"Integer y: \"))\n",
    "print(f\"{not ((y < 3) or (y > 7))=}\")"
   ]
  },
  {
   "cell_type": "markdown",
   "metadata": {},
   "source": [
    "### You Try: Logical Operators\n",
    "Use `and` and `not` to allow access only if `logged_in` is True and `account_locked` is False."
   ]
  },
  {
   "cell_type": "markdown",
   "metadata": {
    "tags": [
     "solution"
    ]
   },
   "source": [
    "#### Solution\n",
    "```python\n",
    "logged_in, account_locked = True, False\n",
    "print(logged_in and not account_locked)\n",
    "```"
   ]
  },
  {
   "cell_type": "markdown",
   "metadata": {},
   "source": [
    "## 8. Membership Operators (`in`, `not in`)"
   ]
  },
  {
   "cell_type": "markdown",
   "id": "9aaf4555",
   "metadata": {},
   "source": [
    "### Example 1: String membership"
   ]
  },
  {
   "cell_type": "code",
   "execution_count": 42,
   "metadata": {},
   "outputs": [
    {
     "name": "stdout",
     "output_type": "stream",
     "text": [
      "True\n",
      "False\n"
     ]
    }
   ],
   "source": [
    "print(\"book\" in \"subbookkeeper\")\n",
    "print(\"cat\" not in \"concatenate\")"
   ]
  },
  {
   "cell_type": "markdown",
   "id": "2a84bbd0",
   "metadata": {},
   "source": [
    "### Example 2: List membership"
   ]
  },
  {
   "cell_type": "code",
   "execution_count": 43,
   "metadata": {},
   "outputs": [
    {
     "name": "stdout",
     "output_type": "stream",
     "text": [
      "True\n",
      "True\n"
     ]
    }
   ],
   "source": [
    "ip_blacklist = [\"192.168.1.10\", \"10.0.0.5\"]\n",
    "print(\"10.0.0.5\" in ip_blacklist)\n",
    "print(\"172.16.0.2\" not in ip_blacklist)"
   ]
  },
  {
   "cell_type": "markdown",
   "metadata": {},
   "source": [
    "### You Try: Membership\n",
    "Given `trusted = {\"alice\", \"bob\"}`, check whether `\"carol\"` is trusted and print the result."
   ]
  },
  {
   "cell_type": "markdown",
   "metadata": {
    "tags": [
     "solution"
    ]
   },
   "source": [
    "#### Solution\n",
    "```python\n",
    "trusted = {\"alice\", \"bob\"}\n",
    "print(\"carol\" in trusted)\n",
    "```"
   ]
  },
  {
   "cell_type": "markdown",
   "metadata": {},
   "source": [
    "## 9. Identity Operators (`is`, `is not`)"
   ]
  },
  {
   "cell_type": "markdown",
   "id": "5f9a0f5e",
   "metadata": {},
   "source": [
    "### Example 1: Identity vs equality"
   ]
  },
  {
   "cell_type": "code",
   "execution_count": 44,
   "metadata": {},
   "outputs": [
    {
     "name": "stdout",
     "output_type": "stream",
     "text": [
      "True\n",
      "False\n"
     ]
    }
   ],
   "source": [
    "a = [1, 2]\n",
    "b = [1, 2]\n",
    "print(a == b)  # values equal\n",
    "print(a is b)  # different objects"
   ]
  },
  {
   "cell_type": "markdown",
   "id": "55d8941b",
   "metadata": {},
   "source": [
    "### Example 2: Small integers may reference same object"
   ]
  },
  {
   "cell_type": "code",
   "execution_count": 79,
   "metadata": {},
   "outputs": [
    {
     "name": "stdout",
     "output_type": "stream",
     "text": [
      "x is y=False, x is not y=True\n"
     ]
    }
   ],
   "source": [
    "x = int(input(\"Integer x: \"))\n",
    "y = int(input(\"Integer y: \")) \n",
    "print(f\"{x is y=}, {x is not y=}\")"
   ]
  },
  {
   "cell_type": "markdown",
   "metadata": {},
   "source": [
    "### You Try: Identity\n",
    "Create two identical tuples and test `==` and `is`. Explain the difference."
   ]
  },
  {
   "cell_type": "markdown",
   "metadata": {
    "tags": [
     "solution"
    ]
   },
   "source": [
    "#### Solution\n",
    "```python\n",
    "t1 = (1, 2, 3)\n",
    "t2 = (1, 2, 3)\n",
    "print(t1 == t2)  # same values\n",
    "print(t1 is t2)  # identity may be False\n",
    "```"
   ]
  },
  {
   "cell_type": "markdown",
   "metadata": {},
   "source": [
    "## 10. Equality and Relational Operators; Operator Chaining"
   ]
  },
  {
   "cell_type": "markdown",
   "id": "5c6cfba0",
   "metadata": {},
   "source": [
    "### Example 1: Basic comparisons"
   ]
  },
  {
   "cell_type": "code",
   "execution_count": null,
   "metadata": {},
   "outputs": [
    {
     "name": "stdout",
     "output_type": "stream",
     "text": [
      "a < b=True, a <= b=True, a == b=False, a != b=True, a > b=False, a >= b=False\n"
     ]
    }
   ],
   "source": [
    "a, b = int(input(\"First number: \")), int(input(\"Second number: \"))\n",
    "print(f\"{a < b=}, {a <= b=}, {a == b=}, {a != b=}, {a > b=}, {a >= b=}\")"
   ]
  },
  {
   "cell_type": "markdown",
   "id": "c1b63b9f",
   "metadata": {},
   "source": [
    "### Example 2: Chained comparisons"
   ]
  },
  {
   "cell_type": "code",
   "execution_count": 54,
   "metadata": {},
   "outputs": [
    {
     "name": "stdout",
     "output_type": "stream",
     "text": [
      "True\n",
      "True\n"
     ]
    }
   ],
   "source": [
    "x, y, z = 3, 5, 5\n",
    "print(0 < x < y <= z)\n",
    "print((0 < x) and (x < y) and (y <= z))"
   ]
  },
  {
   "cell_type": "markdown",
   "metadata": {},
   "source": [
    "### You Try: Chaining\n",
    "Check whether `t = 12` is between 5 and 20 (inclusive) using a chained comparison."
   ]
  },
  {
   "cell_type": "markdown",
   "metadata": {
    "tags": [
     "solution"
    ]
   },
   "source": [
    "#### Solution\n",
    "```python\n",
    "t = 12\n",
    "print(5 <= t <= 20)\n",
    "```"
   ]
  },
  {
   "cell_type": "markdown",
   "metadata": {},
   "source": [
    "## 11. Comparison Rules by Type\n",
    "- Numbers compare arithmetically\n",
    "- Strings compare lexicographically (case-sensitive)\n",
    "- Lists/tuples compare lexicographically element by element\n",
    "- Dicts only support `==` and `!=` and require same keys/values\n",
    "- Prefer `math.isclose` for float equality checks"
   ]
  },
  {
   "cell_type": "markdown",
   "id": "ee74979d",
   "metadata": {},
   "source": [
    "### Example 1: Sequence comparison"
   ]
  },
  {
   "cell_type": "code",
   "execution_count": 56,
   "metadata": {},
   "outputs": [
    {
     "name": "stdout",
     "output_type": "stream",
     "text": [
      "True\n",
      "True\n"
     ]
    }
   ],
   "source": [
    "print([1, 2, 3] < [1, 2, 4])\n",
    "print((1, 9) > (1, 2))"
   ]
  },
  {
   "cell_type": "markdown",
   "id": "c4f1dcdd",
   "metadata": {},
   "source": [
    "### Example 2: Dict equality"
   ]
  },
  {
   "cell_type": "code",
   "execution_count": 58,
   "metadata": {},
   "outputs": [
    {
     "name": "stdout",
     "output_type": "stream",
     "text": [
      "True\n",
      "False\n"
     ]
    }
   ],
   "source": [
    "d1 = {\"a\": 1, \"b\": 2}\n",
    "d2 = {\"b\": 2, \"a\": 1}\n",
    "print(d1 == d2)\n",
    "print(d1 != d2)"
   ]
  },
  {
   "cell_type": "markdown",
   "metadata": {},
   "source": [
    "### You Try: Float Equality\n",
    "Show an example where `==` fails for floats but `math.isclose` returns True."
   ]
  },
  {
   "cell_type": "markdown",
   "metadata": {
    "tags": [
     "solution"
    ]
   },
   "source": [
    "#### Solution\n",
    "```python\n",
    "import math\n",
    "a = 0.1 + 0.2\n",
    "b = 0.3\n",
    "print(a == b)\n",
    "print(math.isclose(a, b, rel_tol=1e-9))\n",
    "```"
   ]
  },
  {
   "cell_type": "markdown",
   "metadata": {},
   "source": [
    "## 12. Operator Precedence (from highest to lowest)\n",
    "1. Parentheses `()`\n",
    "2. Arithmetic `* / % + -`\n",
    "3. Relational/equality `< <= > >= == !=`\n",
    "4. Logical `not`\n",
    "5. Logical `and`\n",
    "6. Logical `or`"
   ]
  },
  {
   "cell_type": "markdown",
   "id": "181fb544",
   "metadata": {},
   "source": [
    "### Example 1: Precedence demonstration"
   ]
  },
  {
   "cell_type": "code",
   "execution_count": 76,
   "id": "180c1c01",
   "metadata": {},
   "outputs": [
    {
     "data": {
      "text/plain": [
       "(True, True)"
      ]
     },
     "execution_count": 76,
     "metadata": {},
     "output_type": "execute_result"
    }
   ],
   "source": [
    "x, y, z = 5, 10, 2\n",
    "expr1 = x + y * z < 30 or not (y % x == 0)\n",
    "expr2 = ((x + (y * z)) < 30) or (not ((y % x) == 0))\n",
    "expr1, expr2"
   ]
  },
  {
   "cell_type": "markdown",
   "id": "63ebe2e4",
   "metadata": {},
   "source": [
    "### Example 2: `and` vs `or` precedence"
   ]
  },
  {
   "cell_type": "code",
   "execution_count": 67,
   "metadata": {},
   "outputs": [
    {
     "name": "stdout",
     "output_type": "stream",
     "text": [
      "True\n",
      "True\n",
      "False\n"
     ]
    }
   ],
   "source": [
    "print((True or False and False))\n",
    "print((True or (False and False)))  # same\n",
    "print(((True or False) and False))"
   ]
  },
  {
   "cell_type": "markdown",
   "metadata": {},
   "source": [
    "### You Try: Precedence\n",
    "Evaluate `x == 5 or y > 10 and not z < 3` with `x=5, y=8, z=2` and explain why it is True or False."
   ]
  },
  {
   "cell_type": "markdown",
   "metadata": {
    "tags": [
     "solution"
    ]
   },
   "source": [
    "#### Solution\n",
    "```python\n",
    "x, y, z = 5, 8, 2\n",
    "result = x == 5 or y > 10 and not z < 3\n",
    "print(result)\n",
    "# and has higher precedence than or; not applies to (z < 3) first.\n",
    "```"
   ]
  },
  {
   "cell_type": "markdown",
   "metadata": {},
   "source": [
    "## 13. Code Blocks and Indentation\n",
    "- Blocks start after a colon and are defined by consistent indentation\n",
    "- Use 4 spaces per level; never mix tabs and spaces"
   ]
  },
  {
   "cell_type": "markdown",
   "id": "72797bea",
   "metadata": {},
   "source": [
    "### Example 1: Multiple blocks with varying lengths"
   ]
  },
  {
   "cell_type": "code",
   "execution_count": null,
   "metadata": {},
   "outputs": [
    {
     "name": "stdout",
     "output_type": "stream",
     "text": [
      "It's cold!\n"
     ]
    }
   ],
   "source": [
    "temperature = int(input(\"Enter the temperature in Fahrenheit: \"))\n",
    "if temperature < 40:\n",
    "    print(\"It's cold!\")\n",
    "    if temperature < 20:\n",
    "        print(\"Really cold!\")\n",
    "else:\n",
    "    print(\"Not too cold.\")"
   ]
  },
  {
   "cell_type": "markdown",
   "id": "f0ef9a7a",
   "metadata": {},
   "source": [
    "### Example 2: Long string split across lines (implicit join)"
   ]
  },
  {
   "cell_type": "code",
   "execution_count": 70,
   "metadata": {},
   "outputs": [
    {
     "name": "stdout",
     "output_type": "stream",
     "text": [
      "A long time ago in a galaxy far, far away... Episode IV: A New Hope. It is a period of civil war. Rebel spaceships, striking from a hidden base, have won their first victory against the evil Galactic Empire. \n"
     ]
    }
   ],
   "source": [
    "crawl = (\n",
    "    \"A long time ago in a galaxy far, far away... \"\n",
    "    \"Episode IV: A New Hope. \"\n",
    "    \"It is a period of civil war. Rebel spaceships, striking from a hidden base, \"\n",
    "    \"have won their first victory against the evil Galactic Empire. \"\n",
    ")\n",
    "print(crawl)"
   ]
  },
  {
   "cell_type": "markdown",
   "id": "1dccaad2",
   "metadata": {},
   "source": [
    "### Example 3: Long logical expressions with multiple operators and parentheses"
   ]
  },
  {
   "cell_type": "code",
   "execution_count": 77,
   "id": "e9106c51",
   "metadata": {},
   "outputs": [
    {
     "data": {
      "text/plain": [
       "(True, True)"
      ]
     },
     "execution_count": 77,
     "metadata": {},
     "output_type": "execute_result"
    }
   ],
   "source": [
    "x, y, z = int(input(\"Enter x: \")), \\\n",
    "    int(input(\"Enter y: \")), \\\n",
    "    int(input(\"Enter z: \"))\n",
    "expr1 = x + y * z < 30 or not (y % x == 0)\n",
    "expr2 = ((x + (y * z)) < 30) or (not ((y % x) == 0))\n",
    "expr1, expr2"
   ]
  },
  {
   "cell_type": "markdown",
   "metadata": {},
   "source": [
    "### You Try: Indentation\n",
    "Write a nested `if` that prints \"Minor\" if `age < 18`, and inside that block prints \"Teen\" if `13 <= age < 18`."
   ]
  },
  {
   "cell_type": "markdown",
   "metadata": {
    "tags": [
     "solution"
    ]
   },
   "source": [
    "#### Solution\n",
    "```python\n",
    "age = 15\n",
    "if age < 18:\n",
    "    print(\"Minor\")\n",
    "    if age >= 13:\n",
    "        print(\"Teen\")\n",
    "```"
   ]
  },
  {
   "cell_type": "markdown",
   "metadata": {},
   "source": [
    "## 14. Conditional Expressions (Ternary)\n",
    "`expr1 if conditional_expr else expr2`"
   ]
  },
  {
   "cell_type": "markdown",
   "id": "40fb1a27",
   "metadata": {},
   "source": [
    "### Example 1: Pass/Fail"
   ]
  },
  {
   "cell_type": "code",
   "execution_count": 72,
   "metadata": {},
   "outputs": [
    {
     "name": "stdout",
     "output_type": "stream",
     "text": [
      "Score: 32, Status: Fail\n"
     ]
    }
   ],
   "source": [
    "score = int(input(\"Enter your score: \"))\n",
    "status = \"Pass\" if score >= 70 else \"Fail\"\n",
    "print(f\"Score: {score}, Status: {status}\")"
   ]
  },
  {
   "cell_type": "markdown",
   "id": "3d542dc9",
   "metadata": {},
   "source": [
    "### Example 2: Blacklist decision"
   ]
  },
  {
   "cell_type": "code",
   "execution_count": 73,
   "metadata": {},
   "outputs": [
    {
     "name": "stdout",
     "output_type": "stream",
     "text": [
      "Allowed\n"
     ]
    }
   ],
   "source": [
    "blacklist = {\"10.0.0.5\", \"192.168.1.10\"}\n",
    "ip = \"10.0.0.8\"\n",
    "decision = \"Blocked\" if ip in blacklist else \"Allowed\"\n",
    "print(decision)"
   ]
  },
  {
   "cell_type": "markdown",
   "metadata": {},
   "source": [
    "### You Try: Ternary\n",
    "Use a ternary to set `mode` to `\"Hardcore\"` if `lives == 1`, else `\"Casual\"`."
   ]
  },
  {
   "cell_type": "markdown",
   "metadata": {
    "tags": [
     "solution"
    ]
   },
   "source": [
    "#### Solution\n",
    "```python\n",
    "lives = 1\n",
    "mode = \"Hardcore\" if lives == 1 else \"Casual\"\n",
    "print(mode)\n",
    "```"
   ]
  }
 ],
 "metadata": {
  "kernelspec": {
   "display_name": ".venv-1 (3.13.7)",
   "language": "python",
   "name": "python3"
  },
  "language_info": {
   "codemirror_mode": {
    "name": "ipython",
    "version": 3
   },
   "file_extension": ".py",
   "mimetype": "text/x-python",
   "name": "python",
   "nbconvert_exporter": "python",
   "pygments_lexer": "ipython3",
   "version": "3.13.7"
  }
 },
 "nbformat": 4,
 "nbformat_minor": 5
}
