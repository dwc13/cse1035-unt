{
 "cells": [
  {
   "cell_type": "markdown",
   "id": "618c07d0",
   "metadata": {},
   "source": [
    "# **Chapter 8: Lists and Dictionaries**"
   ]
  },
  {
   "cell_type": "markdown",
   "id": "23ae7e98",
   "metadata": {},
   "source": [
    "# Lists\n",
    "Lists are ordered collections of items. They are mutable, meaning you can change their contents after creation.\n",
    "- Use square brackets: `[ ]`\n",
    "- Can store any data type: numbers, strings, other lists\n",
    "- Items are accessed by index (starting at 0)"
   ]
  },
  {
   "cell_type": "markdown",
   "id": "c7617ab0",
   "metadata": {},
   "source": [
    "## Creating Lists\n",
    "- Use `[item1, item2, item3, ...]`\n",
    "- Can be empty: `[]`\n",
    "- list iterable: `list(range(5))` produces `[0, 1, 2, 3, 4]`\n",
    "- Can mix data types: `[int, string, float, ...]`\n",
    "- List in List: `[item1, item2-list1, item3, ...]`\n",
    "\n",
    "```python\n",
    "# Example: Creating lists\n",
    "numbers = [1, 2, 3, 4]\n",
    "print(numbers)          # [1, 2, 3, 4]\n",
    "empty = []\n",
    "print(empty)            # [] \n",
    "numbers = list(range(5))\n",
    "print(numbers)          # [0, 1, 2, 3, 4]\n",
    "mixed = [1, 'hello', 3.14]\n",
    "print(mixed)            # [1, 'hello', 3.14]\n",
    "list_in_list = [1, [2, 3], 4]\n",
    "print(list_in_list)     # [1, [2, 3], 4]\n",
    "```"
   ]
  },
  {
   "cell_type": "markdown",
   "id": "edbeaf59",
   "metadata": {},
   "source": [
    "## Accessing List Items\n",
    "- Use index: `list_name[index]`\n",
    "- Negative indices count from the end: `list_name[-1]` is the last item\n",
    "- Index out of range raises `IndexError`\n",
    "- Slices: `list_name[start:end:stride]` to get a sublist\n",
    "\n",
    "```python\n",
    "# Example: Accessing list items\n",
    "games = ['battlefield', 'minecraft', 'fortnite', 'call of duty', \n",
    "    'apex legends', 'valorant', 'csgo', 'overwatch']\n",
    "    # Index: battlefield(0), minecraft(1), fortnite(2), call of duty(3),\n",
    "    # apex legends(4), valorant(5), csgo(6), overwatch(7)\n",
    "    # Negative Index: battlefield(-8), minecraft(-7), fortnite(-6), call of duty(-5),\n",
    "    # apex legends(-4), valorant(-3), csgo(-2), overwatch(-1)\n",
    "\n",
    "print(games[0])    # battlefield\n",
    "print(games[-1])   # overwatch\n",
    "print(games[2:5])  # ['fortnite', 'call of duty', 'apex legends']\n",
    "print(games[::2])  # ['battlefield', 'fortnite', 'apex legends', 'csgo']\n",
    "print(games[10])   # Raises IndexError: list index out of range\n",
    "```"
   ]
  },
  {
   "cell_type": "markdown",
   "id": "3f92bfbe",
   "metadata": {},
   "source": [
    "## Modifying Lists\n",
    "- Assign new value: `list_name[index] = value`\n",
    "- Add items: `append()`, `insert()`\n",
    "- Extend list: `extend()`\n",
    "- Remove items: `remove()`, `pop()`, `del`\n",
    "\n",
    "```python\n",
    "# Example: Modifying lists\n",
    "colors = ['red', 'green', 'blue']\n",
    "colors[1] = 'yellow'\n",
    "colors.append('purple')\n",
    "colors.extend(['orange', 'pink'])\n",
    "print(colors)           # ['red', 'yellow', 'blue', 'purple', 'orange', 'pink']\n",
    "colors.remove('red')\n",
    "print(colors)           # ['yellow', 'blue', 'purple', 'orange', 'pink']\n",
    "```"
   ]
  },
  {
   "cell_type": "markdown",
   "id": "dffecc9d",
   "metadata": {},
   "source": [
    "## List Operations\n",
    "- Concatenation: `+`\n",
    "- Repetition: `*`\n",
    "- Index: `index(value)` returns the index of the first occurrence of value\n",
    "- Count: `count(value)` returns the number of occurrences of value\n",
    "- Length: `len(list_name)`\n",
    "\n",
    "```python\n",
    "# Example: List operations\n",
    "nums1 = [1, 2, 3, 4, 5]\n",
    "nums2 = [6, 7, 8]\n",
    "print(nums1 + nums2)    # [1, 2, 3, 4, 5, 6, 7, 8]\n",
    "print(nums2 * 2)        # [6, 7, 8, 6, 7, 8]\n",
    "\n",
    "numbers = [1, 2, 3, 4, 5, 4, 4, 4, 4]\n",
    "print(numbers.index(4))  # 3\n",
    "print(numbers.count(4))  # 5\n",
    "print(len(numbers))      # 9\n",
    "```"
   ]
  },
  {
   "cell_type": "markdown",
   "id": "f237db12",
   "metadata": {},
   "source": [
    "## Additional List Operations\n",
    "- `all()` elements are True\n",
    "- `any()` at least one element is True\n",
    "- `max()`, `min()` find largest/smallest item \n",
    "- `sum()` adds numeric items\n",
    "\n",
    "```python\n",
    "# Example: Additional list operations\n",
    "bools = [True, True, False]\n",
    "print(all(bools))        # False\n",
    "print(any(bools))        # True\n",
    "\n",
    "status = [1, 0, 1, 0]\n",
    "print(all(status))       # False\n",
    "print(any(status))       # True\n",
    "\n",
    "nums = [1, 2, 3, 4, 5]\n",
    "print(max(nums))         # 5\n",
    "print(min(nums))         # 1\n",
    "print(sum(nums))         # 15\n",
    "```"
   ]
  },
  {
   "cell_type": "markdown",
   "id": "14246bfb",
   "metadata": {},
   "source": [
    "## List Iteration\n",
    "- Use `for` loop to iterate through list items\n",
    "- Use `in` keyword to check membership\n",
    "- Use `not in` to check non-membership\n",
    "- Use `enumerate()` to get index and value\n",
    "\n",
    "```python\n",
    "# Example: List iteration\n",
    "board_games = ['chess', 'monopoly', 'clue']\n",
    "for game in board_games:\n",
    "    print(game) \n",
    "# Output:\n",
    "# chess\n",
    "# monopoly\n",
    "# clue\n",
    "\n",
    "print('chess' in board_games)      # True\n",
    "print('poker' not in board_games)  # True\n",
    "\n",
    "for index, game in enumerate(board_games):\n",
    "    print(index, game)\n",
    "# Output:\n",
    "# 0 chess\n",
    "# 1 monopoly\n",
    "# 2 clue\n",
    "```"
   ]
  },
  {
   "cell_type": "markdown",
   "id": "e897912e",
   "metadata": {},
   "source": [
    "## Exercise 1\n",
    "Create a list called `fruits` with the values 'apple', 'banana', and 'cherry'. Print the first and last item in the list."
   ]
  },
  {
   "cell_type": "code",
   "execution_count": 1,
   "id": "cbcbb057",
   "metadata": {},
   "outputs": [],
   "source": [
    "# You Try"
   ]
  },
  {
   "cell_type": "markdown",
   "id": "3ebfddb3",
   "metadata": {},
   "source": [
    "## Exercise 2\n",
    "Given a list `numbers = [5, 3, 8, 6, 7]`, add the value 10 to the end of the list, remove the value 3, and print the modified list."
   ]
  },
  {
   "cell_type": "code",
   "execution_count": 2,
   "id": "e17d5640",
   "metadata": {},
   "outputs": [],
   "source": [
    "# You Try"
   ]
  },
  {
   "cell_type": "markdown",
   "id": "28675cb0",
   "metadata": {},
   "source": [
    "## Exercise 3\n",
    "Create a list `grades = [88, 92, 75, 63, 95, 80]`. Print the number of grades above 80 and the average grade."
   ]
  },
  {
   "cell_type": "code",
   "execution_count": 3,
   "id": "18088b80",
   "metadata": {},
   "outputs": [],
   "source": [
    "# You Try"
   ]
  },
  {
   "cell_type": "markdown",
   "id": "eec7aa72",
   "metadata": {},
   "source": [
    "## List Nesting\n",
    "- Lists can contain other lists\n",
    "- Access nested items with multiple indices\n",
    "\n",
    "**Example:**\n",
    "```python\n",
    "nested_list = [1, [2, 3], [4, [5, 6]]]\n",
    "print(nested_list[1])        # [2, 3]\n",
    "print(nested_list[1][0])     # 2\n",
    "print(nested_list[2][1][1])  # 6\n",
    "``` \n",
    "or\n",
    "\n",
    "```python\n",
    "L = ['a', 'b', ['c', 'd', ['e', 'f'], 'g'], 'h', 'i']\n",
    "\n",
    "print(L[2][2][0])       # e\n",
    "# negative indexing\n",
    "print(L[-3][-2][-2])    # e\n",
    "```\n",
    "\n",
    "**Modifying nested lists**\n",
    "\n",
    "Add, insert, extend, remove, pop, del can be used on nested lists as well.\n",
    " \n",
    "```python\n",
    "L[1].append(4)\n",
    "print(L) # ['a', 'b', ['c', 'd', ['e', 'f'], 'g', 4], 'h', 'i']\n",
    "L[2][2].append(7)\n",
    "print(L) # ['a', 'b', ['c', 'd', ['e', 'f', 7], 'g', 4], 'h', 'i']\n",
    "L[2][2].remove('e')\n",
    "print(L) # ['a', 'b', ['c', 'd', ['f', 7], 'g', 4], 'h', 'i']\n",
    "del L[2][2][1]\n",
    "print(L) # ['a', 'b', ['c', 'd', ['f'], 'g', 4], 'h', 'i']\n",
    "L[2].insert(1, 'x')\n",
    "print(L) # ['a', 'b', ['c', 'x', 'd', ['f'], 'g', 4], 'h', 'i'] \n",
    "L[2].extend(['y', 'z'])\n",
    "print(L) # ['a', 'b', ['c', 'x', 'd', ['f'], 'g', 4, 'y', 'z'], 'h', 'i']\n",
    "L[2][2] = 'new_value'\n",
    "print(L) # ['a', 'b', ['c', 'x', 'new_value, ['f'], 'g', 4, 'y', 'z'], 'h', 'i']\n",
    "L[2][3].remove('f')\n",
    "print(L) # ['a', 'b', ['c', 'x', 'new_value, [], 'g', 4, 'y', 'z'], 'h', 'i']\n",
    "```"
   ]
  },
  {
   "cell_type": "markdown",
   "id": "cb268402",
   "metadata": {},
   "source": [
    "## Exercise 4\n",
    "Create a 2D list (matrix) with 3 rows and 4 columns, where each element is the sum of its row and column indices. Print the matrix row by row."
   ]
  },
  {
   "cell_type": "code",
   "execution_count": null,
   "id": "80b75a3a",
   "metadata": {},
   "outputs": [
    {
     "name": "stdout",
     "output_type": "stream",
     "text": [
      "[[0, 0, 0], [0, 1, 2], [0, 2, 4]]\n",
      "[0, 0, 0]\n",
      "[0, 1, 2]\n",
      "[0, 2, 4]\n"
     ]
    }
   ],
   "source": [
    "# You Try\n",
    "# prompt for row and columns\n",
    "row = int(input())\n",
    "col = int(input())\n",
    "\n",
    "\n",
    "matrix = []\n",
    "for r in range(row):\n",
    "  row_list = []\n",
    "  for c in range(col):\n",
    "    row_list.append(r*c)\n",
    "  matrix.append(row_list)\n",
    "\n",
    "\n",
    "\n",
    "print(matrix)\n",
    "\n",
    "for i in range(len(matrix)):\n",
    "  print(matrix[i])"
   ]
  },
  {
   "cell_type": "markdown",
   "id": "7b07959c",
   "metadata": {},
   "source": [
    "## List Comprehensions\n",
    "- Concise way to create lists\n",
    "- Syntax: `[expression for item in iterable if condition]`\n",
    "- Can include conditions to filter items\n",
    "\n",
    "```python\n",
    "# Example: List comprehensions\n",
    "squares = [x**2 for x in range(10)]\n",
    "print(squares)  # [0, 1, 4, 9, 16, 25, 36, 49, 64, 81]\n",
    "\n",
    "evens = [x for x in range(20) if x % 2 == 0]\n",
    "print(evens)    # [0, 2, 4, 6, 8, 10, 12, 14, 16, 18]\n",
    "```\n",
    "\n",
    "## Nested List Comprehensions\n",
    "- Used for creating lists from nested iterables\n",
    "- Syntax: `[expression for sublist in iterable for item in sublist if condition]`\n",
    "- Can flatten lists or apply transformations\n",
    "\n",
    "**List Comprehension as iterable**\n",
    "```python\n",
    "L = [3, 2, 4, 1]\n",
    "print([ elem*2 for elem in [x+1 for x in L] ])\n",
    "```\n",
    "\n",
    "**List Comprehension as expression**\n",
    "```python\n",
    "S = ['hello', 'world']\n",
    "print([ c for word in S for c in word ])\n",
    "# ['h', 'e', 'l', 'l', 'o', 'w', 'o', 'r', 'l', 'd']\n",
    "\n",
    "inner_list = [3, 2, 4]\n",
    "full_list = [[i for i in range(count)] for count in inner_list]\n",
    "print(full_list)\n",
    "# [[0, 1, 2], [0, 1], [0, 1, 2, 3]]\n",
    "```\n",
    "\n",
    "**Nested list comprehensions**\n",
    "```python\n",
    "matrix = [[1, 2, 3], [4, 5, 6], [7, 8, 9]]\n",
    "flattened = [num for row in matrix for num in row]\n",
    "print(flattened)  # [1, 2, 3, 4, 5, 6, 7, 8, 9]\n",
    "\n",
    "evens = [[num for num in row if num % 2 == 0] for row in matrix]\n",
    "print(evens)      # [[2], [4, 6], [8]]\n",
    "```"
   ]
  },
  {
   "cell_type": "markdown",
   "id": "00259fb3",
   "metadata": {},
   "source": [
    "## Exercise 5\n",
    "Use a list comprehension to create a list of all even numbers between 1 and 20 (inclusive). Print the resulting list."
   ]
  },
  {
   "cell_type": "code",
   "execution_count": 5,
   "id": "b8df2d26",
   "metadata": {},
   "outputs": [],
   "source": [
    "# You Try"
   ]
  },
  {
   "cell_type": "markdown",
   "id": "fbd255c0",
   "metadata": {},
   "source": [
    "## Exercise 6\n",
    "\n",
    "**List Nesting Exercises**\n",
    "\n",
    "2D List (Matrix)\n",
    "- User prompt for two digits: m (rows) and n (columns)\n",
    "- Create a two-dimensional array of size m x n\n",
    "  - Values of each element is the multiplication of its row and column indices\n",
    "- Print the 2D list in matrix format"
   ]
  },
  {
   "cell_type": "code",
   "execution_count": null,
   "id": "b7b23924",
   "metadata": {},
   "outputs": [],
   "source": [
    "# You Try"
   ]
  },
  {
   "cell_type": "markdown",
   "id": "e1877aa7",
   "metadata": {},
   "source": [
    "## List Sort and Reverse\n",
    "- Sort: `sort()` sorts the list in place\n",
    "- Reverse: `reverse()` reverses the list in place\n",
    "- `sorted(list_name)` returns a new sorted list without modifying the jerseys\n",
    "- `reversed(list_name)` returns an iterator that accesses the list in reverse order\n",
    "\n",
    "```python\n",
    "# Example: List ordering\n",
    "jerseys = [23, 45, 12, 7, 34]\n",
    "\n",
    "jerseys = jerseys.sort()  # Note: This will set jerseys to None because sort() returns None\n",
    "print(jerseys)          # None\n",
    "jerseys.sort()\n",
    "print(jerseys)          # [7, 12, 23, 34, 45]\n",
    "\n",
    "jerseys.reverse()\n",
    "print(jerseys)          # [45, 34, 23, 12, 7]\n",
    "\n",
    "sorted_jersey = sorted(jerseys)\n",
    "print(sorted_jersey)    # [1, 1, 3, 4, 5]\n",
    "print(jerseys)          # [3, 1, 4, 1, 5]\n",
    "\n",
    "reversed_jersey = list(reversed(jerseys))\n",
    "print(reversed_jersey)  # [5, 1, 4, 1, 3]\n",
    "print(jerseys)          # [3, 1, 4, 1, 5]\n",
    "```"
   ]
  },
  {
   "cell_type": "markdown",
   "id": "5e3dec25",
   "metadata": {},
   "source": [
    "## Exercise 7\n",
    "Given a list:\n",
    "\n",
    "`apostles = ['Peter', 'Andrew', 'James', 'John', 'Philip', 'Bartholomew', 'Thomas', 'Matthew', 'James', 'Thaddeus', 'Simon', 'Judas']`\n",
    "\n",
    "Sort the list alphabetically and print the sorted list. Then reverse the list and print it again.\n"
   ]
  },
  {
   "cell_type": "code",
   "execution_count": 7,
   "id": "2bf870db",
   "metadata": {},
   "outputs": [],
   "source": [
    "# You Try"
   ]
  },
  {
   "cell_type": "markdown",
   "id": "321bd6ab",
   "metadata": {},
   "source": [
    "## Exercise Answers\n",
    "### Exercise 1 Answer\n",
    "```python\n",
    "fruits = ['apple', 'banana', 'cherry']\n",
    "print(fruits[0])   # apple\n",
    "print(fruits[-1])  # cherry\n",
    "```\n",
    "\n",
    "### Exercise 2 Answer\n",
    "```python\n",
    "numbers = [5, 3, 8, 6, 7]\n",
    "numbers.append(10)\n",
    "numbers.remove(3)\n",
    "print(numbers)  # [5, 8, 6, 7, 10]\n",
    "```\n",
    "\n",
    "### Exercise 3 Answer\n",
    "```python\n",
    "grades = [88, 92, 75, 63, 95, 80]\n",
    "above_80 = [g for g in grades if g > 80]\n",
    "print(len(above_80))  # 3\n",
    "print(sum(grades)/len(grades))  # 82.166...\n",
    "```\n",
    "\n",
    "### Exercise 4 Answer\n",
    "```python\n",
    "m = int(input(\"Enter number of rows: \"))\n",
    "n = int(input(\"Enter number of columns: \"))\n",
    "matrix = []\n",
    "for i in range(m):\n",
    "    row = []\n",
    "    for j in range(n):\n",
    "        row.append(i * j)\n",
    "    matrix.append(row)\n",
    "\n",
    "for row in matrix:\n",
    "    print(row)\n",
    "```\n",
    "\n",
    "### Exercise 5 Answer\n",
    "```python\n",
    "evens = [x for x in range(1, 21) if x % 2 == 0]\n",
    "print(evens)\n",
    "```\n",
    "\n",
    "### Exercise 6 Answer\n",
    "```python\n",
    "m = int(input(\"Enter number of rows: \"))\n",
    "n = int(input(\"Enter number of columns: \"))\n",
    "matrix = []\n",
    "for i in range(m):\n",
    "    row = []\n",
    "    for j in range(n):\n",
    "        row.append(i * j)\n",
    "    matrix.append(row)\n",
    "\n",
    "for row in matrix:\n",
    "    print(row)\n",
    "``` \n",
    "\n",
    "### Exercise 7 Answer\n",
    "```python\n",
    "apostles = ['Peter', 'Andrew', 'James', 'John', 'Philip', 'Bartholomew', 'Thomas', 'Matthew', 'James', 'Thaddeus', 'Simon', 'Judas']\n",
    "\n",
    "# Sort alphabetically and print\n",
    "apostles.sort()\n",
    "print(\"Sorted list:\", apostles)\n",
    "\n",
    "# Reverse and print\n",
    "apostles.reverse()\n",
    "print(\"Reversed list:\", apostles)\n",
    "```"
   ]
  },
  {
   "cell_type": "markdown",
   "id": "6439c9f6",
   "metadata": {},
   "source": [
    "# Dictionaries\n",
    "Dictionaries are collections of key-value pairs. They are unordered and mutable.\n",
    "- Use curly braces: `{ }`\n",
    "- Keys must be unique and immutable (strings, numbers, tuples)"
   ]
  },
  {
   "cell_type": "markdown",
   "id": "20d3aa33",
   "metadata": {},
   "source": [
    "## Creating Dictionaries\n",
    "- Use `{key1: value1, key2: value2}`\n",
    "- Can be empty: `{}`\n",
    "\n",
    "```python\n",
    "# Example: Creating dictionaries\n",
    "student = {'name': 'Alex', 'age': 21}\n",
    "empty_dict = {}\n",
    "print(student)      # {'name': 'Alex', 'age': 21}\n",
    "print(empty_dict)   # {}\n",
    "```"
   ]
  },
  {
   "cell_type": "markdown",
   "id": "e4b2f4da",
   "metadata": {},
   "source": [
    "## Accessing Dictionary Items\n",
    "- Use key: `dict_name[key]`\n",
    "- Use `get()` method to avoid errors if key is missing\n",
    "\n",
    "```python\n",
    "# Example: Accessing dictionary items\n",
    "person = {'name': 'Sam', 'age': 30}\n",
    "print(person['name'])                    # Sam\n",
    "print(person.get('height'))              # None\n",
    "print(grades.get('phone', 'Not Found'))  # Not Found\n",
    "```"
   ]
  },
  {
   "cell_type": "markdown",
   "id": "a96a767c",
   "metadata": {},
   "source": [
    "## Modifying Dictionaries\n",
    "- Assign new value: `dict_name[key] = value`\n",
    "- Add new key-value pair: `dict_name[new_key] = new_value`\n",
    "- Remove items: `pop(key)`, `del dict_name[key]`\n",
    "- Clear all items: `clear()`\n",
    "- Merge dictionaries: `update()`\n",
    "\n",
    "```python\n",
    "# Example: Modifying dictionaries\n",
    "info = {'city': 'Denton', 'state': 'TX', 1: 'fun'}\n",
    "info['state'] = 'Texas'\n",
    "info['zip'] = 76201\n",
    "info.pop('city')\n",
    "del info[1]\n",
    "print(info)         # {'state': 'Texas', 'zip': 76201}\n",
    "info.clear()\n",
    "print(info)         # {}\n",
    "\n",
    "info2 = {'country': 'USA'}\n",
    "info.update(info2)\n",
    "print(info)         # {'state': 'Texas', 'zip': 76201, 'country': 'USA'}\n",
    "```"
   ]
  },
  {
   "cell_type": "markdown",
   "id": "8eed253f",
   "metadata": {},
   "source": [
    "## Exercise 1\n",
    "Create a dictionary called `student` with keys 'name', 'age', and 'major'. Assign values of your choice and print the dictionary."
   ]
  },
  {
   "cell_type": "code",
   "execution_count": null,
   "id": "397a8a66",
   "metadata": {},
   "outputs": [],
   "source": [
    "# You Try"
   ]
  },
  {
   "cell_type": "markdown",
   "id": "4346a893",
   "metadata": {},
   "source": [
    "## Dictionary Operations\n",
    "- Length: `len(dict_name)`\n",
    "- Keys: `dict_name.keys()`\n",
    "- Values: `dict_name.values()`\n",
    "- Items: `dict_name.items()`\n",
    "- Check existence: `key in dict_name`\n",
    "\n",
    "```python\n",
    "# Example: Dictionary operations\n",
    "grades = {'Alice': 90, 'Bob': 85, 'Cathy': 92}\n",
    "print(len(grades))           # 3\n",
    "print(grades.keys())         # dict_keys(['Alice', 'Bob', 'Cathy'])\n",
    "print(grades.values())       # dict_values([90, 85, 92])\n",
    "print(grades.items())        # dict_items([('Alice', 90), ('Bob', 85), ('Cathy', 92)])\n",
    "print('Bob' in grades)       # True\n",
    "```"
   ]
  },
  {
   "cell_type": "markdown",
   "id": "386b0c4e",
   "metadata": {},
   "source": [
    "## Exercise 2\n",
    "Given a dictionary `grades = {'Alice': 90, 'Bob': 85, 'Cathy': 92}`, add a new student 'David' with a grade of 88, remove 'Bob', and print the updated dictionary."
   ]
  },
  {
   "cell_type": "code",
   "execution_count": null,
   "id": "18b95cfd",
   "metadata": {},
   "outputs": [],
   "source": [
    "# You Try"
   ]
  },
  {
   "cell_type": "markdown",
   "id": "744f65cc",
   "metadata": {},
   "source": [
    "## Dictionary Iteration\n",
    "- Loop through keys: `for key in dict_name:`\n",
    "- Loop through values: `for value in dict_name.values():`\n",
    "- Loop through key-value pairs: `for key, value in dict_name.items():` \n",
    "\n",
    "```python\n",
    "# Example: Iterating through a dictionary\n",
    "scores = {'Math': 95, 'Science': 88, 'English': 92}\n",
    "for subject in scores:\n",
    "    print(subject)          # Prints each subject\n",
    "\n",
    "for score in scores.values():\n",
    "    print(score)            # Prints each score\n",
    "\n",
    "for subj, score in scores.items():\n",
    "    print(f\"{subj}: {score}\")  # Prints subject and score\n",
    "```"
   ]
  },
  {
   "cell_type": "markdown",
   "id": "ddf2056e",
   "metadata": {},
   "source": [
    "## Exercise 3\n",
    "\n",
    "Given the dictionary `scores = {'Alex': 17, 'Jordan': 23, 'Morgan': 21, 'Taylor': 19}`:\n",
    "\n",
    "- Print all the names (keys) in the dictionary.\n",
    "- Print all the scores (values) in the dictionary.\n",
    "- Print each name and score in the format: \"Alex scored 17 points\".\n",
    "- Print the names of everyone who scored at least 21 points."
   ]
  },
  {
   "cell_type": "code",
   "execution_count": null,
   "id": "b6c67320",
   "metadata": {},
   "outputs": [],
   "source": [
    "# You Try"
   ]
  },
  {
   "cell_type": "markdown",
   "id": "fd9ac9cc",
   "metadata": {},
   "source": [
    "## Dictionary Nesting\n",
    "- Dictionaries can contain other dictionaries or lists as values\n",
    "  \n",
    "```python\n",
    "# Example: Nested dictionaries\n",
    "student = {\n",
    "    'name': 'John',\n",
    "    'age': 22,\n",
    "    'courses': ['Math', 'Science'],\n",
    "    'address': {\n",
    "        'city': 'Denton',\n",
    "        'state': 'TX'\n",
    "    }\n",
    "}\n",
    "print(student['courses'][0])          # Math\n",
    "print(student['address']['city'])     # Denton"
   ]
  },
  {
   "cell_type": "markdown",
   "id": "bdbc9e92",
   "metadata": {},
   "source": [
    "## Exercise Answers\n",
    "\n",
    "\n",
    "\n",
    "### Exercise 1 Answer\n",
    "```python\n",
    "student = {'name': 'Alex', 'age': 21, 'major': 'Math'}\n",
    "print(student)\n",
    "```\n",
    "\n",
    "### Exercise 2 Answer\n",
    "```python\n",
    "grades = {'Alice': 90, 'Bob': 85, 'Cathy': 92}\n",
    "grades['David'] = 88\n",
    "del grades['Bob']\n",
    "print(grades)\n",
    "```\n",
    "\n",
    "### Exercise 3 Answer\n",
    "```python\n",
    "scores = {'Alex': 17, 'Jordan': 23, 'Morgan': 21, 'Taylor': 19}\n",
    "\n",
    "# Print all the names (keys)\n",
    "for name in scores:\n",
    "    print(name)\n",
    "\n",
    "# Print all the scores (values)\n",
    "for score in scores.values():\n",
    "    print(score)\n",
    "\n",
    "# Print each name and score in the format: \"Alex scored 17 points\"\n",
    "for name, score in scores.items():\n",
    "    print(f\"{name} scored {score} points\")\n",
    "\n",
    "# Print the names of everyone who scored at least 21 points\n",
    "for name, score in scores.items():\n",
    "    if score >= 21:\n",
    "        print(name)\n",
    "\n",
    "```"
   ]
  },
  {
   "cell_type": "markdown",
   "id": "fed69be3",
   "metadata": {},
   "source": [
    "# **Soccer Team Roster**\n",
    "Dictionary Exercise\n",
    "\n",
    "Create a program that store a soccer team roster and rating information using a dictionary.\n",
    "This is going to be used by Soccer Team Coaches to rate players during tryouts to ensure a balanced team.\n"
   ]
  },
  {
   "cell_type": "code",
   "execution_count": null,
   "id": "4ab3f3dd",
   "metadata": {},
   "outputs": [],
   "source": [
    "players = { 9:5, 32:9, 1:3 }"
   ]
  },
  {
   "cell_type": "markdown",
   "id": "02333a1b",
   "metadata": {},
   "source": [
    "## Coach Prompt\n",
    "\n",
    "Let design a simple program to input five pairs of player names and ratings, store them in a dictionary, and output a sorted dictionary's elements with jersey numbers in ascending order."
   ]
  },
  {
   "cell_type": "code",
   "execution_count": null,
   "id": "4adfd84f",
   "metadata": {},
   "outputs": [
    {
     "name": "stdout",
     "output_type": "stream",
     "text": [
      "*******Roster*******\n",
      "Jersey #01: Rating 3\n",
      "Jersey #09: Rating 5\n",
      "Jersey #32: Rating 9\n",
      "Jersey #65: Rating 4\n",
      "Jersey #99: Rating 9\n"
     ]
    }
   ],
   "source": [
    "players = { 9:5, 32:9, 1:3 }\n",
    "for _ in range(2):\n",
    "    player = input(\"Enter jersey number and rating: \").split()\n",
    "\n",
    "    jersey = int(player[0]) if player[0].isdigit() and 0 <= int(player[0]) <= 99 else None\n",
    "    rating = int(player[1]) if player[1].isdigit() and 1 <= int(player[1]) <= 9 else None\n",
    "\n",
    "    if jersey is not None and rating is not None:\n",
    "        players[jersey] = rating\n",
    "    else:\n",
    "        print(\"Invalid input. Jersey must be 0-99 and rating must be 1-9.\")\n",
    "\n",
    "print(f'{\"Roster\":*^20}')\n",
    "# Sort by rating\n",
    "for jersey, rating in sorted(players.items()):\n",
    "    print(f\"Jersey #{jersey:0>2}: Rating {rating}\")"
   ]
  },
  {
   "cell_type": "markdown",
   "id": "eccd02f0",
   "metadata": {},
   "source": [
    "## Menu Prompt\n",
    "\n",
    "Let's make this program more interactive and functional.\n",
    "\n",
    "The coach would like to manage the roster with a menu-driven interface.\n",
    "Therefore, let's implement a menu system that allows the coach to perform various operations on the roster.\n",
    "This would be done in a loop until the coach decides to quit.\n",
    "\n",
    "- Start program with menu options displayed for coaches to choose from.\n",
    "- Implement a menu of options for coaches to modify the roster.\n",
    "  - Each option is represented by a single character.\n",
    "  - End the program when the coach selects the 'q' option.\n",
    "- Do not implement the other functionalities yet, focus on the menu \n",
    "\n",
    "Menu System Output\n",
    "```terminal\n",
    "MENU\n",
    "  a - Add player\n",
    "  d - Remove player\n",
    "  u - Update player rating\n",
    "  r - Output players above a certain rating\n",
    "  o - Output roster\n",
    "  q - Quit\n",
    "```"
   ]
  },
  {
   "cell_type": "code",
   "execution_count": null,
   "id": "232ddd47",
   "metadata": {},
   "outputs": [],
   "source": []
  },
  {
   "cell_type": "markdown",
   "id": "c5d43c5d",
   "metadata": {},
   "source": [
    "## Output Roster\n",
    "\n",
    "Create a function that would print the roster in ascending order by jersey number. \n",
    "- Adjust the menu system to call this function when the coach selects the 'o' option.\n",
    "- print the roster in the format:\n",
    "\n",
    "```terminal\n",
    "*******Roster*******\n",
    "Jersey #01: Rating 3\n",
    "Jersey #09: Rating 5\n",
    "Jersey #32: Rating 9\n",
    "```"
   ]
  },
  {
   "cell_type": "code",
   "execution_count": null,
   "id": "61be8909",
   "metadata": {},
   "outputs": [],
   "source": []
  },
  {
   "cell_type": "markdown",
   "id": "c13b342a",
   "metadata": {},
   "source": [
    "## Add Player\n",
    "\n",
    "Add a new player to the roster based on the coach's input and update the roster dictionary.\n",
    "- Prompt the coach to enter a new player's jersey number and rating.\n",
    "- Add the new player to the roster dictionary.\n",
    "- Update the menu system to call this function when the coach selects the 'a' option.\n",
    "\n",
    "```terminal\n",
    "Enter jersey number and rating: 9 5\n",
    "Enter jersey number and rating: 32 9\n",
    "Enter jersey number and rating: 1 3\n",
    "```"
   ]
  },
  {
   "cell_type": "code",
   "execution_count": null,
   "id": "4f3525cf",
   "metadata": {},
   "outputs": [],
   "source": []
  },
  {
   "cell_type": "markdown",
   "id": "4b766a6c",
   "metadata": {},
   "source": [
    "## Remove Player\n",
    "\n",
    "Remove a player from the roster based on the coach's input and update the roster dictionary.\n",
    "- Prompt the coach to enter a player's jersey number to remove.\n",
    "- Remove the player from the roster dictionary if they exist.\n",
    "- Update the menu system to call this function when the coach selects the 'd' option.\n",
    " \n",
    "```terminal\n",
    "Enter a jersey number: 32\n",
    "```"
   ]
  },
  {
   "cell_type": "code",
   "execution_count": null,
   "id": "d44081ec",
   "metadata": {},
   "outputs": [],
   "source": []
  },
  {
   "cell_type": "markdown",
   "id": "75208a7b",
   "metadata": {},
   "source": [
    "## Update Player Rating\n",
    "\n",
    "Update a player's rating based on the coach's input and update the roster dictionary.\n",
    "- Prompt the coach to enter a player's jersey number\n",
    "- If player does not exist, do nothing.\n",
    "- If player does exist, prompt for new rating.\n",
    "- Update the player's rating in the roster dictionary.\n",
    "- Update the menu system to call this function when the coach selects the 'u' option.\n",
    "\n",
    "```terminal\n",
    "Enter a jersey number: 9\n",
    "Enter a new rating for player: 4\n",
    "```"
   ]
  },
  {
   "cell_type": "code",
   "execution_count": null,
   "id": "997c71cb",
   "metadata": {},
   "outputs": [],
   "source": []
  },
  {
   "cell_type": "markdown",
   "id": "e1d99eac",
   "metadata": {},
   "source": [
    "## Output Player Above Rating\n",
    "\n",
    "Output all players above a certain rating based on the coach's input.\n",
    "- Prompt the coach to enter a rating.\n",
    "- Print the jersey number and rating for all players with rating above the entered rating.\n",
    "- Update the menu system to call this function when the coach selects the 'r' option.\n",
    "  \n",
    "```terminal\n",
    "Enter a rating: 5\n",
    "\n",
    "ABOVE 5\n",
    "Jersey #09: Rating 5\n",
    "Jersey #32: Rating 9\n",
    "```\n"
   ]
  },
  {
   "cell_type": "code",
   "execution_count": null,
   "id": "0e182c09",
   "metadata": {},
   "outputs": [],
   "source": []
  }
 ],
 "metadata": {
  "kernelspec": {
   "display_name": "base",
   "language": "python",
   "name": "python3"
  },
  "language_info": {
   "codemirror_mode": {
    "name": "ipython",
    "version": 3
   },
   "file_extension": ".py",
   "mimetype": "text/x-python",
   "name": "python",
   "nbconvert_exporter": "python",
   "pygments_lexer": "ipython3",
   "version": "3.13.5"
  }
 },
 "nbformat": 4,
 "nbformat_minor": 5
}
