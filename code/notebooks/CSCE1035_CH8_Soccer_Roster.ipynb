{
 "cells": [
  {
   "cell_type": "markdown",
   "id": "fed69be3",
   "metadata": {},
   "source": [
    "# **Chapter 8 Soccer Team Roster**\n",
    "Dictionary Exercise\n",
    "\n",
    "Create a program that store a soccer team roster and rating information using a dictionary.\n",
    "This is going to be used by Soccer Team Coaches to rate players during tryouts to ensure a balanced team.\n"
   ]
  },
  {
   "cell_type": "code",
   "execution_count": 1,
   "id": "4ab3f3dd",
   "metadata": {},
   "outputs": [],
   "source": [
    "team = { 9:5, 32:9, 1:3 }"
   ]
  },
  {
   "cell_type": "markdown",
   "id": "02333a1b",
   "metadata": {},
   "source": [
    "## Coach Prompt\n",
    "\n",
    "Let design a simple program to input five pairs of player names and ratings, store them in a dictionary, and output a sorted dictionary's elements with jersey numbers in ascending order."
   ]
  },
  {
   "cell_type": "code",
   "execution_count": 13,
   "id": "4adfd84f",
   "metadata": {},
   "outputs": [
    {
     "name": "stdout",
     "output_type": "stream",
     "text": [
      "Invalid input. Jersey must be 0-99 and rating must be 1-9.\n",
      "jersey=None\n",
      "rating=9\n",
      "*******Roster*******\n",
      "Jersey #01: Rating 3\n",
      "Jersey #07: Rating 8\n",
      "Jersey #09: Rating 5\n",
      "Jersey #32: Rating 9\n",
      "Jersey #99: Rating 9\n"
     ]
    }
   ],
   "source": [
    "for _ in range(2):\n",
    "    player = input(\"Enter jersey number and rating: \").split()\n",
    "    \n",
    "    jersey = int(player[0]) if player[0].isdigit() and 0 <= int(player[0]) <= 99 else None\n",
    "    rating = int(player[1]) if player[1].isdigit() and 1 <= int(player[1]) <= 9 else None\n",
    "\n",
    "    if jersey is not None and rating is not None:\n",
    "        team[jersey] = rating\n",
    "    else:\n",
    "        print(\"Invalid input. Jersey must be 0-99 and rating must be 1-9.\")\n",
    "        print(f\"{jersey=}\\n{rating=}\")\n",
    "\n",
    "print(f'{\"Roster\":*^20}')\n",
    "# Sort by rating\n",
    "for jersey, rating in sorted(team.items()):\n",
    "    print(f\"Jersey #{jersey:0>2}: Rating {rating}\")"
   ]
  },
  {
   "cell_type": "markdown",
   "id": "eccd02f0",
   "metadata": {},
   "source": [
    "## Menu Prompt\n",
    "\n",
    "Let's make this program more interactive and functional.\n",
    "\n",
    "The coach would like to manage the roster with a menu-driven interface.\n",
    "Therefore, let's implement a menu system that allows the coach to perform various operations on the roster.\n",
    "This would be done in a loop until the coach decides to quit.\n",
    "\n",
    "- Start program with menu options displayed for coaches to choose from.\n",
    "- Implement a menu of options for coaches to modify the roster.\n",
    "  - Each option is represented by a single character.\n",
    "  - End the program when the coach selects the 'q' option.\n",
    "- Do not implement the other functionalities yet, focus on the menu \n",
    "\n",
    "Menu System Output\n",
    "```terminal\n",
    "MENU\n",
    "  a - Add player\n",
    "  d - Remove player\n",
    "  u - Update player rating\n",
    "  r - Output players above a certain rating\n",
    "  o - Output roster\n",
    "  q - Quit\n",
    "```"
   ]
  },
  {
   "cell_type": "code",
   "execution_count": 2,
   "id": "232ddd47",
   "metadata": {},
   "outputs": [],
   "source": [
    "def display_menu():\n",
    "    \"\"\"\n",
    "    Display the menu options and return the user's choice.\n",
    "    \n",
    "    Returns:\n",
    "        str: The user's menu choice (lowercase)\n",
    "    \"\"\"\n",
    "    print(\"MENU\")\n",
    "    print(\"  a - Add player\")\n",
    "    print(\"  d - Remove player\")\n",
    "    print(\"  u - Update player rating\")\n",
    "    print(\"  r - Output players above a certain rating\")\n",
    "    print(\"  o - Output roster\")\n",
    "    print(\"  q - Quit\")\n",
    "    \n",
    "    choice = input(\"\\nChoose an option: \").lower()\n",
    "    return choice"
   ]
  },
  {
   "cell_type": "code",
   "execution_count": null,
   "id": "5fa28f55",
   "metadata": {},
   "outputs": [],
   "source": [
    "print(display_menu())"
   ]
  },
  {
   "cell_type": "markdown",
   "id": "c5d43c5d",
   "metadata": {},
   "source": [
    "## Output Roster\n",
    "\n",
    "Create a function that would print the roster in ascending order by jersey number. \n",
    "- Adjust the menu system to call this function when the coach selects the 'o' option.\n",
    "- print the roster in the format:\n",
    "\n",
    "```terminal\n",
    "*******Roster*******\n",
    "Jersey #01: Rating 3\n",
    "Jersey #09: Rating 5\n",
    "Jersey #32: Rating 9\n",
    "```"
   ]
  },
  {
   "cell_type": "code",
   "execution_count": null,
   "id": "61be8909",
   "metadata": {},
   "outputs": [],
   "source": [
    "def output_roster(team_dict):\n",
    "    \"\"\"\n",
    "    Print the team roster sorted by jersey number.\n",
    "    \n",
    "    Args:\n",
    "        team_dict: Dictionary with jersey numbers as keys and ratings as values\n",
    "    \"\"\"\n",
    "    print(f'{\"Roster\":*^20}')\n",
    "    # Sort by jersey number (which is the dictionary key)\n",
    "    for jersey, rating in sorted(team_dict.items()):\n",
    "        print(f\"Jersey #{jersey:0>2}: Rating {rating}\")"
   ]
  },
  {
   "cell_type": "code",
   "execution_count": null,
   "id": "0c518870",
   "metadata": {},
   "outputs": [],
   "source": [
    "output_roster(team)"
   ]
  },
  {
   "cell_type": "markdown",
   "id": "c13b342a",
   "metadata": {},
   "source": [
    "## Add Player\n",
    "\n",
    "Add a new player to the roster based on the coach's input and update the roster dictionary.\n",
    "- Prompt the coach to enter a new player's jersey number and rating.\n",
    "- Add the new player to the roster dictionary.\n",
    "- Update the menu system to call this function when the coach selects the 'a' option.\n",
    "\n",
    "```terminal\n",
    "Enter jersey number and rating: 9 5\n",
    "Enter jersey number and rating: 32 9\n",
    "Enter jersey number and rating: 1 3\n",
    "```"
   ]
  },
  {
   "cell_type": "code",
   "execution_count": 14,
   "id": "4f3525cf",
   "metadata": {},
   "outputs": [],
   "source": [
    "def add_player():\n",
    "    \"\"\"\n",
    "    Add a new player to the team roster.\n",
    "    \"\"\"\n",
    "    jersey_input = input(\"Enter jersey number (0-99): \")\n",
    "    \n",
    "    jersey = int(jersey_input) if jersey_input.isdigit() and 0 <= int(jersey_input) <= 99 else None\n",
    "    # Validate jersey number\n",
    "    if jersey is None:\n",
    "        print(\"Invalid jersey number. Must be between 0 and 99.\")\n",
    "        return\n",
    "        \n",
    "    # Check if jersey number already exists\n",
    "    if jersey in team:\n",
    "        print(f\"Jersey number {jersey} is already assigned. Use update option to change rating.\")\n",
    "        return\n",
    "        \n",
    "    rating_input = input(\"Enter player rating (1-9): \")\n",
    "    \n",
    "    rating = int(rating_input) if rating_input.isdigit() and 0 <= int(rating_input) <= 9 else None\n",
    "    # Validate rating\n",
    "    if rating is None:\n",
    "        print(\"Invalid rating. Must be between 1 and 9.\")\n",
    "        return\n",
    "        \n",
    "    # Add player to the team\n",
    "    team[jersey] = rating\n",
    "    print(f\"Player with jersey #{jersey:0>2} and rating {rating} added successfully.\")\n"
   ]
  },
  {
   "cell_type": "code",
   "execution_count": 26,
   "id": "93109dd2",
   "metadata": {},
   "outputs": [
    {
     "name": "stdout",
     "output_type": "stream",
     "text": [
      "Player with jersey #98 and rating 8 added successfully.\n",
      "*******Roster*******\n",
      "Jersey #01: Rating 3\n",
      "Jersey #09: Rating 5\n",
      "Jersey #32: Rating 9\n",
      "Jersey #98: Rating 8\n",
      "Jersey #99: Rating 9\n"
     ]
    }
   ],
   "source": [
    "add_player()\n",
    "output_roster(team)"
   ]
  },
  {
   "cell_type": "markdown",
   "id": "4b766a6c",
   "metadata": {},
   "source": [
    "## Remove Player\n",
    "\n",
    "Remove a player from the roster based on the coach's input and update the roster dictionary.\n",
    "- Prompt the coach to enter a player's jersey number to remove.\n",
    "- Remove the player from the roster dictionary if they exist.\n",
    "- Update the menu system to call this function when the coach selects the 'd' option.\n",
    " \n",
    "```terminal\n",
    "Enter a jersey number: 32\n",
    "```"
   ]
  },
  {
   "cell_type": "code",
   "execution_count": 15,
   "id": "d44081ec",
   "metadata": {},
   "outputs": [],
   "source": [
    "def remove_player():\n",
    "    \"\"\"\n",
    "    Remove a player from the team roster.\n",
    "    \"\"\"\n",
    "    if not team:\n",
    "        print(\"Roster is empty. No players to remove.\")\n",
    "        return\n",
    "        \n",
    "    jersey_input = input(\"Enter jersey number to remove (0-99): \")\n",
    "    jersey = int(jersey_input) if jersey_input.isdigit() and 0 <= int(jersey_input) <= 99 else None\n",
    "    # Validate jersey number\n",
    "    if jersey is None:\n",
    "        print(\"Invalid jersey number. Must be between 0 and 99.\")\n",
    "        return\n",
    "    \n",
    "    # Check if jersey number exists\n",
    "    if jersey in team:\n",
    "        del team[jersey]\n",
    "        print(f\"Player with jersey #{jersey:0>2} removed successfully.\")\n",
    "    else:\n",
    "        print(f\"Jersey number {jersey} not found in the roster.\")\n"
   ]
  },
  {
   "cell_type": "code",
   "execution_count": null,
   "id": "855f7a10",
   "metadata": {},
   "outputs": [
    {
     "name": "stdout",
     "output_type": "stream",
     "text": [
      "Player with jersey #98 removed successfully.\n",
      "*******Roster*******\n",
      "Jersey #01: Rating 3\n",
      "Jersey #09: Rating 5\n",
      "Jersey #32: Rating 9\n",
      "Jersey #99: Rating 9\n"
     ]
    }
   ],
   "source": [
    "remove_player()\n",
    "output_roster(team)"
   ]
  },
  {
   "cell_type": "markdown",
   "id": "75208a7b",
   "metadata": {},
   "source": [
    "## Update Player Rating\n",
    "\n",
    "Update a player's rating based on the coach's input and update the roster dictionary.\n",
    "- Prompt the coach to enter a player's jersey number\n",
    "- If player does not exist, do nothing.\n",
    "- If player does exist, prompt for new rating.\n",
    "- Update the player's rating in the roster dictionary.\n",
    "- Update the menu system to call this function when the coach selects the 'u' option.\n",
    "\n",
    "```terminal\n",
    "Enter a jersey number: 9\n",
    "Enter a new rating for player: 4\n",
    "```"
   ]
  },
  {
   "cell_type": "code",
   "execution_count": 16,
   "id": "997c71cb",
   "metadata": {},
   "outputs": [],
   "source": [
    "def update_player_rating():\n",
    "    \"\"\"\n",
    "    Update the rating of an existing player.\n",
    "    \"\"\"\n",
    "    if not team:\n",
    "        print(\"Roster is empty. No players to update.\")\n",
    "        return\n",
    "        \n",
    "    jersey_input = input(\"Enter jersey number to update (0-99): \")\n",
    "    jersey = int(jersey_input) if jersey_input.isdigit() and 0 <= int(jersey_input) <= 99 else None\n",
    "    # Validate jersey number\n",
    "    if jersey is None:\n",
    "        print(\"Invalid jersey number. Must be between 0 and 99.\")\n",
    "        return\n",
    "    \n",
    "    # Check if jersey number exists\n",
    "    if jersey in team:\n",
    "        current_rating = team[jersey]\n",
    "        print(f\"Current Rating for Jersey #{jersey:0>2}: {current_rating}\")\n",
    "        \n",
    "        rating_input = input(\"Enter new rating (1-9): \")\n",
    "        rating = int(rating_input) if rating_input.isdigit() and 0 <= int(rating_input) <= 9 else None\n",
    "        # Validate rating\n",
    "        if rating is None:\n",
    "            print(\"Invalid rating. Must be between 1 and 9.\")\n",
    "            return\n",
    "        else:\n",
    "            team[jersey] = rating\n",
    "            print(f\"Rating for Jersey #{jersey:0>2} updated from {current_rating} to {rating}.\")\n",
    "    else:\n",
    "        print(f\"Jersey number {jersey} not found in the roster.\")"
   ]
  },
  {
   "cell_type": "code",
   "execution_count": 29,
   "id": "51a63b77",
   "metadata": {},
   "outputs": [
    {
     "name": "stdout",
     "output_type": "stream",
     "text": [
      "Current rating for jersey #01: 3\n",
      "Rating for jersey #01 updated from 3 to 4.\n",
      "*******Roster*******\n",
      "Jersey #01: Rating 4\n",
      "Jersey #09: Rating 5\n",
      "Jersey #32: Rating 9\n",
      "Jersey #99: Rating 9\n"
     ]
    }
   ],
   "source": [
    "update_player_rating()\n",
    "output_roster(team)"
   ]
  },
  {
   "cell_type": "markdown",
   "id": "e1d99eac",
   "metadata": {},
   "source": [
    "## Output Player Above Rating\n",
    "\n",
    "Output all players above a certain rating based on the coach's input.\n",
    "- Prompt the coach to enter a rating.\n",
    "- Print the jersey number and rating for all players with rating above the entered rating.\n",
    "- Update the menu system to call this function when the coach selects the 'r' option.\n",
    "  \n",
    "```terminal\n",
    "Enter a rating: 5\n",
    "\n",
    "ABOVE 5\n",
    "Jersey #09: Rating 5\n",
    "Jersey #32: Rating 9\n",
    "```\n"
   ]
  },
  {
   "cell_type": "code",
   "execution_count": 17,
   "id": "0e182c09",
   "metadata": {},
   "outputs": [],
   "source": [
    "def output_above_rating(team_dict):\n",
    "    \"\"\"\n",
    "    Display players with ratings above a specified threshold.\n",
    "    \n",
    "    Args:\n",
    "        team_dict: Copy of dictionary with jersey numbers as keys and ratings as values\n",
    "    \"\"\"\n",
    "    if not team_dict:\n",
    "        print(\"Roster is empty. No players to filter.\")\n",
    "        return\n",
    "        \n",
    "    rating_input = input(\"Enter minimum rating (1-9): \")\n",
    "    min_rating = int(rating_input) if rating_input.isdigit() and 0 <= int(rating_input) <= 9 else None\n",
    "    \n",
    "    # Validate rating\n",
    "    if min_rating is None:\n",
    "        print(\"Invalid rating threshold. Must be between 1 and 9.\")\n",
    "        return\n",
    "        \n",
    "    # Filter and display players above the rating\n",
    "    print(f'\\nPlayers with rating above {min_rating}:')\n",
    "    print(f'{\"Roster above rating \" + str(min_rating):*^30}')\n",
    "    \n",
    "    # Find players with ratings above the threshold\n",
    "    above_rating = {jersey: rating for jersey, rating in team_dict.items() if rating > min_rating}\n",
    "    \n",
    "    if above_rating:\n",
    "        # Sort by jersey number and display\n",
    "        for jersey, rating in sorted(above_rating.items()):\n",
    "            print(f\"Jersey #{jersey:0>2}: Rating {rating}\")\n",
    "    else:\n",
    "        print(f\"No players found with rating above {min_rating}.\")"
   ]
  },
  {
   "cell_type": "code",
   "execution_count": 32,
   "id": "fb0a851e",
   "metadata": {},
   "outputs": [
    {
     "name": "stdout",
     "output_type": "stream",
     "text": [
      "\n",
      "Players with rating above 3:\n",
      "****Roster above rating 3*****\n",
      "Jersey #01: Rating 4\n",
      "Jersey #09: Rating 5\n",
      "Jersey #32: Rating 9\n",
      "Jersey #99: Rating 9\n"
     ]
    }
   ],
   "source": [
    "output_above_rating(team)"
   ]
  },
  {
   "cell_type": "markdown",
   "id": "0975936f",
   "metadata": {},
   "source": [
    "# MAIN"
   ]
  },
  {
   "cell_type": "code",
   "execution_count": 18,
   "id": "ce5d87f0",
   "metadata": {},
   "outputs": [
    {
     "name": "stdout",
     "output_type": "stream",
     "text": [
      "MENU\n",
      "  a - Add player\n",
      "  d - Remove player\n",
      "  u - Update player rating\n",
      "  r - Output players above a certain rating\n",
      "  o - Output roster\n",
      "  q - Quit\n",
      "Invalid jersey number. Must be between 0 and 99.\n",
      "\n",
      "----------------------------------------\n",
      "\n",
      "MENU\n",
      "  a - Add player\n",
      "  d - Remove player\n",
      "  u - Update player rating\n",
      "  r - Output players above a certain rating\n",
      "  o - Output roster\n",
      "  q - Quit\n",
      "Invalid jersey number. Must be between 0 and 99.\n",
      "\n",
      "----------------------------------------\n",
      "\n",
      "MENU\n",
      "  a - Add player\n",
      "  d - Remove player\n",
      "  u - Update player rating\n",
      "  r - Output players above a certain rating\n",
      "  o - Output roster\n",
      "  q - Quit\n",
      "*******Roster*******\n",
      "Jersey #01: Rating 3\n",
      "Jersey #07: Rating 8\n",
      "Jersey #09: Rating 5\n",
      "Jersey #32: Rating 9\n",
      "Jersey #99: Rating 9\n",
      "\n",
      "----------------------------------------\n",
      "\n",
      "MENU\n",
      "  a - Add player\n",
      "  d - Remove player\n",
      "  u - Update player rating\n",
      "  r - Output players above a certain rating\n",
      "  o - Output roster\n",
      "  q - Quit\n",
      "Player with jersey #99 removed successfully.\n",
      "\n",
      "----------------------------------------\n",
      "\n",
      "MENU\n",
      "  a - Add player\n",
      "  d - Remove player\n",
      "  u - Update player rating\n",
      "  r - Output players above a certain rating\n",
      "  o - Output roster\n",
      "  q - Quit\n",
      "*******Roster*******\n",
      "Jersey #01: Rating 3\n",
      "Jersey #07: Rating 8\n",
      "Jersey #09: Rating 5\n",
      "Jersey #32: Rating 9\n",
      "\n",
      "----------------------------------------\n",
      "\n",
      "MENU\n",
      "  a - Add player\n",
      "  d - Remove player\n",
      "  u - Update player rating\n",
      "  r - Output players above a certain rating\n",
      "  o - Output roster\n",
      "  q - Quit\n",
      "Current Rating for Jersey #07: 8\n",
      "Invalid rating. Must be between 1 and 9.\n",
      "\n",
      "----------------------------------------\n",
      "\n",
      "MENU\n",
      "  a - Add player\n",
      "  d - Remove player\n",
      "  u - Update player rating\n",
      "  r - Output players above a certain rating\n",
      "  o - Output roster\n",
      "  q - Quit\n",
      "Current Rating for Jersey #07: 8\n",
      "Rating for Jersey #07 updated from 8 to 4.\n",
      "\n",
      "----------------------------------------\n",
      "\n",
      "MENU\n",
      "  a - Add player\n",
      "  d - Remove player\n",
      "  u - Update player rating\n",
      "  r - Output players above a certain rating\n",
      "  o - Output roster\n",
      "  q - Quit\n",
      "*******Roster*******\n",
      "Jersey #01: Rating 3\n",
      "Jersey #07: Rating 4\n",
      "Jersey #09: Rating 5\n",
      "Jersey #32: Rating 9\n",
      "\n",
      "----------------------------------------\n",
      "\n",
      "MENU\n",
      "  a - Add player\n",
      "  d - Remove player\n",
      "  u - Update player rating\n",
      "  r - Output players above a certain rating\n",
      "  o - Output roster\n",
      "  q - Quit\n",
      "\n",
      "Exiting program. Goodbye!\n"
     ]
    }
   ],
   "source": [
    "# Main program that combines all functionality\n",
    "\n",
    "# Menu loop with all functions\n",
    "def run_soccer_roster_program():\n",
    "    \"\"\"Run the complete soccer roster program with all features.\"\"\"\n",
    "    choice = ''\n",
    "    while choice != 'q':\n",
    "        choice = display_menu()\n",
    "        \n",
    "        if choice == 'a':\n",
    "            add_player()\n",
    "        elif choice == 'd':\n",
    "            remove_player()\n",
    "        elif choice == 'u':\n",
    "            update_player_rating()\n",
    "        elif choice == 'r':\n",
    "            output_above_rating(team)\n",
    "        elif choice == 'o':\n",
    "            output_roster(team)\n",
    "        elif choice == 'q':\n",
    "            print(\"\\nExiting program. Goodbye!\")\n",
    "        else:\n",
    "            print(\"\\nInvalid choice. Please try again.\")\n",
    "        \n",
    "        # Add a separator between menu iterations for better readability\n",
    "        if choice != 'q':\n",
    "            print(\"\\n\" + \"-\" * 40 + \"\\n\")\n",
    "\n",
    "if __name__ == \"__main__\":\n",
    "    run_soccer_roster_program()"
   ]
  }
 ],
 "metadata": {
  "kernelspec": {
   "display_name": "base",
   "language": "python",
   "name": "python3"
  },
  "language_info": {
   "codemirror_mode": {
    "name": "ipython",
    "version": 3
   },
   "file_extension": ".py",
   "mimetype": "text/x-python",
   "name": "python",
   "nbconvert_exporter": "python",
   "pygments_lexer": "ipython3",
   "version": "3.13.5"
  }
 },
 "nbformat": 4,
 "nbformat_minor": 5
}
