{
  "cells": [
    {
      "cell_type": "markdown",
      "id": "si0UrfDfDkJ0",
      "metadata": {
        "id": "si0UrfDfDkJ0"
      },
      "source": [
        "# **Chapter 6: Functions**"
      ]
    },
    {
      "cell_type": "markdown",
      "id": "84174ff6",
      "metadata": {
        "id": "84174ff6"
      },
      "source": [
        "# Motivation for Functions"
      ]
    },
    {
      "cell_type": "markdown",
      "id": "x2ehhaEODkJ1",
      "metadata": {
        "id": "x2ehhaEODkJ1"
      },
      "source": [
        "## Concept Explanation\n",
        "Functions let us organize code into smaller, reusable pieces.\n",
        "Benefits:\n",
        "- Simpler code\n",
        "- Code re-use\n",
        "- Easier debugging\n",
        "- Faster teamwork"
      ]
    },
    {
      "cell_type": "markdown",
      "id": "dfcaeb38",
      "metadata": {
        "id": "dfcaeb38"
      },
      "source": [
        "## Example 1\n",
        "\n",
        "Re-using Code with Functions"
      ]
    },
    {
      "cell_type": "code",
      "execution_count": 1,
      "id": "56917c5c",
      "metadata": {
        "id": "56917c5c",
        "outputId": "debae1e6-9935-45e7-e272-fadf042fa75a"
      },
      "outputs": [
        {
          "name": "stdout",
          "output_type": "stream",
          "text": [
            "Hello, . Today is .\n"
          ]
        }
      ],
      "source": [
        "name = input('Name: ')\n",
        "day = input('Day: ')\n",
        "print('Hello,', name + '. Today is', day + '.')"
      ]
    },
    {
      "cell_type": "code",
      "execution_count": 25,
      "id": "tYtnpaY9DkJ3",
      "metadata": {
        "id": "tYtnpaY9DkJ3",
        "outputId": "bb2256ed-4991-41db-90b9-34b73d359754"
      },
      "outputs": [
        {
          "name": "stdout",
          "output_type": "stream",
          "text": [
            "Hello, . Today is .\n",
            "Hello, . Today is .\n",
            "Hello, . Today is .\n"
          ]
        }
      ],
      "source": [
        "def greet():\n",
        "    name = input('Name: ')\n",
        "    day = input('Day: ')\n",
        "    print('Hello,', name + '. Today is', day + '.')\n",
        "\n",
        "greet()\n",
        "greet()\n",
        "greet()"
      ]
    },
    {
      "cell_type": "markdown",
      "id": "f2f8e155",
      "metadata": {
        "id": "f2f8e155"
      },
      "source": [
        "## Example 2\n",
        "\n",
        "Creating a function as a Daily Reminder"
      ]
    },
    {
      "cell_type": "code",
      "execution_count": 26,
      "id": "CNPQt5myDkJ4",
      "metadata": {
        "id": "CNPQt5myDkJ4"
      },
      "outputs": [
        {
          "name": "stdout",
          "output_type": "stream",
          "text": [
            "Good morning Alice! Don’t forget to submit your homework today.\n",
            "Good morning Bob! Don’t forget to go to the gym today.\n"
          ]
        }
      ],
      "source": [
        "def daily_reminder(name, task):\n",
        "    print(f\"Good morning {name}! Don’t forget to {task} today.\")\n",
        "\n",
        "daily_reminder(\"Alice\", \"submit your homework\")\n",
        "daily_reminder(\"Bob\", \"go to the gym\")"
      ]
    },
    {
      "cell_type": "markdown",
      "id": "5981f880",
      "metadata": {
        "id": "5981f880"
      },
      "source": [
        "## Example 3"
      ]
    },
    {
      "cell_type": "code",
      "execution_count": 27,
      "id": "16ac5885",
      "metadata": {
        "id": "16ac5885",
        "outputId": "d71a2f81-4d11-475a-8d2f-9d74a942a293"
      },
      "outputs": [
        {
          "name": "stdout",
          "output_type": "stream",
          "text": [
            "I am Dominic!\n",
            "King of the Britons.\n",
            "I, Dominic, seek the finest and the bravest Knights in the land to join me in my court at Camelot.\n",
            "Will you join me, Dominic, in my quest.\n",
            "\n",
            "I am Arthur!\n",
            "King of the Britons.\n",
            "I, Arthur, seek the finest and the bravest Knights in the land to join me in my court at Camelot.\n",
            "Will you join me, Arthur, in my quest.\n"
          ]
        }
      ],
      "source": [
        "def Holy(msg) -> None:\n",
        "\tprint(f\"I am {msg}!\")\n",
        "\tprint(\"King of the Britons.\")\n",
        "\tprint(f\"I, {msg}, seek the finest\" \\\n",
        "\t\t\" and the bravest Knights in the\" \\\n",
        "\t\t\" land to join me in my court at Camelot.\")\n",
        "\tprint(f\"Will you join me, {msg}, in my quest.\")\n",
        "\n",
        "Holy(\"Dominic\")\n",
        "\n",
        "print()\n",
        "Holy(\"Arthur\")"
      ]
    },
    {
      "cell_type": "markdown",
      "id": "73ec3bcb",
      "metadata": {
        "id": "73ec3bcb"
      },
      "source": [
        "## You Try - Motivation with Function"
      ]
    },
    {
      "cell_type": "code",
      "execution_count": 28,
      "id": "DremZfnDDkJ5",
      "metadata": {
        "id": "DremZfnDDkJ5"
      },
      "outputs": [],
      "source": [
        "# TODO: Define welcome_student() that prints 'Welcome to CSCE 1035!', use the function three times"
      ]
    },
    {
      "cell_type": "markdown",
      "id": "7a3fb76e",
      "metadata": {
        "id": "7a3fb76e"
      },
      "source": [
        "# Function Basics"
      ]
    },
    {
      "cell_type": "markdown",
      "id": "0VpIitgvDkJ5",
      "metadata": {
        "id": "0VpIitgvDkJ5"
      },
      "source": [
        "## Concept Explanation\n",
        "- Define with def\n",
        "- Function name + ()\n",
        "- Indented block = function body\n",
        "- Call function using its name"
      ]
    },
    {
      "cell_type": "markdown",
      "id": "e780e4e6",
      "metadata": {
        "id": "e780e4e6"
      },
      "source": [
        "## Examples"
      ]
    },
    {
      "cell_type": "code",
      "execution_count": 29,
      "id": "TWlW7GB-DkJ6",
      "metadata": {
        "id": "TWlW7GB-DkJ6"
      },
      "outputs": [
        {
          "name": "stdout",
          "output_type": "stream",
          "text": [
            "Hello, class!\n"
          ]
        }
      ],
      "source": [
        "# Define the function, name 'say_hello', no parameters, delimiter :\n",
        "def say_hello():\n",
        "    print(\"Hello, class!\")\n",
        "\n",
        "say_hello()"
      ]
    },
    {
      "cell_type": "code",
      "execution_count": 30,
      "id": "6082cc54",
      "metadata": {
        "id": "6082cc54"
      },
      "outputs": [
        {
          "name": "stdout",
          "output_type": "stream",
          "text": [
            "The result is 8\n",
            "The result is 8\n",
            "The result is 8\n",
            "The result is 8\n"
          ]
        }
      ],
      "source": [
        "# Define a function named 'compute' that calculates 5 + 3 and prints the result\n",
        "def compute():\n",
        "    result = 5 + 3\n",
        "    print(\"The result is\", result)\n",
        "\n",
        "compute()\n",
        "compute()\n",
        "compute()\n",
        "compute()\n"
      ]
    },
    {
      "cell_type": "code",
      "execution_count": 31,
      "id": "akgURn2VDkJ6",
      "metadata": {
        "id": "akgURn2VDkJ6"
      },
      "outputs": [
        {
          "name": "stdout",
          "output_type": "stream",
          "text": [
            "I love pizza!\n"
          ]
        }
      ],
      "source": [
        "# Define a function named 'favorite_food' that prints your favorite food\n",
        "def favorite_food():\n",
        "    print(\"I love pizza!\")\n",
        "\n",
        "favorite_food()"
      ]
    },
    {
      "cell_type": "markdown",
      "id": "941b98a2",
      "metadata": {
        "id": "941b98a2"
      },
      "source": [
        "## You Try – Basics"
      ]
    },
    {
      "cell_type": "code",
      "execution_count": 32,
      "id": "J67yS1LtDkJ6",
      "metadata": {
        "id": "J67yS1LtDkJ6"
      },
      "outputs": [],
      "source": [
        "# TODO: Write study_time() function, print out 'Go study at the library!' and call it"
      ]
    },
    {
      "cell_type": "markdown",
      "id": "55bcc37e",
      "metadata": {
        "id": "55bcc37e"
      },
      "source": [
        "# Function Parameters"
      ]
    },
    {
      "cell_type": "markdown",
      "id": "t9swRkYyDkJ7",
      "metadata": {
        "id": "t9swRkYyDkJ7"
      },
      "source": [
        "## Concept Explanation\n",
        "Functions can take inputs (parameters).\n",
        "Parameters = variables inside () of the function definition."
      ]
    },
    {
      "cell_type": "markdown",
      "id": "33c2c4a4",
      "metadata": {
        "id": "33c2c4a4"
      },
      "source": [
        "## Example 1"
      ]
    },
    {
      "cell_type": "code",
      "execution_count": 33,
      "id": "TflM-58pDkJ7",
      "metadata": {
        "id": "TflM-58pDkJ7"
      },
      "outputs": [
        {
          "name": "stdout",
          "output_type": "stream",
          "text": [
            "Hello, Alice\n",
            "Hello, Bob\n"
          ]
        }
      ],
      "source": [
        "# Define a function named 'greet' that takes a parameter variable name 'name' and prints a greeting message\n",
        "def greet(name):\n",
        "    print(\"Hello,\", name)\n",
        "\n",
        "greet(\"Alice\")\n",
        "greet(\"Bob\")"
      ]
    },
    {
      "cell_type": "markdown",
      "id": "a7f5fa17",
      "metadata": {
        "id": "a7f5fa17"
      },
      "source": [
        "## Example 2"
      ]
    },
    {
      "cell_type": "code",
      "execution_count": 34,
      "id": "Dv5hznOYDkJ7",
      "metadata": {
        "id": "Dv5hznOYDkJ7"
      },
      "outputs": [
        {
          "name": "stdout",
          "output_type": "stream",
          "text": [
            "The sum is: 12\n"
          ]
        }
      ],
      "source": [
        "# Define a function named 'add_numbers' that takes two parameters x and y, and prints their sum\n",
        "def add_numbers(x, y):\n",
        "    print(\"The sum is:\", x + y)\n",
        "\n",
        "add_numbers(5, 7)"
      ]
    },
    {
      "cell_type": "markdown",
      "id": "0b59155b",
      "metadata": {
        "id": "0b59155b"
      },
      "source": [
        "## Example 3"
      ]
    },
    {
      "cell_type": "code",
      "execution_count": 35,
      "id": "9a49b3b9",
      "metadata": {
        "id": "9a49b3b9",
        "outputId": "bbad9162-28d4-4c9a-e3f0-57470fdc173d"
      },
      "outputs": [
        {
          "name": "stdout",
          "output_type": "stream",
          "text": [
            "I am Dominic!\n",
            "King of the Quentin.\n",
            "I, Dominic, seek the finest and the bravest Knights in the land to join me in my court at Camelot.\n",
            "Will you join me, Quentin, in my quest\n",
            "\n",
            "I am Arthur!\n",
            "King of the Britons.\n",
            "I, Arthur, seek the finest and the bravest Knights in the land to join me in my court at Camelot.\n",
            "Will you join me, Britons, in my quest\n"
          ]
        }
      ],
      "source": [
        "# Defined a function name 'HolyGrail' that takes two parameters 'name' and 'country', and prints out dialogue\n",
        "def HolyGrail(name, country) -> None:\n",
        "\tprint(f\"I am {name}!\")\n",
        "\tprint(f\"King of the {country}.\")\n",
        "\tprint(f\"I, {name}, seek the finest\" \\\n",
        "\t\t\" and the bravest Knights in the\" \\\n",
        "\t\t\" land to join me in my court at Camelot.\")\n",
        "\tprint(f\"Will you join me, {country}, in my quest\")\n",
        "\n",
        "HolyGrail(\"Dominic\", \"Quentin\")\n",
        "print()\n",
        "HolyGrail(\"Arthur\", \"Britons\")"
      ]
    },
    {
      "cell_type": "markdown",
      "id": "36cbd087",
      "metadata": {
        "id": "36cbd087"
      },
      "source": [
        "## Example 4\n",
        "\n",
        "Calculate the Sales Tax on an Item based on the price and tax rate."
      ]
    },
    {
      "cell_type": "code",
      "execution_count": null,
      "id": "9cd7b6d0",
      "metadata": {
        "id": "9cd7b6d0",
        "outputId": "da023778-f4a3-4ec5-c2e0-93e61bb53a35"
      },
      "outputs": [
        {
          "name": "stdout",
          "output_type": "stream",
          "text": [
            "Price: $50.00, Tax Rate: 28.000000000000004%, Total: $64.00\n",
            "Price: $120.00, Tax Rate: 7.5%, Total: $129.00\n"
          ]
        },
        {
          "ename": "TypeError",
          "evalue": "calculate_total() missing 1 required positional argument: 'price'",
          "output_type": "error",
          "traceback": [
            "\u001b[31m---------------------------------------------------------------------------\u001b[39m",
            "\u001b[31mTypeError\u001b[39m                                 Traceback (most recent call last)",
            "\u001b[36mCell\u001b[39m\u001b[36m \u001b[39m\u001b[32mIn[36]\u001b[39m\u001b[32m, line 17\u001b[39m\n\u001b[32m     15\u001b[39m calculate_total(\u001b[32m50\u001b[39m)\n\u001b[32m     16\u001b[39m calculate_total(\u001b[32m120\u001b[39m, \u001b[32m0.075\u001b[39m)\n\u001b[32m---> \u001b[39m\u001b[32m17\u001b[39m \u001b[43mcalculate_total\u001b[49m\u001b[43m(\u001b[49m\u001b[43m)\u001b[49m\n",
            "\u001b[31mTypeError\u001b[39m: calculate_total() missing 1 required positional argument: 'price'"
          ]
        }
      ],
      "source": [
        "def calculate_total(price, tax_rate=0.28):\n",
        "    '''\n",
        "    Define a function named 'calculate_total', calculates total price including tax,\n",
        "    and prints it formatted to two decimal places\n",
        "\n",
        "    Parameters:\n",
        "        price: float\n",
        "        tax_rate: float\n",
        "\n",
        "    Returns: None\n",
        "    '''\n",
        "    total = price + (price * tax_rate)\n",
        "    print(f\"Price: ${price:.2f}, Tax Rate: {tax_rate*100}%, Total: ${total:.2f}\")\n",
        "\n",
        "calculate_total(50)\n",
        "calculate_total(120, 0.075)\n",
        "# Invalid: Because there is no argument when the function is requesting one.\n",
        "# Uncomment to see the error that it produce.\n",
        "# calculate_total()"
      ]
    },
    {
      "cell_type": "markdown",
      "id": "bcf33a03",
      "metadata": {
        "id": "bcf33a03"
      },
      "source": [
        "## Question - Does this work?"
      ]
    },
    {
      "cell_type": "code",
      "execution_count": null,
      "id": "c752de6b",
      "metadata": {
        "id": "c752de6b"
      },
      "outputs": [
        {
          "name": "stdout",
          "output_type": "stream",
          "text": [
            "Hello, 5!\n",
            "Hello, [1, 2, 3]!\n",
            "Hello, {'sensor': 'active', 'device': 534234561, 'camera': 'offline', 'router': 'active', 'uptime': 342.56}!\n"
          ]
        },
        {
          "ename": "TypeError",
          "evalue": "greet() missing 1 required positional argument: 'name'",
          "output_type": "error",
          "traceback": [
            "\u001b[31m---------------------------------------------------------------------------\u001b[39m",
            "\u001b[31mTypeError\u001b[39m                                 Traceback (most recent call last)",
            "\u001b[36mCell\u001b[39m\u001b[36m \u001b[39m\u001b[32mIn[13]\u001b[39m\u001b[32m, line 15\u001b[39m\n\u001b[32m     13\u001b[39m greet([\u001b[32m1\u001b[39m, \u001b[32m2\u001b[39m, \u001b[32m3\u001b[39m]) \u001b[38;5;66;03m# Does this work?\u001b[39;00m\n\u001b[32m     14\u001b[39m greet(device_status) \u001b[38;5;66;03m# Does this work?\u001b[39;00m\n\u001b[32m---> \u001b[39m\u001b[32m15\u001b[39m \u001b[43mgreet\u001b[49m\u001b[43m(\u001b[49m\u001b[43m)\u001b[49m \u001b[38;5;66;03m# Does this work?\u001b[39;00m\n",
            "\u001b[31mTypeError\u001b[39m: greet() missing 1 required positional argument: 'name'"
          ]
        }
      ],
      "source": [
        "device_status = {\n",
        "    \"sensor\": \"active\",\n",
        "    \"device\": 534234561,\n",
        "    \"camera\": \"offline\",\n",
        "    \"router\": \"active\",\n",
        "    \"uptime\": 342.56\n",
        "}\n",
        "\n",
        "def greet(name):\n",
        "    print(f\"Hello, {name}!\")\n",
        "\n",
        "greet(5) # Does this work?\n",
        "greet([1, 2, 3]) # Does this work?\n",
        "greet(device_status) # Does this work?\n",
        "greet() # Does this work?"
      ]
    },
    {
      "cell_type": "markdown",
      "id": "e2403cd8",
      "metadata": {
        "id": "e2403cd8"
      },
      "source": [
        "## You Try - Parameters"
      ]
    },
    {
      "cell_type": "code",
      "execution_count": null,
      "id": "lzP4DtNWDkJ8",
      "metadata": {
        "id": "lzP4DtNWDkJ8"
      },
      "outputs": [],
      "source": [
        "# TODO: Write calc_area(length, width) function that calculates area of rectangle and prints it\n",
        "# TODO: Call it with different lengths and widths"
      ]
    },
    {
      "cell_type": "markdown",
      "id": "690abbc8",
      "metadata": {
        "id": "690abbc8"
      },
      "source": [
        "# Returning Values"
      ]
    },
    {
      "cell_type": "markdown",
      "id": "jQHbs5znDkJ9",
      "metadata": {
        "id": "jQHbs5znDkJ9"
      },
      "source": [
        "## Concept Explanation\n",
        "Functions can send back results with return."
      ]
    },
    {
      "cell_type": "markdown",
      "id": "fac55aa6",
      "metadata": {
        "id": "fac55aa6"
      },
      "source": [
        "## Example 1"
      ]
    },
    {
      "cell_type": "code",
      "execution_count": 7,
      "id": "fErPosVBDkJ9",
      "metadata": {
        "id": "fErPosVBDkJ9",
        "outputId": "acacdf3e-b10b-4505-db6b-41b39b109625"
      },
      "outputs": [
        {
          "name": "stdout",
          "output_type": "stream",
          "text": [
            "Parameter/Argument:5\n",
            "Return Val:25\n",
            "25\n",
            "Parameter/Argument:15\n",
            "Return Val:225\n",
            "225\n",
            "Parameter/Argument:10\n",
            "Return Val:100\n",
            "100\n",
            "Parameter/Argument:String\n"
          ]
        },
        {
          "ename": "TypeError",
          "evalue": "can't multiply sequence by non-int of type 'str'",
          "output_type": "error",
          "traceback": [
            "\u001b[0;31m---------------------------------------------------------------------------\u001b[0m",
            "\u001b[0;31mTypeError\u001b[0m                                 Traceback (most recent call last)",
            "Cell \u001b[0;32mIn[7], line 11\u001b[0m\n\u001b[1;32m      9\u001b[0m \u001b[38;5;28mprint\u001b[39m(square(\u001b[38;5;241m15\u001b[39m))\n\u001b[1;32m     10\u001b[0m \u001b[38;5;28mprint\u001b[39m(square(\u001b[38;5;241m10\u001b[39m))\n\u001b[0;32m---> 11\u001b[0m \u001b[38;5;28mprint\u001b[39m(square(\u001b[38;5;124m\"\u001b[39m\u001b[38;5;124mString\u001b[39m\u001b[38;5;124m\"\u001b[39m))\n",
            "Cell \u001b[0;32mIn[7], line 4\u001b[0m, in \u001b[0;36msquare\u001b[0;34m(x)\u001b[0m\n\u001b[1;32m      2\u001b[0m \u001b[38;5;28;01mdef\u001b[39;00m\u001b[38;5;250m \u001b[39m\u001b[38;5;21msquare\u001b[39m(x):\n\u001b[1;32m      3\u001b[0m     \u001b[38;5;28mprint\u001b[39m(\u001b[38;5;124m\"\u001b[39m\u001b[38;5;124mParameter/Argument:\u001b[39m\u001b[38;5;132;01m{}\u001b[39;00m\u001b[38;5;124m\"\u001b[39m\u001b[38;5;241m.\u001b[39mformat(x))\n\u001b[0;32m----> 4\u001b[0m     return_val \u001b[38;5;241m=\u001b[39m x \u001b[38;5;241m*\u001b[39m x\n\u001b[1;32m      5\u001b[0m     \u001b[38;5;28mprint\u001b[39m(\u001b[38;5;124m\"\u001b[39m\u001b[38;5;124mReturn Val:\u001b[39m\u001b[38;5;132;01m{}\u001b[39;00m\u001b[38;5;124m\"\u001b[39m\u001b[38;5;241m.\u001b[39mformat(return_val))\n\u001b[1;32m      6\u001b[0m     \u001b[38;5;28;01mreturn\u001b[39;00m return_val\n",
            "\u001b[0;31mTypeError\u001b[0m: can't multiply sequence by non-int of type 'str'"
          ]
        }
      ],
      "source": [
        "# Define a function named 'square' that takes one parameter x and returns the square of x\n",
        "def square(x):\n",
        "    print(\"Parameter/Argument:{}\".format(x))\n",
        "    return_val = x * x\n",
        "    print(\"Return Val:{}\".format(return_val))\n",
        "    return return_val\n",
        "\n",
        "print(square(5))\n",
        "print(square(15))\n",
        "print(square(10))\n",
        "print(square(\"String\"))"
      ]
    },
    {
      "cell_type": "markdown",
      "id": "84ecef59",
      "metadata": {
        "id": "84ecef59"
      },
      "source": [
        "## Example 2"
      ]
    },
    {
      "cell_type": "code",
      "execution_count": null,
      "id": "c024f6e7",
      "metadata": {
        "id": "c024f6e7",
        "outputId": "ce81cf5a-b3fc-4b9c-cc51-c0ae14517da8"
      },
      "outputs": [
        {
          "name": "stdout",
          "output_type": "stream",
          "text": [
            "Miles per gallon: 25.0\n",
            "Dollars per gallon: 2.5\n",
            "Cost of gas: 1.00 for 10.0 miles.\n",
            "Cost of gas: 5.00 for 50.0 miles.\n",
            "Cost of gas: 40.00 for 400.0 miles.\n"
          ]
        }
      ],
      "source": [
        "def driving_cost(miles_per_gallon: float, dollars_per_gallon: float, miles_driven: float) -> float:\n",
        "    '''\n",
        "    Define a function named 'driving_cost' that calculates\n",
        "\n",
        "    Parameters:\n",
        "        miles_per_gallon: float\n",
        "        dollars_per_gallon: float\n",
        "        miles_driven: float\n",
        "\n",
        "    Returns:\n",
        "        driving cost in dollars as float\n",
        "    '''\n",
        "    return (miles_driven / miles_per_gallon) * dollars_per_gallon\n",
        "\n",
        "# Prompt user for input\n",
        "miles_per_gallon = float(input(\"Enter miles per gallon: \"))\n",
        "dollars_per_gallon = float(input(\"Enter dollars per gallon: \"))\n",
        "\n",
        "print(f'Miles per gallon: {miles_per_gallon}')\n",
        "print(f'Dollars per gallon: {dollars_per_gallon}')\n",
        "\n",
        "# Calculate and print costs for 10, 50, and 400 miles\n",
        "for miles in [10.0, 50.0, 400.0]:\n",
        "    cost = driving_cost(miles_per_gallon, dollars_per_gallon, miles)\n",
        "    print(f\"Cost of gas: {cost:.2f} for {miles} miles.\")"
      ]
    },
    {
      "cell_type": "markdown",
      "id": "cf39d39a",
      "metadata": {
        "id": "cf39d39a"
      },
      "source": [
        "## Example 3"
      ]
    },
    {
      "cell_type": "code",
      "execution_count": null,
      "id": "tpu-XRLNDkJ-",
      "metadata": {
        "id": "tpu-XRLNDkJ-",
        "outputId": "6d08da22-2e1f-4a7a-e06d-0fd89fd54477"
      },
      "outputs": [
        {
          "name": "stdout",
          "output_type": "stream",
          "text": [
            "(2.0, 1.0)\n",
            "-1.0\n",
            "None\n"
          ]
        }
      ],
      "source": [
        "from math import sqrt\n",
        "def calc_quadratic(a, b, c):\n",
        "    '''\n",
        "    Defined a function named 'calc_quadratic' that calculates the roots of a quadratic equation\n",
        "\n",
        "    Parameters:\n",
        "        a: number\n",
        "        b: number\n",
        "        c: number\n",
        "\n",
        "    Returns:\n",
        "        roots: float, tuple (root1, root2), or None if no real roots\n",
        "    '''\n",
        "    discriminant = b**2 - 4*a*c\n",
        "    if discriminant > 0:\n",
        "        root1 = (-b + sqrt(discriminant)) / (2*a)\n",
        "        root2 = (-b - sqrt(discriminant)) / (2*a)\n",
        "        return (root1, root2)\n",
        "    elif discriminant == 0:\n",
        "        root = -b / (2*a)\n",
        "        return root\n",
        "    else:\n",
        "        return None\n",
        "\n",
        "print(calc_quadratic(1, -3, 2))  # Should return (2.0, 1.0)\n",
        "print(calc_quadratic(1.0, 2.0, 1.0))   # Should return -1.0\n",
        "print(calc_quadratic(1, 0, 1))   # Should return None\n",
        "\n"
      ]
    },
    {
      "cell_type": "markdown",
      "id": "36cc576a",
      "metadata": {},
      "source": [
        "## Function Returns\n",
        "\n",
        "Let's use a function that has multiple return statements and a function that returns multiple values.\n",
        "\n",
        "For multiple return statements, understand that the function will exit as soon as it hits a return statement. Which was shown in the example above with the `calc_quadratic()` function.\n",
        "\n",
        "As for returning multiple values, Python allows you to return multiple values as a tuple."
      ]
    },
    {
      "cell_type": "code",
      "execution_count": 12,
      "id": "36132662",
      "metadata": {},
      "outputs": [
        {
          "name": "stdout",
          "output_type": "stream",
          "text": [
            "Returned type: <class 'tuple'>\n",
            "Returned values: (15, 5, 3.0)\n",
            "Total: 15, Count: 5, Average: 3.0\n",
            "Unpacked -> total=60, count=3, average=20.0\n"
          ]
        }
      ],
      "source": [
        "def calc_stats(numbers):\n",
        "    total = sum(numbers)\n",
        "    count = len(numbers)\n",
        "    average = total / count if count > 0 else 0\n",
        "    return total, count, average\n",
        "\n",
        "stats = calc_stats([1, 2, 3, 4, 5])\n",
        "print(f\"Returned type: {type(stats)}\")\n",
        "print(f\"Returned values: {stats}\")\n",
        "print(f\"Total: {stats[0]}, Count: {stats[1]}, Average: {stats[2]}\")\n",
        "\n",
        "# Unpacking\n",
        "total, count, average = calc_stats([10, 20, 30])\n",
        "print(f\"Unpacked -> {total=}, {count=}, {average=}\")"
      ]
    },
    {
      "cell_type": "markdown",
      "id": "c56c2b5d",
      "metadata": {
        "id": "c56c2b5d"
      },
      "source": [
        "## You Try – Return"
      ]
    },
    {
      "cell_type": "code",
      "execution_count": null,
      "id": "2qR4tFalDkJ_",
      "metadata": {
        "id": "2qR4tFalDkJ_"
      },
      "outputs": [],
      "source": [
        "# TODO: Define a function named calculate_grade\n",
        "# TODO: Input parameters score and return letter grade as string\n"
      ]
    },
    {
      "cell_type": "markdown",
      "id": "daf49211",
      "metadata": {},
      "source": [
        "## Function Stubs\n",
        "\n",
        "Stubs are placeholders for functions not yet implemented."
      ]
    },
    {
      "cell_type": "code",
      "execution_count": null,
      "id": "cea12bed",
      "metadata": {},
      "outputs": [],
      "source": [
        "\n",
        "def func(agr):\n",
        "    return NotImplementedError\n",
        "\n",
        "sum = func(5)\n",
        "print(func(5))"
      ]
    },
    {
      "cell_type": "markdown",
      "id": "70ab7bd8",
      "metadata": {
        "id": "70ab7bd8"
      },
      "source": [
        "# Local vs Global Scope"
      ]
    },
    {
      "cell_type": "markdown",
      "id": "nQEAO9mdDkJ_",
      "metadata": {
        "id": "nQEAO9mdDkJ_"
      },
      "source": [
        "## Concept Explanation\n",
        "- Variables defined inside a function = local\n",
        "- Variables outside = global\n",
        "- Local variables cannot be accessed outside the function."
      ]
    },
    {
      "cell_type": "markdown",
      "id": "4ca0a6f6",
      "metadata": {
        "id": "4ca0a6f6"
      },
      "source": [
        "## Example 1"
      ]
    },
    {
      "cell_type": "code",
      "execution_count": null,
      "id": "fKTEnSCwDkJ_",
      "metadata": {
        "id": "fKTEnSCwDkJ_",
        "outputId": "513f6035-3e0c-4de9-ba7f-9bb23d4a46d9"
      },
      "outputs": [
        {
          "name": "stdout",
          "output_type": "stream",
          "text": [
            "Outside function: 10\n",
            "Inside function: 5\n",
            "Outside function after call: 10\n"
          ]
        }
      ],
      "source": [
        "def show_local():\n",
        "    x = 5\n",
        "    print(\"Inside function:\", x)\n",
        "\n",
        "x = 10\n",
        "print(\"Outside function:\", x)\n",
        "show_local()\n",
        "print(\"Outside function after call:\", x)"
      ]
    },
    {
      "cell_type": "markdown",
      "id": "50eb381a",
      "metadata": {
        "id": "50eb381a"
      },
      "source": [
        "## Example 2"
      ]
    },
    {
      "cell_type": "code",
      "execution_count": null,
      "id": "-rd88snwDkKA",
      "metadata": {
        "id": "-rd88snwDkKA",
        "outputId": "b77941b8-a899-4622-c2db-7e7745c97c81"
      },
      "outputs": [
        {
          "name": "stdout",
          "output_type": "stream",
          "text": [
            "Inside function, y = 25\n",
            "Outside function, y = 10\n"
          ]
        }
      ],
      "source": [
        "y = 10\n",
        "def show_global():\n",
        "    y = 25\n",
        "    print(\"Inside function, y =\", y)\n",
        "\n",
        "show_global()\n",
        "print(\"Outside function, y =\", y)"
      ]
    },
    {
      "cell_type": "markdown",
      "id": "26e7fd6a",
      "metadata": {
        "id": "26e7fd6a"
      },
      "source": [
        "## Example 3\n",
        "\n",
        "We can use the `global` keyword to modify global variables inside a function.\n",
        "\n",
        "However, it's generally better to avoid this because it can make code harder to understand and debug in larger programs."
      ]
    },
    {
      "cell_type": "code",
      "execution_count": null,
      "id": "EA1TtGaiDkKA",
      "metadata": {
        "id": "EA1TtGaiDkKA",
        "outputId": "655458a0-b90d-4883-9e05-8d0d500aed3c"
      },
      "outputs": [
        {
          "name": "stdout",
          "output_type": "stream",
          "text": [
            "Deposited $200. New balance: $1200\n",
            "Withdrew $500. New balance: $700\n",
            "Insufficient funds!\n"
          ]
        }
      ],
      "source": [
        "# Bank Account Balance\n",
        "balance = 1000  # global\n",
        "\n",
        "def deposit(amount):\n",
        "    global balance\n",
        "    balance += amount\n",
        "    print(f\"Deposited ${amount}. New balance: ${balance}\")\n",
        "\n",
        "def withdraw(amount):\n",
        "    global balance\n",
        "    if amount <= balance:\n",
        "        balance -= amount\n",
        "        print(f\"Withdrew ${amount}. New balance: ${balance}\")\n",
        "    else:\n",
        "        print(\"Insufficient funds!\")\n",
        "\n",
        "deposit(200)\n",
        "withdraw(500)\n",
        "withdraw(800)"
      ]
    },
    {
      "cell_type": "markdown",
      "id": "596e5316",
      "metadata": {},
      "source": [
        "### Functions inside Functions\n",
        "\n",
        "Functions can be defined inside other functions, which helps organize code and manage scope.\n",
        "The idea is that the inner function is only relevant within the outer function. Therefore, it keeps the inner function hidden from the rest of the program, reducing potential naming conflicts and improving code clarity.\n",
        "\n",
        "To showcase this, we can create a function that calculates the area of a rectangle and then use it inside another function that calculates the area of a room made up of multiple rectangles."
      ]
    },
    {
      "cell_type": "code",
      "execution_count": null,
      "id": "641abf3c",
      "metadata": {},
      "outputs": [],
      "source": [
        "def room_area(rectangles):\n",
        "    # Inner function to calculate area of a rectangle\n",
        "    def rectangle_area(length, width):\n",
        "        return length * width\n",
        "\n",
        "    total = 0\n",
        "    for length, width in rectangles:\n",
        "        total += rectangle_area(length, width)\n",
        "    print(f\"Total room area: {total}\")\n",
        "\n",
        "# Example usage: list of (length, width) tuples\n",
        "room_area([(10, 12), (5, 8), (7, 9)])"
      ]
    },
    {
      "cell_type": "markdown",
      "id": "d38c58bd",
      "metadata": {},
      "source": [
        "Here is the same example but simplified:"
      ]
    },
    {
      "cell_type": "code",
      "execution_count": null,
      "id": "bdf98f94",
      "metadata": {},
      "outputs": [
        {
          "name": "stdout",
          "output_type": "stream",
          "text": [
            "[25, 0, 5]\n"
          ]
        }
      ],
      "source": [
        "def outer():\n",
        "    x = [25, 0]\n",
        "\n",
        "    def inner(val):\n",
        "        x.append(5)\n",
        "        print(x)\n",
        "\n",
        "    inner(x)\n",
        "\n",
        "# uncomment then the inner() would have an interpreter warning by having a yellow underline\n",
        "# inner() \n",
        "\n",
        "outer()"
      ]
    },
    {
      "cell_type": "markdown",
      "id": "d8a646e5",
      "metadata": {
        "id": "d8a646e5"
      },
      "source": [
        "## You Try – Scope"
      ]
    },
    {
      "cell_type": "code",
      "execution_count": null,
      "id": "Hm-L2_OnDkKB",
      "metadata": {
        "id": "Hm-L2_OnDkKB"
      },
      "outputs": [],
      "source": [
        "# TODO: Use a global variable inside a function"
      ]
    },
    {
      "cell_type": "markdown",
      "id": "8b3996e7",
      "metadata": {},
      "source": [
        "# Keyword Arguments\n",
        "\n",
        "Keyword arguments allow you to specify which parameter a value should be assigned to when calling a function. This makes the code more readable and allows you to provide arguments in any order."
      ]
    },
    {
      "cell_type": "markdown",
      "id": "753d5ee9",
      "metadata": {},
      "source": [
        "### Non-Keyword Arguments\n",
        "\n",
        "This is denoted by `function_name(arg1, arg2, arg3, arg4, ...)`, allowing you to pass in multiple arguments to a function. \n",
        "\n",
        "Be careful, the order of the arguments matters and they are assigned to parameters based on their position.\n",
        "\n",
        "Additionally, you can provide `*args` for multiple non-keyword arguments as the function parameter, \n",
        "which expanded out to be `function_name(arg1, arg2, arg3, arg4, ...)` for multiple arguments."
      ]
    },
    {
      "cell_type": "code",
      "execution_count": null,
      "id": "b5c84149",
      "metadata": {},
      "outputs": [],
      "source": [
        "# Function `log_event`\n",
        "# with a one known argument \n",
        "# and the rest inside the non-keyword argument\n",
        "def log_event(event, *details):\n",
        "    print(\"Event:\", event)\n",
        "    print(type(details))\n",
        "    for item in details:\n",
        "        print('\\t{}'.format(item))\n",
        "\n",
        "log_event(\"error\", \"detail\", \"value\")\n",
        "print()\n",
        "log_event('info', 'user login', 'user login', 'user login', 'user logout', 'user call', 'user logout')"
      ]
    },
    {
      "cell_type": "markdown",
      "id": "ce490bed",
      "metadata": {},
      "source": [
        "### Keyword Arguments\n",
        "\n",
        "This is denoted as `function_name(param1=value1, param2=value2, ...)`, allowing you to specify which parameter each argument corresponds to, regardless of their order.\n",
        "\n",
        "Therefore, you can provide arguments in any order when using keyword arguments.\n",
        "\n",
        "Additionally, you provide `**kwargs` for multiple keyword arguments as the function parameter.\n",
        "\n",
        "Let us look at a real-world example that could be used hospital to input patient data."
      ]
    },
    {
      "cell_type": "code",
      "execution_count": null,
      "id": "e2a485ab",
      "metadata": {},
      "outputs": [],
      "source": [
        "def patient_info(**kwards):\n",
        "    print(type(kwards), kwards)\n",
        "    print(f\"Patient Name: {kwards['name']}\")\n",
        "    print(f\"Age: {kwards['age']}\")\n",
        "    for key, value in kwards.items():\n",
        "        if key not in ['name', 'age']:\n",
        "            print(f\"{key.capitalize()}: {value}\")\n",
        "\n",
        "# Example usage\n",
        "patient_info(name=\"Alice\", age=30, diagnosis=\"Flu\", room=205, doctor=\"Dr. Smith\")\n",
        "print()\n",
        "patient_info(name=\"Bob\", age=45, diagnosis=\"Sprained ankle\", insurance=\"Aetna\")"
      ]
    },
    {
      "cell_type": "markdown",
      "id": "521a138f",
      "metadata": {},
      "source": [
        "Using the same log_event function from before, but now with keyword arguments:"
      ]
    },
    {
      "cell_type": "code",
      "execution_count": null,
      "id": "7f835347",
      "metadata": {},
      "outputs": [],
      "source": [
        "def log_event(event, **details):\n",
        "    print(\"Event:\", event)\n",
        "    print(type(details), details)\n",
        "    for key, item in details.items():\n",
        "        print('\\t{}:{}'.format(key, item))\n",
        "\n",
        "\n",
        "log_event(\"error\", a=\"detail\", b=\"value\")\n",
        "print()\n",
        "log_event('info', a='user login', b='user login', c='user login', d='user logout', e='user call', f='user logout')"
      ]
    },
    {
      "cell_type": "markdown",
      "id": "dbffc61b",
      "metadata": {},
      "source": [
        "Let us look at a more complex example for `**kwargs`:"
      ]
    },
    {
      "cell_type": "code",
      "execution_count": null,
      "id": "e4aae200",
      "metadata": {},
      "outputs": [],
      "source": [
        "def log_event(event, **details):\n",
        "    print(\"Event:\", event)\n",
        "    if event == 'error':\n",
        "        print(f'[{event}] {details['x']=}')\n",
        "\n",
        "    elif event == 'info':\n",
        "        count = 0\n",
        "        while details['loop']:\n",
        "            if count == int(details['y']):\n",
        "                break\n",
        "            print(f'[{event}{count:2}] {details['x']=}')\n",
        "            count += 1\n",
        "\n",
        "    else:\n",
        "        print(f'No implementation for {event}')\n",
        "\n",
        "\n",
        "x = 25\n",
        "log_event(\"error\", x=x, y=50)\n",
        "log_event('info', x='login', y=5, loop=True)\n",
        "log_event('fish', x='fishstick', y=20, loop=True)\n",
        "log_event('info', x='my fish', y=10, loop=True)"
      ]
    },
    {
      "cell_type": "markdown",
      "id": "f0e7fe16",
      "metadata": {},
      "source": [
        "### Mixed Arguments\n",
        "\n",
        "Want to explain that you are allowed to mix keyword and non-keyword arguments, but note that non-keyword arguments must come first.\n",
        "\n",
        "Meaning that this is valid:\n",
        "```python\n",
        "function_name(arg1, arg2, param1=value1, param2=value2)\n",
        "```\n",
        "\n",
        "But this is not:\n",
        "```python\n",
        "function_name(param1=value1, arg1, arg2)\n",
        "``` "
      ]
    },
    {
      "cell_type": "code",
      "execution_count": null,
      "id": "81755793",
      "metadata": {},
      "outputs": [
        {
          "name": "stdout",
          "output_type": "stream",
          "text": [
            "Blog ID: 201\n",
            "Author: Diana\n",
            "Comment: This is a fantastic and insightful blog post! I learned a lot about web development and best practices. Thanks for sharing your experience.\n",
            "Posted at: 2025-10-02 11:22:59\n",
            "Upvotes: 15\n",
            "This comment is popular!\n",
            "Blog ID: 202\n",
            "Author: Evan\n",
            "Comment: I appreciate the detailed explanation and the code samples. Looking forward to more posts like this!\n",
            "Posted at: 2024-06-02 14:45:00\n",
            "Upvotes: 2\n",
            "Blog ID: 203\n",
            "Author: Frank\n",
            "Comment: Great!\n",
            "Posted at: 2025-10-02 11:22:59\n",
            "Upvotes: 3\n",
            "Warning: This comment has been flagged for review.\n",
            "Note: Please provide a more detailed comment.\n"
          ]
        }
      ],
      "source": [
        "from datetime import datetime\n",
        "\n",
        "def add_blog_comment(blog_id, author, content, posted_at=None, upvotes=0, flagged=False):\n",
        "    if posted_at is None:\n",
        "        posted_at = datetime.now().strftime('%Y-%m-%d %H:%M:%S')\n",
        "    print(f\"Blog ID: {blog_id}\")\n",
        "    print(f\"Author: {author}\")\n",
        "    print(f\"Comment: {content}\")\n",
        "    print(f\"Posted at: {posted_at}\")\n",
        "    print(f\"Upvotes: {upvotes}\")\n",
        "    if upvotes > 10:\n",
        "        print(\"This comment is popular!\")\n",
        "    if flagged:\n",
        "        print(\"Warning: This comment has been flagged for review.\")\n",
        "    if len(content) < 20:\n",
        "        print(\"Note: Please provide a more detailed comment.\")\n",
        "\n",
        "# Valid usage: positional arguments first, then keyword arguments\n",
        "add_blog_comment(201, \"Diana\", \"This is a fantastic and insightful blog post! I learned a lot about web development and best practices. Thanks for sharing your experience.\", upvotes=15)\n",
        "add_blog_comment(202, \"Evan\", \"I appreciate the detailed explanation and the code samples. Looking forward to more posts like this!\", posted_at=\"2024-06-02 14:45:00\", upvotes=2)\n",
        "add_blog_comment(203, \"Frank\", \"Great!\", upvotes=3, flagged=True)\n",
        "\n",
        "# Invalid usage: keyword arguments before positional arguments (will cause SyntaxError if uncommented)\n",
        "# add_blog_comment(author=\"Frank\", 203, \"Very helpful article!\", upvotes=3)"
      ]
    },
    {
      "cell_type": "markdown",
      "id": "c11e9298",
      "metadata": {},
      "source": [
        "## You Try - Practice Questions for Functions"
      ]
    },
    {
      "cell_type": "markdown",
      "id": "23de4b8f",
      "metadata": {},
      "source": [
        "Local vs Global Variables\n",
        "\n",
        "What will be printed? Explain why."
      ]
    },
    {
      "cell_type": "code",
      "execution_count": null,
      "id": "093892db",
      "metadata": {},
      "outputs": [],
      "source": [
        "counter = 10\n",
        "\n",
        "def increment():\n",
        "    counter = 5\n",
        "    print(\"Inside function:\", counter)\n",
        "\n",
        "increment()\n",
        "print(\"Outside function:\", counter)"
      ]
    },
    {
      "cell_type": "markdown",
      "id": "a853c805",
      "metadata": {},
      "source": [
        "`global` keyword\n",
        "\n",
        "Modify the function so that it changes the global variable 'score'."
      ]
    },
    {
      "cell_type": "code",
      "execution_count": null,
      "id": "b087d8a8",
      "metadata": {},
      "outputs": [],
      "source": [
        "score = 0\n",
        "\n",
        "def add_points(points):\n",
        "    # TODO: Use global keyword to update score\n",
        "    pass\n",
        "\n",
        "add_points(5)\n",
        "print(\"Score after function call:\", score)"
      ]
    },
    {
      "cell_type": "markdown",
      "id": "241351f0",
      "metadata": {},
      "source": [
        "Function Return (Single Value)\n",
        "\n",
        "Write a function that returns the cube of a number."
      ]
    },
    {
      "cell_type": "code",
      "execution_count": null,
      "id": "ba4e4f5e",
      "metadata": {},
      "outputs": [],
      "source": [
        "def cube(num):\n",
        "    # TODO: Return the cube of num\n",
        "    pass\n",
        "\n",
        "print(cube(3))  # Expected: 27"
      ]
    },
    {
      "cell_type": "markdown",
      "id": "442e822f",
      "metadata": {},
      "source": [
        "Function Return (Multiple Values)\n",
        "\n",
        "Write a function that returns both the sum and product of two numbers."
      ]
    },
    {
      "cell_type": "code",
      "execution_count": null,
      "id": "515270cd",
      "metadata": {},
      "outputs": [],
      "source": [
        "def sum_and_product(a, b):\n",
        "    # TODO: Return sum and product as a tuple\n",
        "    pass\n",
        "\n",
        "result = sum_and_product(4, 5)\n",
        "print(result)  # Expected: (9, 20)"
      ]
    },
    {
      "cell_type": "markdown",
      "id": "cd03d53e",
      "metadata": {},
      "source": [
        "Non-keyword Arguments (`*args`)\n",
        "\n",
        "Write a function that takes any number of numbers and prints their average."
      ]
    },
    {
      "cell_type": "code",
      "execution_count": null,
      "id": "4d7a6ff8",
      "metadata": {},
      "outputs": [],
      "source": [
        "def print_average(*numbers):\n",
        "    # TODO: Print the average of numbers\n",
        "    pass\n",
        "\n",
        "print_average(2, 4, 6, 8)"
      ]
    },
    {
      "cell_type": "markdown",
      "id": "e6d886f0",
      "metadata": {},
      "source": [
        "Keyword Arguments (`**kwargs`)\n",
        "\n",
        "Write a function that prints all student info passed as keyword arguments."
      ]
    },
    {
      "cell_type": "code",
      "execution_count": null,
      "id": "a7618cf9",
      "metadata": {},
      "outputs": [],
      "source": [
        "def show_student_info(**info):\n",
        "    # TODO: Print each key and value in info\n",
        "    pass\n",
        "\n",
        "show_student_info(name=\"Alex\", age=21, major=\"Math\")"
      ]
    },
    {
      "cell_type": "markdown",
      "id": "43921192",
      "metadata": {},
      "source": [
        "Mixed Arguments\n",
        "\n",
        "Write a function that takes a student's name and any number of keyword arguments for details, then prints them."
      ]
    },
    {
      "cell_type": "code",
      "execution_count": null,
      "id": "c68f9d7a",
      "metadata": {},
      "outputs": [],
      "source": [
        "def student_details(name, **details):\n",
        "    # TODO: Print name and each detail\n",
        "    pass\n",
        "\n",
        "student_details(\"Jamie\", age=22, major=\"Physics\", gpa=3.8)"
      ]
    },
    {
      "cell_type": "markdown",
      "id": "879d3c63",
      "metadata": {
        "id": "879d3c63"
      },
      "source": [
        "# Summary"
      ]
    },
    {
      "cell_type": "markdown",
      "id": "llwFlHwVDkKB",
      "metadata": {
        "id": "llwFlHwVDkKB"
      },
      "source": [
        "\n",
        "\n",
        "- Functions help us organize, reuse, and simplify code.\n",
        "- Functions can take parameters and return values.\n",
        "- Variables inside functions are local, outside are global."
      ]
    },
    {
      "cell_type": "markdown",
      "id": "AfWhPuQhDkKB",
      "metadata": {
        "id": "AfWhPuQhDkKB"
      },
      "source": [
        "# Instructor Solutions (For All \"You Try\")"
      ]
    },
    {
      "cell_type": "code",
      "execution_count": null,
      "id": "JhbJDyD0DkKB",
      "metadata": {
        "id": "JhbJDyD0DkKB"
      },
      "outputs": [],
      "source": [
        "# Motivation\n",
        "def welcome_student():\n",
        "    print(\"Welcome to CSCE 1035!\")\n",
        "\n",
        "welcome_student()\n",
        "welcome_student()\n",
        "welcome_student()"
      ]
    },
    {
      "cell_type": "code",
      "execution_count": null,
      "id": "Q_6vIgW1DkKC",
      "metadata": {
        "id": "Q_6vIgW1DkKC"
      },
      "outputs": [],
      "source": [
        "# Basics\n",
        "def study_time():\n",
        "    print(\"Time to study in the library!\")\n",
        "\n",
        "study_time()"
      ]
    },
    {
      "cell_type": "code",
      "execution_count": null,
      "id": "SjmzSlz4DkKC",
      "metadata": {
        "id": "SjmzSlz4DkKC"
      },
      "outputs": [],
      "source": [
        "# Parameters\n",
        "def introduce(name, major):\n",
        "    print(f\"Hi, I am {name} and I study {major}.\")\n",
        "\n",
        "introduce(\"Sarah\", \"Computer Science\")"
      ]
    },
    {
      "cell_type": "code",
      "execution_count": null,
      "id": "-7Fol-A3DkKC",
      "metadata": {
        "id": "-7Fol-A3DkKC"
      },
      "outputs": [],
      "source": [
        "# Returning Values\n",
        "def calculate_grade(score):\n",
        "    if score >= 90:\n",
        "        return 'A'\n",
        "    elif score >= 80:\n",
        "        return 'B'\n",
        "    elif score >= 70:\n",
        "        return 'C'\n",
        "    else:\n",
        "        return 'F'\n",
        "\n",
        "# Driver program\n",
        "print(calculate_grade(95))  # Expected: A\n",
        "print(calculate_grade(82))  # Expected: B\n",
        "print(calculate_grade(67))  # Expected: F"
      ]
    },
    {
      "cell_type": "code",
      "execution_count": null,
      "id": "KQh_1r33DkKC",
      "metadata": {
        "id": "KQh_1r33DkKC"
      },
      "outputs": [],
      "source": [
        "# Scope\n",
        "course = \"CSCE 1035\"\n",
        "\n",
        "def print_course():\n",
        "    print(\"This is\", course)\n",
        "\n",
        "print_course()"
      ]
    }
  ],
  "metadata": {
    "colab": {
      "provenance": []
    },
    "kernelspec": {
      "display_name": "base",
      "language": "python",
      "name": "python3"
    },
    "language_info": {
      "codemirror_mode": {
        "name": "ipython",
        "version": 3
      },
      "file_extension": ".py",
      "mimetype": "text/x-python",
      "name": "python",
      "nbconvert_exporter": "python",
      "pygments_lexer": "ipython3",
      "version": "3.13.5"
    }
  },
  "nbformat": 4,
  "nbformat_minor": 5
}
