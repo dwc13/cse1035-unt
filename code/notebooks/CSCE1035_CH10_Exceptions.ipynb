{
 "cells": [
  {
   "cell_type": "markdown",
   "id": "40a5274c",
   "metadata": {},
   "source": [
    "# Chapter 10: Exceptions"
   ]
  },
  {
   "cell_type": "markdown",
   "id": "581fa82a",
   "metadata": {},
   "source": [
    "# What is an Exception?\n",
    "An exception is an event that occurs during the execution of a program that disrupts the normal flow of instructions. In Python, exceptions are objects that represent errors or other exceptional conditions that can occur during program execution.\n",
    "\n",
    "Note:\n",
    "- A syntax error is not an exception. It is a mistake in the code that prevents the program from running at all.\n",
    "- Exceptions are raised when an error occurs during the execution of a program.\n",
    "- When an exception is raised, the normal flow of the program is interrupted, and Python looks for a way to handle the exception.\n",
    "- If the exception is not handled, the program will terminate and display an error message.\n",
    "\n",
    "**Simple Example of an Exception**\n",
    "```python\n",
    "x = 10 / 0  # This will raise a ZeroDivisionError\n",
    "f = open(\"non_existent_file.txt\")  # This will raise a FileNotFoundError\n",
    "```\n",
    "\n",
    "Some common built-in exceptions in Python include:\n",
    "- `ZeroDivisionError`: Raised when attempting to divide by zero.\n",
    "- `FileNotFoundError`: Raised when trying to access a file that does not exist.\n",
    "- `IndexError`: Raised when trying to access an index that is out of range for a sequence (like a list or string).\n",
    "- `AssertionError`: Raised when an assert statement fails.\n",
    "- `KeyError`: Raised when trying to access a dictionary key that does not exist.\n",
    "- `AttributeError`: Raised when trying to access an attribute that does not exist for an object.\n",
    "- `ImportError`: Raised when an import statement fails to find the module definition or when a `from ... import` statement fails to find a name that is to be imported.\n",
    "- `KeyboardInterrupt`: Raised when the user interrupts program execution, usually by pressing Ctrl+C."
   ]
  },
  {
   "cell_type": "markdown",
   "id": "46feb6f2",
   "metadata": {},
   "source": [
    "# Handling Exceptions"
   ]
  },
  {
   "cell_type": "markdown",
   "id": "30a2a554",
   "metadata": {},
   "source": [
    "Exceptions are errors that occur during program execution. They interrupt the normal flow of the program.\n",
    "A syntax error happens before running, while an exception occurs during runtime.\n",
    "\n",
    "General format to handle exceptions:\n",
    "```python\n",
    "...code...\n",
    "try:\n",
    "    # code that may raise an exception\n",
    "except ExceptionType:\n",
    "    # code to handle ExceptionType\n",
    "...code...\n",
    "```\n"
   ]
  },
  {
   "cell_type": "markdown",
   "id": "85ec97e6",
   "metadata": {},
   "source": [
    "## Example 1\n",
    "Convert input to integer.\n",
    "Ask the user for an integer and print double its value. Handle non-numeric input with a friendly message using the `ValueError`."
   ]
  },
  {
   "cell_type": "code",
   "execution_count": 2,
   "id": "3d58574b",
   "metadata": {},
   "outputs": [
    {
     "name": "stdout",
     "output_type": "stream",
     "text": [
      "Double: 14\n"
     ]
    }
   ],
   "source": [
    "try:\n",
    "    s = input(\"Enter an integer: \")\n",
    "    n = int(s)\n",
    "    print(f\"Double: {2 * n}\")\n",
    "except ValueError:\n",
    "    print(\"That's not a valid integer. Please try again.\")\n",
    "\n",
    "# Expected behavior:\n",
    "# If input is '7' -> Double: 14\n",
    "# If input is 'abc' -> That's not a valid integer. Please try again."
   ]
  },
  {
   "cell_type": "markdown",
   "id": "09e5880a",
   "metadata": {},
   "source": [
    "## Example 2\n",
    "Safe Division\n",
    "\n",
    "Divide 50 by a user-provided number. Handle division by zero using the `ZeroDivisionError` exception handler and the invalid input is handle with the `ValueError`."
   ]
  },
  {
   "cell_type": "code",
   "execution_count": 5,
   "id": "40e93c7a",
   "metadata": {},
   "outputs": [
    {
     "name": "stdout",
     "output_type": "stream",
     "text": [
      "Cannot divide by zero.\n"
     ]
    }
   ],
   "source": [
    "try:\n",
    "    s = input(\"Enter divisor for 50: \")\n",
    "    d = int(s)\n",
    "    result = 50 / d\n",
    "    print(f\"Result: {result}\")\n",
    "except ValueError:\n",
    "    print(\"Please enter a whole number.\")\n",
    "except ZeroDivisionError:\n",
    "    print(\"Cannot divide by zero.\")\n",
    "\n",
    "# Expected behavior:\n",
    "# Input '5' -> Result: 10.0\n",
    "# Input '0' -> Cannot divide by zero.\n",
    "# Input 'x' -> Please enter a whole number.\""
   ]
  },
  {
   "cell_type": "markdown",
   "id": "b0ea2263",
   "metadata": {},
   "source": [
    "## Example 3\n",
    "Read a file safely.\n",
    "\n",
    "Attempt to open and read a file named `'sample.txt'`. If it doesn't exist, print a message. Always print a `'done'` message at the end.\n",
    "\n",
    "Which uses the `FileNotFoundError` exception as the handler when the file is not found."
   ]
  },
  {
   "cell_type": "code",
   "execution_count": 6,
   "id": "e1a393d1",
   "metadata": {},
   "outputs": [
    {
     "name": "stdout",
     "output_type": "stream",
     "text": [
      "sample.txt not found. Make sure the file exists in the notebook folder.\n",
      "Done with file attempt.\n"
     ]
    }
   ],
   "source": [
    "try:\n",
    "    with open('sample.txt', 'r') as f:\n",
    "        data = f.read()\n",
    "        print('File contents (first 100 chars):')\n",
    "        print(data[:100])\n",
    "except FileNotFoundError:\n",
    "    print(\"sample.txt not found. Make sure the file exists in the notebook folder.\")\n",
    "finally:\n",
    "    print('Done with file attempt.')\n",
    "\n",
    "# Expected behavior:\n",
    "# If 'sample.txt' exists -> prints its contents (or first 100 chars) and then 'Done with file attempt.'\n",
    "# If it doesn't exist -> sample.txt not found. Make sure the file exists in the notebook folder.\n",
    "# -> Done with file attempt.\""
   ]
  },
  {
   "cell_type": "markdown",
   "id": "5b094cff",
   "metadata": {},
   "source": [
    "## Example 4\n",
    "Custom exception for negative numbers\n",
    "\n",
    "Defining a custom exception `NegativeNumberError` and a function that raises it for negative input."
   ]
  },
  {
   "cell_type": "code",
   "execution_count": 13,
   "id": "a9e1ad9f",
   "metadata": {},
   "outputs": [
    {
     "name": "stdout",
     "output_type": "stream",
     "text": [
      "Caught custom error: -5 is negative\n",
      "This is being printed\n"
     ]
    }
   ],
   "source": [
    "class NegativeNumberError(ValueError):\n",
    "    \"\"\"Raised when a provided number is negative.\"\"\"\n",
    "    pass\n",
    "\n",
    "def check_positive(n):\n",
    "    if n < 0:\n",
    "        raise NegativeNumberError(f\"{n} is negative\")\n",
    "    return True\n",
    "\n",
    "try:\n",
    "    check_positive(-5)\n",
    "    print('Number is non-negative')\n",
    "except NegativeNumberError as e:\n",
    "    print('Caught custom error:', e)\n",
    "\n",
    "print(\"This is being printed\")\n",
    "# Expected output:\n",
    "# Caught custom error: -3 is negative\""
   ]
  },
  {
   "cell_type": "markdown",
   "id": "1f2a963c",
   "metadata": {},
   "source": [
    "## You Try Non-Numeric Input - ValueError Exception\n",
    "Write a `try/except` block to handle when a user types a non-numeric value when converting input to an integer. Use the `ValueError` exception to catch the error and print a friendly message.\n",
    "\n",
    "- On success, print double the value\n",
    "- On `ValueError`, print a friendly message"
   ]
  },
  {
   "cell_type": "code",
   "execution_count": null,
   "id": "218c4589",
   "metadata": {},
   "outputs": [],
   "source": []
  },
  {
   "cell_type": "markdown",
   "id": "bbbcaf00",
   "metadata": {},
   "source": [
    "# Unhandled Exceptions"
   ]
  },
  {
   "cell_type": "markdown",
   "id": "87980854",
   "metadata": {},
   "source": [
    "When an exception is not handled, the program stops and prints a traceback message showing where the error occurred.\n",
    "\n",
    "Two possible ways that an exception go unhandled:\n",
    "1. No code is provided to handle the exception. No `try/except` block is used.\n",
    "2. The provided code does not handle that specific type of exception. An exception raised outside the `try` block is not caught.\n",
    "\n",
    "Example of unhandled exception:\n",
    "```python\n",
    "def divide(a, b):\n",
    "    # may raise ZeroDivisionError if b is 0\n",
    "    return a / b\n",
    "\n",
    "result = divide(10, 0)  # This will raise an unhandled ZeroDivisionError\n",
    "print(\"Result:\", result)\n",
    "\n",
    "# Expected Output:\n",
    "# Traceback (most recent call last):\n",
    "#   File \"script.py\", line X, in <module>\n",
    "#     result = divide(10, 0)\n",
    "#   File \"script.py\", line Y, in divide\n",
    "#     return a / b\n",
    "# ZeroDivisionError: division by zero\n",
    "```\n",
    "\n",
    "Example of handling the same exception:\n",
    "```python\n",
    "def divide(a, b):\n",
    "    try:\n",
    "        return a / b\n",
    "    except ZeroDivisionError:\n",
    "        return \"Error: Division by zero is not allowed.\"\n",
    "\n",
    "result = divide(10, 0)  # This will now be handled\n",
    "print(\"Result:\", result)\n",
    "\n",
    "# Expected Output:\n",
    "# Result: Error: Division by zero is not allowed.\n",
    "```\n",
    "\n",
    "The try/except block do not have to be a function. Here is another example:\n",
    "\n",
    "```python\n",
    "try:\n",
    "    x = int(input(\"Enter a number: \"))\n",
    "    print(10 / x)\n",
    "except ZeroDivisionError:\n",
    "    print(\"Cannot divide by zero!\")\n",
    "# Expected Output:\n",
    "# Cannot divide by zero!\n",
    "# or\n",
    "# Otherwise prints result of 10/x\n",
    "```"
   ]
  },
  {
   "cell_type": "markdown",
   "id": "0a03d98d",
   "metadata": {},
   "source": [
    "## Example 1 \n",
    "Unhandled `IndexError`\n",
    "\n",
    "Attempt to access an out-of-range list index to demonstrate an unhandled exception and the resulting traceback. This shows how the program stops immediately when an exception isn’t caught."
   ]
  },
  {
   "cell_type": "code",
   "execution_count": 14,
   "id": "71401399",
   "metadata": {},
   "outputs": [
    {
     "ename": "IndexError",
     "evalue": "list index out of range",
     "output_type": "error",
     "traceback": [
      "\u001b[0;31m---------------------------------------------------------------------------\u001b[0m",
      "\u001b[0;31mIndexError\u001b[0m                                Traceback (most recent call last)",
      "Cell \u001b[0;32mIn[14], line 3\u001b[0m\n\u001b[1;32m      1\u001b[0m \u001b[38;5;66;03m# Demonstrating unhandled IndexError\u001b[39;00m\n\u001b[1;32m      2\u001b[0m nums \u001b[38;5;241m=\u001b[39m [\u001b[38;5;241m1\u001b[39m, \u001b[38;5;241m2\u001b[39m, \u001b[38;5;241m3\u001b[39m]\n\u001b[0;32m----> 3\u001b[0m \u001b[38;5;28mprint\u001b[39m(nums[\u001b[38;5;241m5\u001b[39m])  \u001b[38;5;66;03m# Out-of-range index\u001b[39;00m\n\u001b[1;32m      4\u001b[0m \u001b[38;5;28mprint\u001b[39m(\u001b[38;5;124m\"\u001b[39m\u001b[38;5;124mThis line never runs\u001b[39m\u001b[38;5;124m\"\u001b[39m)\n",
      "\u001b[0;31mIndexError\u001b[0m: list index out of range"
     ]
    }
   ],
   "source": [
    "# Demonstrating unhandled IndexError\n",
    "nums = [1, 2, 3]\n",
    "print(nums[5])  # Out-of-range index\n",
    "print(\"This line never runs\")\n",
    "\n",
    "# Expected Output (abridged):\n",
    "# Traceback (most recent call last):\n",
    "#   ...\n",
    "# IndexError: list index out of range"
   ]
  },
  {
   "cell_type": "markdown",
   "id": "66c03eef",
   "metadata": {},
   "source": [
    "## Example 2\n",
    "Demonstrating unhandled exception."
   ]
  },
  {
   "cell_type": "code",
   "execution_count": 15,
   "id": "a4cd3ef2",
   "metadata": {},
   "outputs": [
    {
     "ename": "ZeroDivisionError",
     "evalue": "division by zero",
     "output_type": "error",
     "traceback": [
      "\u001b[0;31m---------------------------------------------------------------------------\u001b[0m",
      "\u001b[0;31mZeroDivisionError\u001b[0m                         Traceback (most recent call last)",
      "Cell \u001b[0;32mIn[15], line 5\u001b[0m\n\u001b[1;32m      2\u001b[0m \u001b[38;5;28;01mdef\u001b[39;00m\u001b[38;5;250m \u001b[39m\u001b[38;5;21mdivide\u001b[39m(x, y):\n\u001b[1;32m      3\u001b[0m     \u001b[38;5;28;01mreturn\u001b[39;00m x \u001b[38;5;241m/\u001b[39m y\n\u001b[0;32m----> 5\u001b[0m result \u001b[38;5;241m=\u001b[39m divide(\u001b[38;5;241m10\u001b[39m, \u001b[38;5;241m0\u001b[39m)\n\u001b[1;32m      6\u001b[0m \u001b[38;5;28mprint\u001b[39m(result)\n",
      "Cell \u001b[0;32mIn[15], line 3\u001b[0m, in \u001b[0;36mdivide\u001b[0;34m(x, y)\u001b[0m\n\u001b[1;32m      2\u001b[0m \u001b[38;5;28;01mdef\u001b[39;00m\u001b[38;5;250m \u001b[39m\u001b[38;5;21mdivide\u001b[39m(x, y):\n\u001b[0;32m----> 3\u001b[0m     \u001b[38;5;28;01mreturn\u001b[39;00m x \u001b[38;5;241m/\u001b[39m y\n",
      "\u001b[0;31mZeroDivisionError\u001b[0m: division by zero"
     ]
    }
   ],
   "source": [
    "# Demostrating unhandled exception\n",
    "def divide(x, y):\n",
    "    return x / y\n",
    "\n",
    "result = divide(10, 0)\n",
    "print(result)\n",
    "# Output:\n",
    "# Traceback (most recent call last):\n",
    "#   ...\n",
    "# ZeroDivisionError: division by zero"
   ]
  },
  {
   "cell_type": "code",
   "execution_count": 16,
   "id": "45e929e5",
   "metadata": {},
   "outputs": [
    {
     "name": "stdout",
     "output_type": "stream",
     "text": [
      "Error occur in divide function\n",
      "None\n"
     ]
    }
   ],
   "source": [
    "# Demostrating handling same exception\n",
    "def divide(x, y):\n",
    "    try:\n",
    "        return x / y\n",
    "    except:\n",
    "        print(\"Error occur in divide function\")\n",
    "        return None\n",
    "    \n",
    "result = divide(10, 0)\n",
    "print(result)\n",
    "# Output:\n",
    "# Error occur in divide function\n",
    "# None"
   ]
  },
  {
   "cell_type": "markdown",
   "id": "8f66dc83",
   "metadata": {},
   "source": [
    "## Example 3\n",
    "Unhandled KeyError\n",
    "\n",
    "Access a missing dictionary key to trigger an unhandled `KeyError`. This illustrates that referencing a key that doesn’t exist will stop execution unless it’s handled."
   ]
  },
  {
   "cell_type": "code",
   "execution_count": 17,
   "id": "9f41f54b",
   "metadata": {},
   "outputs": [
    {
     "ename": "KeyError",
     "evalue": "'grade'",
     "output_type": "error",
     "traceback": [
      "\u001b[0;31m---------------------------------------------------------------------------\u001b[0m",
      "\u001b[0;31mKeyError\u001b[0m                                  Traceback (most recent call last)",
      "Cell \u001b[0;32mIn[17], line 3\u001b[0m\n\u001b[1;32m      1\u001b[0m \u001b[38;5;66;03m# Demonstrating unhandled KeyError\u001b[39;00m\n\u001b[1;32m      2\u001b[0m student \u001b[38;5;241m=\u001b[39m {\u001b[38;5;124m\"\u001b[39m\u001b[38;5;124mname\u001b[39m\u001b[38;5;124m\"\u001b[39m: \u001b[38;5;124m\"\u001b[39m\u001b[38;5;124mAva\u001b[39m\u001b[38;5;124m\"\u001b[39m, \u001b[38;5;124m\"\u001b[39m\u001b[38;5;124mage\u001b[39m\u001b[38;5;124m\"\u001b[39m: \u001b[38;5;241m20\u001b[39m}\n\u001b[0;32m----> 3\u001b[0m \u001b[38;5;28mprint\u001b[39m(student[\u001b[38;5;124m\"\u001b[39m\u001b[38;5;124mgrade\u001b[39m\u001b[38;5;124m\"\u001b[39m])  \u001b[38;5;66;03m# Missing key\u001b[39;00m\n\u001b[1;32m      4\u001b[0m \u001b[38;5;28mprint\u001b[39m(\u001b[38;5;124m\"\u001b[39m\u001b[38;5;124mThis line never runs\u001b[39m\u001b[38;5;124m\"\u001b[39m)\n",
      "\u001b[0;31mKeyError\u001b[0m: 'grade'"
     ]
    }
   ],
   "source": [
    "# Demonstrating unhandled KeyError\n",
    "student = {\"name\": \"Ava\", \"age\": 20}\n",
    "print(student[\"grade\"])  # Missing key\n",
    "print(\"This line never runs\")\n",
    "\n",
    "# Expected Output (abridged):\n",
    "# Traceback (most recent call last):\n",
    "#   ...\n",
    "# KeyError: 'grade'"
   ]
  },
  {
   "cell_type": "markdown",
   "id": "098679ad",
   "metadata": {},
   "source": [
    "## You Try Addition - TypeError Exception\n",
    "Write a function that adds two numbers but fails when a string is passed. Observe the unhandled exception message. Then create a `try/except` block to handle the `TypeError` exception and print a friendly message when a string is passed instead of a number.\n"
   ]
  },
  {
   "cell_type": "code",
   "execution_count": null,
   "id": "7bea2800",
   "metadata": {},
   "outputs": [],
   "source": [
    "# Create a unhandled function\n",
    "def add_xy(x, y):\n",
    "    pass\n",
    "\n",
    "result = add_xy('2', 3)"
   ]
  },
  {
   "cell_type": "code",
   "execution_count": null,
   "id": "645ddc21",
   "metadata": {},
   "outputs": [],
   "source": [
    "# Create a handled function\n",
    "def add_xy_e(x, y):\n",
    "    pass\n",
    "\n",
    "result = add_xy_e('2', 3)"
   ]
  },
  {
   "cell_type": "markdown",
   "id": "f7591a4b",
   "metadata": {},
   "source": [
    "# Handling Multiple Exceptions"
   ]
  },
  {
   "cell_type": "markdown",
   "id": "442ea6c5",
   "metadata": {},
   "source": [
    "As shown in the examples above, that majority of exceptions are being handled using a single except block. However, there are situations where you may want to handle different types of exceptions separately. In such cases, you can use multiple except blocks.\n",
    "\n",
    "Similarily, to multiple if/elif statements, you can have multiple except blocks to handle different exceptions.\n",
    "\n",
    "```python\n",
    "try:\n",
    "    # code that may raise multiple exceptions\n",
    "except ExceptionType1:\n",
    "    # code to handle ExceptionType1\n",
    "except ExceptionType2:\n",
    "    # code to handle ExceptionType2\n",
    "except\n",
    "    # code to handle any other exceptions\n",
    "```\n",
    "\n",
    "Note: An `except` block without a specific exception type will catch any exception that is not caught by the previous except blocks. It has to be the last except block."
   ]
  },
  {
   "cell_type": "markdown",
   "id": "5375ba8a",
   "metadata": {},
   "source": [
    "## Example 1\n",
    "Index vs Value errors, handled separately\n",
    "\n",
    "Ask for a list index as input and attempt to access it; handle `ValueError` (non-integer input) and `IndexError` (out-of-range) with different messages."
   ]
  },
  {
   "cell_type": "code",
   "execution_count": null,
   "id": "b2cfec19",
   "metadata": {},
   "outputs": [],
   "source": [
    "items = ['a', 'b', 'c']\n",
    "try:\n",
    "    idx = int(input(\"Enter index 0-2: \"))\n",
    "    print(f\"Item: {items[idx]}\")\n",
    "except ValueError:\n",
    "    print(\"Please enter a whole number for the index.\")\n",
    "except IndexError:\n",
    "    print(\"That index is out of range (valid: 0, 1, 2).\")"
   ]
  },
  {
   "cell_type": "markdown",
   "id": "861e0c7d",
   "metadata": {},
   "source": [
    "## Example 2\n",
    "Reading and converting from a file\n",
    "\n",
    "Try to open a file named `numbers.txt` and convert the first line to an integer. Handle `FileNotFoundError` (file missing) and `ValueError` (content isn’t a number)."
   ]
  },
  {
   "cell_type": "code",
   "execution_count": null,
   "id": "c96add90",
   "metadata": {},
   "outputs": [],
   "source": [
    "try:\n",
    "    with open('numbers.txt', 'r') as f:\n",
    "        first = f.readline().strip()\n",
    "        value = int(first)\n",
    "        print(f\"First number: {value}\")\n",
    "except FileNotFoundError:\n",
    "    print(\"numbers.txt not found. Create the file with a number on the first line.\")\n",
    "except ValueError:\n",
    "    print(\"The first line isn't a valid integer.\")"
   ]
  },
  {
   "cell_type": "markdown",
   "id": "3ae6baab",
   "metadata": {},
   "source": [
    "## Example 3\n",
    "Handling `ValueError` and `ZeroDivisionError` separately."
   ]
  },
  {
   "cell_type": "code",
   "execution_count": null,
   "id": "1e3a6ba2",
   "metadata": {},
   "outputs": [],
   "source": [
    "try:\n",
    "    num = int(input(\"Enter a number: \"))\n",
    "    print(10 / num)\n",
    "except ValueError:\n",
    "    print(\"You must enter a number.\")\n",
    "except ZeroDivisionError:\n",
    "    print(\"You cannot divide by zero.\")\n",
    "# Expected Output:\n",
    "# Appropriate message depending on input."
   ]
  },
  {
   "cell_type": "markdown",
   "id": "3533a007",
   "metadata": {},
   "source": [
    "## You Try Multiple Exceptions\n",
    "Write a program that asks for two integers and divides them.\n",
    "Requirements:\n",
    "- Convert both inputs to integers (may raise `ValueError`)\n",
    "- Divide the first by the second (may raise `ZeroDivisionError`)\n",
    "- Handle `ValueError` and `ZeroDivisionError` with separate messages\n",
    "- Print the result if successful"
   ]
  },
  {
   "cell_type": "code",
   "execution_count": null,
   "id": "26a0c8b3",
   "metadata": {},
   "outputs": [],
   "source": []
  },
  {
   "cell_type": "markdown",
   "id": "a4ed2b1b",
   "metadata": {},
   "source": [
    "# Grouping Multiple Exceptions"
   ]
  },
  {
   "cell_type": "markdown",
   "id": "bf5f4bca",
   "metadata": {},
   "source": [
    "Having the ability to handle multiple exceptions with multiple `except` block is useful. However, having too many except blocks can make the code less readable.\n",
    "\n",
    "The nice thing is that `except` block can handle multiple exceptions by grouping them in parentheses.\n",
    "\n",
    "```python\n",
    "try:\n",
    "    # code that may raise multiple exceptions\n",
    "except (ExceptionType1, ExceptionType2):\n",
    "    # code to handle both ExceptionType1 and ExceptionType2\n",
    "```\n",
    "\n",
    "For example, you can group `ValueError` and `TypeError` together if you want to handle them in the same way."
   ]
  },
  {
   "cell_type": "markdown",
   "id": "fca871e8",
   "metadata": {},
   "source": [
    "## Example 1\n",
    "Let's handle multiple exceptions when it comes to the type, incorrect value, and a zero division."
   ]
  },
  {
   "cell_type": "code",
   "execution_count": null,
   "id": "f04dcc49",
   "metadata": {},
   "outputs": [],
   "source": [
    "try:\n",
    "    x = int(input(\"Enter a number: \"))\n",
    "    y = 10 / x\n",
    "except (TypeError, ValueError, ZeroDivisionError):\n",
    "    print(\"Invalid input or division by zero!\")\n",
    "# Expected Output:\n",
    "# Prints message if invalid input or 0 entered."
   ]
  },
  {
   "cell_type": "markdown",
   "id": "84939ec5",
   "metadata": {},
   "source": [
    "## Example 2\n",
    "Group KeyError and IndexError\n",
    "\n",
    "Access either a missing dictionary key or an out-of-range list index and handle both with a single grouped `except` clause."
   ]
  },
  {
   "cell_type": "code",
   "execution_count": null,
   "id": "4573209e",
   "metadata": {},
   "outputs": [],
   "source": [
    "data = {\"a\": 1}\n",
    "lst = [10]\n",
    "try:\n",
    "    choice = input(\"Type 'dict' or 'list': \").strip().lower()\n",
    "    if choice == 'dict':\n",
    "        print(data['missing'])  # KeyError\n",
    "    else:\n",
    "        print(lst[5])  # IndexError\n",
    "except (KeyError, IndexError):\n",
    "    print(\"Missing key or index out of range.\")"
   ]
  },
  {
   "cell_type": "markdown",
   "id": "4ebf7cff",
   "metadata": {},
   "source": [
    "## Example 3\n",
    "Group `ValueError` and `TypeError` in arithmetic\n",
    "\n",
    "Convert inputs and add them; handle bad types or non-numeric values with one grouped handler."
   ]
  },
  {
   "cell_type": "code",
   "execution_count": null,
   "id": "c3667302",
   "metadata": {},
   "outputs": [],
   "source": [
    "try:\n",
    "    a = input(\"a: \")\n",
    "    b = input(\"b: \")\n",
    "    total = int(a) + int(b)\n",
    "    print(\"Sum:\", total)\n",
    "except (ValueError, TypeError):\n",
    "    print(\"Please enter two numeric values (e.g., 3 and 4).\")"
   ]
  },
  {
   "cell_type": "markdown",
   "id": "a29942e8",
   "metadata": {},
   "source": [
    "## You Try Multiple Exceptions\n",
    "Write a try block that divides two numbers, catching both `TypeError` and `ValueError` together.\n",
    "\n",
    "Example flow:\n",
    "- Read two inputs\n",
    "- Convert to numbers and divide\n",
    "- Use a grouped except (`TypeError`, `ValueError`) to print a single friendly message"
   ]
  },
  {
   "cell_type": "code",
   "execution_count": null,
   "id": "ebe90386",
   "metadata": {},
   "outputs": [],
   "source": []
  },
  {
   "cell_type": "markdown",
   "id": "b10aeb0c",
   "metadata": {},
   "source": [
    "# Raising Exceptions"
   ]
  },
  {
   "cell_type": "markdown",
   "id": "b0681ebb",
   "metadata": {},
   "source": [
    "When Python encounters an error, it raises an exception. However, you can also raise exceptions manually using the `raise` statement.\n",
    "\n",
    "The reason to raise exceptions manually is to enforce certain conditions in your code. For example, you might want to raise an exception if a function receives an invalid argument or there is a division by zero.\n",
    "\n",
    "General format to raise an exception:\n",
    "```python\n",
    "raise ExceptionType(\"Error message\")\n",
    "```\n",
    "\n",
    "When an exception is thrown an exception object is created in memory by the Python interpreter. This object contains information about the error, such as its type and message. You can catch this exception object using a `try/except` block to handle the error gracefully. \n",
    "\n",
    "```python\n",
    "try:\n",
    "    # code that may raise an exception\n",
    "except ExceptionType as e:\n",
    "    # code to handle the exception, using the exception object 'e'\n",
    "```"
   ]
  },
  {
   "cell_type": "markdown",
   "id": "f7d53f59",
   "metadata": {},
   "source": [
    "## Example 1\n",
    "Raising an exception manually by using the `raise` statement."
   ]
  },
  {
   "cell_type": "code",
   "execution_count": null,
   "id": "0e35611c",
   "metadata": {},
   "outputs": [],
   "source": [
    "def divide(a, b):\n",
    "    if b == 0:\n",
    "        raise ZeroDivisionError(\"b cannot be zero\")\n",
    "    return a / b\n",
    "\n",
    "try:\n",
    "    divide(10, 0)\n",
    "except:\n",
    "    print(\"Obtain an Error\")\n",
    "# Output:\n",
    "# Error: b cannot be zero"
   ]
  },
  {
   "cell_type": "markdown",
   "id": "32d8dbf7",
   "metadata": {},
   "source": [
    "## Example 2\n",
    "Raising a `ValueError` when a negative number is provided and handling the error message."
   ]
  },
  {
   "cell_type": "code",
   "execution_count": null,
   "id": "01cbf324",
   "metadata": {},
   "outputs": [],
   "source": [
    "def divide(a, b):\n",
    "    if b == 0:\n",
    "        raise ValueError(\"b cannot be zero\")\n",
    "    return a / b\n",
    "\n",
    "try:\n",
    "    divide(10, 0)\n",
    "except ValueError as err:\n",
    "    print(\"Error:\", err)\n",
    "# Output:\n",
    "# Error: b cannot be zero"
   ]
  },
  {
   "cell_type": "markdown",
   "id": "99a7eee1",
   "metadata": {},
   "source": [
    "## Example 3\n",
    "Validate age and raise errors\n",
    "\n",
    "Define a function that validates an age and raises `TypeError` for non-integers and `ValueError` for out-of-range values."
   ]
  },
  {
   "cell_type": "code",
   "execution_count": null,
   "id": "efa3c801",
   "metadata": {},
   "outputs": [],
   "source": [
    "def set_age(age):\n",
    "    if not isinstance(age, int):\n",
    "        raise TypeError(\"age must be an integer\")\n",
    "    if age < 0 or age > 130:\n",
    "        raise ValueError(\"age must be between 0 and 130\")\n",
    "    return f\"Age set to {age}\"\n",
    "\n",
    "try:\n",
    "    print(set_age(-5))\n",
    "except (TypeError, ValueError) as e:\n",
    "    print(\"Error:\", e)\n",
    "# Output:\n",
    "# Error: age must be between 0 and 130"
   ]
  },
  {
   "cell_type": "markdown",
   "id": "0c5f5b8a",
   "metadata": {},
   "source": [
    "## You Try Raising Exceptions\n",
    "Write a function that raises a `TypeError` if the input is not a string.\n",
    "\n",
    "- Define a function require_str(value)\n",
    "- If value is not an instance of str then raise an error of `TypeError` with a message\n",
    "- Otherwise, return the string uppercased\n",
    "- Call it once with a string and once with a non-string to observe behavior"
   ]
  },
  {
   "cell_type": "code",
   "execution_count": null,
   "id": "4a42b6de",
   "metadata": {},
   "outputs": [],
   "source": [
    "def require_str(value):\n",
    "    # TODO: implement the type check and raise\n",
    "    pass\n",
    "\n",
    "print(require_str(\"hello\"))\n",
    "print(require_str(123))  # should raise TypeError"
   ]
  },
  {
   "cell_type": "markdown",
   "id": "5504c93d",
   "metadata": {},
   "source": [
    "# `assert` Expression"
   ]
  },
  {
   "cell_type": "markdown",
   "id": "9506bf42",
   "metadata": {},
   "source": [
    "The `assert` statement is used to test if a condition is true. If the condition is false, it raises an `AssertionError` with an optional error message.\n",
    "\n",
    "General format of the `assert` statement:\n",
    "```python\n",
    "assert condition, \"Error message\"\n",
    "```\n",
    "\n",
    "A key points about `assert` statements:\n",
    "- They are primarily used for debugging and testing purposes.\n",
    "    - Assertions can be disabled globally by running Python with the `-O` (optimize) flag, which removes all assert statements from the bytecode.\n",
    "- If the condition is true, the program continues to execute normally.\n",
    "- If the condition is false, an `AssertionError` is raised, which can be caught and handled like any other exception.\n",
    "- Simplifies the `try/except` block for simple checks."
   ]
  },
  {
   "cell_type": "markdown",
   "id": "57b715e3",
   "metadata": {},
   "source": [
    "## Example 1\n",
    "Assert non-empty list before average\n",
    "\n",
    "Use `assert` to ensure the list isn’t empty prior to computing the average. If the condition fails, an `AssertionError` is raised."
   ]
  },
  {
   "cell_type": "code",
   "execution_count": null,
   "id": "c1824d9c",
   "metadata": {},
   "outputs": [],
   "source": [
    "def average(nums):\n",
    "    assert len(nums) > 0, \"List must not be empty\"\n",
    "    return sum(nums) / len(nums)\n",
    "\n",
    "print(average([2, 4, 6]))\n",
    "print(average([]))  # Triggers AssertionError"
   ]
  },
  {
   "cell_type": "markdown",
   "id": "2fff18b8",
   "metadata": {},
   "source": [
    "## Example 2\n",
    "Assert parameter type\n",
    "\n",
    "Verify that a function parameter is a string using `assert`. If not, raise an `AssertionError` with a helpful message."
   ]
  },
  {
   "cell_type": "code",
   "execution_count": 18,
   "id": "55b2e422",
   "metadata": {},
   "outputs": [
    {
     "name": "stdout",
     "output_type": "stream",
     "text": [
      "HELLO\n"
     ]
    },
    {
     "ename": "AssertionError",
     "evalue": "text must be a string",
     "output_type": "error",
     "traceback": [
      "\u001b[0;31m---------------------------------------------------------------------------\u001b[0m",
      "\u001b[0;31mAssertionError\u001b[0m                            Traceback (most recent call last)",
      "Cell \u001b[0;32mIn[18], line 6\u001b[0m\n\u001b[1;32m      3\u001b[0m     \u001b[38;5;28;01mreturn\u001b[39;00m text\u001b[38;5;241m.\u001b[39mupper()\n\u001b[1;32m      5\u001b[0m \u001b[38;5;28mprint\u001b[39m(shout(\u001b[38;5;124m\"\u001b[39m\u001b[38;5;124mhello\u001b[39m\u001b[38;5;124m\"\u001b[39m))\n\u001b[0;32m----> 6\u001b[0m \u001b[38;5;28mprint\u001b[39m(shout(\u001b[38;5;241m123\u001b[39m))\n",
      "Cell \u001b[0;32mIn[18], line 2\u001b[0m, in \u001b[0;36mshout\u001b[0;34m(text)\u001b[0m\n\u001b[1;32m      1\u001b[0m \u001b[38;5;28;01mdef\u001b[39;00m\u001b[38;5;250m \u001b[39m\u001b[38;5;21mshout\u001b[39m(text):\n\u001b[0;32m----> 2\u001b[0m     \u001b[38;5;28;01massert\u001b[39;00m \u001b[38;5;28misinstance\u001b[39m(text, \u001b[38;5;28mstr\u001b[39m), \u001b[38;5;124m\"\u001b[39m\u001b[38;5;124mtext must be a string\u001b[39m\u001b[38;5;124m\"\u001b[39m\n\u001b[1;32m      3\u001b[0m     \u001b[38;5;28;01mreturn\u001b[39;00m text\u001b[38;5;241m.\u001b[39mupper()\n",
      "\u001b[0;31mAssertionError\u001b[0m: text must be a string"
     ]
    }
   ],
   "source": [
    "def shout(text):\n",
    "    assert isinstance(text, str), \"text must be a string\"\n",
    "    return text.upper()\n",
    "\n",
    "print(shout(\"hello\"))\n",
    "print(shout(123))  # Triggers AssertionError"
   ]
  },
  {
   "cell_type": "markdown",
   "id": "4f2f01c5",
   "metadata": {},
   "source": [
    "## Example 3\n",
    "Using assert to verify the condition that the variable `x` is positive."
   ]
  },
  {
   "cell_type": "code",
   "execution_count": null,
   "id": "5bdafac6",
   "metadata": {},
   "outputs": [],
   "source": [
    "x = -5\n",
    "assert x > 0, \"x must be positive!\"\n",
    "# Output:\n",
    "# AssertionError: x must be positive!"
   ]
  },
  {
   "cell_type": "markdown",
   "id": "876bc33c",
   "metadata": {},
   "source": [
    "## You Try Assert\n",
    "Write an assert statement to check `'age'` from the dictionary is below the U.S. legal drinking age of 21.\n",
    "\n",
    "Given a dictionary with an 'age' field, assert that the age is below 21.\n",
    "If not, raise an `AssertionError` with the message: \"Must be under 21\"."
   ]
  },
  {
   "cell_type": "code",
   "execution_count": null,
   "id": "d5f86ac5",
   "metadata": {},
   "outputs": [],
   "source": [
    "person = {\"name\": \"Alex\", \"age\": 25}\n",
    "# TODO: add your assert here\n",
    "# assert ... , \"Must be under 21\""
   ]
  },
  {
   "cell_type": "markdown",
   "id": "8b93ab6e",
   "metadata": {},
   "source": [
    "# Exceptions with Functions"
   ]
  },
  {
   "cell_type": "markdown",
   "id": "2ae1fef7",
   "metadata": {},
   "source": [
    "For the most part, exceptions can be raised and handled within functions just like in the main program. However, there are some important considerations when dealing with exceptions in functions:\n",
    "- If a function fails to handle an exception, it propagates to the caller.  The calling code must handle exceptions.\n",
    "- Handling the exceptions within the function itself, makes the function more robust and easier to use.\n",
    "- Alternatively, allowing exceptions to propagate to the caller, can be useful if you want to provide more context or handle exceptions in a specific way at a higher level in your code.\n",
    "\n",
    "If you choose to handle exceptions within a function, you can use the `try/except` block as usual.\n",
    "```python\n",
    "def function_name(parameters):\n",
    "    try:\n",
    "        # code that may raise an exception\n",
    "    except ExceptionType:\n",
    "        # code to handle ExceptionType\n",
    "```\n",
    "\n",
    "If you choose to let exceptions propagate to the caller, you can simply write the function without a `try/except` block.\n",
    "```python\n",
    "def function_name(parameters):\n",
    "    # code that may raise an exception\n",
    "\n",
    "try:\n",
    "    function_name(arguments)\n",
    "except ExceptionType:\n",
    "    # code to handle ExceptionType\n",
    "```"
   ]
  },
  {
   "cell_type": "markdown",
   "id": "dcc198d0",
   "metadata": {},
   "source": [
    "## Example 1\n",
    "Propagating exceptions from functions where the function does not handle the exception itself but lets the caller handle it."
   ]
  },
  {
   "cell_type": "code",
   "execution_count": null,
   "id": "365b7c49",
   "metadata": {},
   "outputs": [],
   "source": [
    "def bad_math():\n",
    "    x = 1 / 0\n",
    "\n",
    "try:\n",
    "    bad_math()\n",
    "except ZeroDivisionError as e:\n",
    "    print(\"Handled:\", e)\n",
    "# Output: Handled: division by zero"
   ]
  },
  {
   "cell_type": "markdown",
   "id": "6c4f19e0",
   "metadata": {},
   "source": [
    "## Example 2\n",
    "Handling inside the function (safe_int)\n",
    "\n",
    "Show a function that catches its own exception (`ValueError`) and returns a default value instead of letting the exception propagate."
   ]
  },
  {
   "cell_type": "code",
   "execution_count": null,
   "id": "ce570360",
   "metadata": {},
   "outputs": [],
   "source": [
    "def safe_int(s, default=None):\n",
    "    try:\n",
    "        return int(s)\n",
    "    except ValueError:\n",
    "        return default\n",
    "\n",
    "print(safe_int(\"42\"))        # 42\n",
    "print(safe_int(\"not-a-number\", default=0))  # 0"
   ]
  },
  {
   "cell_type": "markdown",
   "id": "3f28af5c",
   "metadata": {},
   "source": [
    "## You Try Exceptions in Functions\n",
    "Create a function to calculate the quadratic roots of a number, raising a `ValueError` for negative input, and handle the exception when calling the function. Also, include the case where the demominator is zero, raising a `ZeroDivisionError`.\n",
    "\n",
    "\n",
    "Create a function to calculate the quadratic roots for `ax^2 + bx + c`.\n",
    "Requirements:\n",
    "- Raise ValueError if the discriminant (b**2 - 4ac) is negative\n",
    "- Raise ZeroDivisionError if a == 0 (denominator 2a is zero)\n",
    "- Return the two roots when valid (use math.sqrt)\n",
    "- Handle exceptions when calling the function and print a friendly message"
   ]
  },
  {
   "cell_type": "code",
   "execution_count": null,
   "id": "3bc172ef",
   "metadata": {},
   "outputs": [],
   "source": [
    "import math\n",
    "def quadratic_roots(a, b, c):\n",
    "    # TODO: implement checks and return roots\n",
    "    pass\n",
    "\n",
    "# try:\n",
    "    # print(quadratic_roots(1, 0, 1))  # discriminant < 0 -> ValueError\n",
    "# except:\n",
    "    # TODO: implement the `ValueError`\n",
    "# except:\n",
    "    # TODO: implement the `ZeroDivisionError`\n",
    "# except:\n",
    "    # TODO: handle additional errors"
   ]
  },
  {
   "cell_type": "markdown",
   "id": "21e1264c",
   "metadata": {},
   "source": [
    "# Using else and finally Blocks"
   ]
  },
  {
   "cell_type": "markdown",
   "id": "ae65ebff",
   "metadata": {},
   "source": [
    "Similar to `if/elif/else` or `while/else`, the `try` statement can also include optional `else` and `finally` blocks to provide additional control over exception handling.\n",
    "\n",
    "The `else` block runs if no exceptions are raised in the `try` block. It is useful for code that should only run when the `try` block is successful.\n",
    "\n",
    "The `finally` block runs regardless of whether an exception was raised or not. It is typically used for cleanup actions, such as closing files or releasing resources.\n",
    "\n",
    "General format:\n",
    "```python\n",
    "try:\n",
    "    # code that may raise an exception\n",
    "except ExceptionType:\n",
    "    # code to handle ExceptionType\n",
    "else:\n",
    "    # code that runs if no exception occurs\n",
    "finally:\n",
    "    # code that always runs\n",
    "```\n",
    "\n",
    "`else` runs if no exception occurs; `finally` always runs regardless of success or failure.\n",
    "\n",
    "Note: Using the `finally` as a cleanup block is a common practice to ensure that resources are released properly, even if an error occurs during execution.\n"
   ]
  },
  {
   "cell_type": "markdown",
   "id": "59154fc3",
   "metadata": {},
   "source": [
    "## Example 1\n",
    "Demonstrating `try/except/else/finally` by validating a user input to convert to integer."
   ]
  },
  {
   "cell_type": "code",
   "execution_count": 16,
   "id": "9c1451ff",
   "metadata": {},
   "outputs": [
    {
     "name": "stdout",
     "output_type": "stream",
     "text": [
      "Not a valid whole number. Enter Digits only.\n",
      "Exiting get_integer_input function\n"
     ]
    }
   ],
   "source": [
    "def get_integer_input():\n",
    "    u_input = input(\"Enter in a whole number: \")\n",
    "    try:\n",
    "        number = int(u_input)\n",
    "    except ValueError:\n",
    "        print(\"Not a valid whole number. Enter Digits only.\")\n",
    "    else:\n",
    "        print(f\"You enter a valid input: {number=}\")\n",
    "        return number\n",
    "    finally:\n",
    "        print(\"Exiting get_integer_input function\")\n",
    "\n",
    "get_integer_input()"
   ]
  },
  {
   "cell_type": "markdown",
   "id": "fc4e1ebc",
   "metadata": {},
   "source": [
    "## Example 2\n",
    "Created a function that divides two numbers, handling `ValueError` and `ZeroDivisionError`, printing the result in else, and a completion message in finally."
   ]
  },
  {
   "cell_type": "code",
   "execution_count": 19,
   "id": "63b16e33",
   "metadata": {},
   "outputs": [
    {
     "name": "stdout",
     "output_type": "stream",
     "text": [
      "Cannot divide by zero.\n",
      "Division attempt complete.\n",
      "\n",
      "Here on the bottom\n"
     ]
    }
   ],
   "source": [
    "def divide_numbers():\n",
    "    try:\n",
    "        numerator = int(input(\"Enter the numerator: \"))\n",
    "        denominator = int(input(\"Enter the denominator: \"))\n",
    "        result = numerator / denominator\n",
    "    except ValueError:\n",
    "        print(\"Please enter valid integers only.\")\n",
    "    except ZeroDivisionError:\n",
    "        print(\"Cannot divide by zero.\")\n",
    "    else:\n",
    "        print(f\"Result: {numerator} ÷ {denominator} = {result}\")\n",
    "    finally:\n",
    "        print(\"Division attempt complete.\\n\")\n",
    "\n",
    "divide_numbers()\n",
    "print(\"Here on the bottom\")"
   ]
  },
  {
   "cell_type": "markdown",
   "id": "fcd3ce87",
   "metadata": {},
   "source": [
    "## You Try Secret Code Validator\n",
    "Ask the user to enter a secret code. That follow these rules:\n",
    "- A 4-digit number\n",
    "- Even\n",
    "- Greater than 100\n",
    "\n",
    "Use a `try` block to convert the input to an integer and check if the input matches the secret code rules. \n",
    "If it does, print a success message in the `else` block.\n",
    "If it doesn't, raise a `ValueError` and handle it in the except block by printing an error message.\n",
    "Finally, print a message indicating that the validation process is complete in the `finally` block.\n",
    "\n",
    "Build the flow using `try/except/else/finally`:\n",
    "- Read input\n",
    "- Try to convert to int\n",
    "- Validate: 4-digit, even, greater than 100\n",
    "- If invalid, raise `ValueError` with a helpful message and handle it\n",
    "- If valid, print success in else\n",
    "- Always print a completion message in finally\n",
    "\n",
    "Optional: You can define a custom exception for more specific error handling, e.g., `InvalidSecretCodeError` or `SecretCodeTooShortError`."
   ]
  },
  {
   "cell_type": "code",
   "execution_count": null,
   "id": "bd6e96b9",
   "metadata": {},
   "outputs": [],
   "source": []
  },
  {
   "cell_type": "markdown",
   "id": "02b89e4b",
   "metadata": {},
   "source": [
    "# Custom Exception"
   ]
  },
  {
   "cell_type": "markdown",
   "id": "a504e752",
   "metadata": {},
   "source": [
    "When the built-in exceptions are not sufficient to represent specific error conditions in your application, you can create your own custom exceptions by defining a new class that inherits from the built-in `Exception` class.\n",
    "\n",
    "Therefore, can define a custom exception by creating a new class that extends the `Exception` class.\n",
    "\n",
    "General format to create a custom exception:\n",
    "```python\n",
    "class CustomException(Exception):\n",
    "    \"\"\"Custom exception class.\"\"\"\n",
    "    pass\n",
    "```"
   ]
  },
  {
   "cell_type": "markdown",
   "id": "d79d31f4",
   "metadata": {},
   "source": [
    "## Example 1\n",
    "Define a custom exception `RandomError`, where the random number generated a number that we deemed invalid.\n",
    "Creating and using a custom exception which raises an exception when a random number is less than 0.5."
   ]
  },
  {
   "cell_type": "code",
   "execution_count": 33,
   "id": "0130d243",
   "metadata": {},
   "outputs": [
    {
     "name": "stdout",
     "output_type": "stream",
     "text": [
      "Caught custom exception: Random number too small! Number:0.46772387582760366\n",
      "Program ended.\n"
     ]
    }
   ],
   "source": [
    "import random\n",
    "\n",
    "class RandomError(Exception):\n",
    "    \"\"\"Raised when a random number is < 0.5\"\"\"\n",
    "    pass\n",
    "\n",
    "try:\n",
    "    r = random.random()\n",
    "    if r < 0.5:\n",
    "        raise RandomError(f\"Random number too small! Number:{r}\")\n",
    "    print(\"Success:\", r)\n",
    "except RandomError as e:\n",
    "    print(\"Caught custom exception:\", e)\n",
    "finally:\n",
    "    print(\"Program ended.\")\n",
    "# Output:\n",
    "# Either prints success or caught custom exception message."
   ]
  },
  {
   "cell_type": "markdown",
   "id": "45caa55d",
   "metadata": {},
   "source": [
    "## Example 2\n",
    "Input validation with a custom exception\n",
    "\n",
    "Define a custom exception `ScoreOutOfRangeError` and a function `set_score(score)` that raises it when the score is not between 0 and 100 (inclusive). Demonstrate raising and handling the custom error (and a `TypeError` for non-numeric input)."
   ]
  },
  {
   "cell_type": "code",
   "execution_count": null,
   "id": "6911c497",
   "metadata": {},
   "outputs": [],
   "source": [
    "class ScoreOutOfRangeError(Exception):\n",
    "    \"\"\"Raised when a score is not in [0, 100]\"\"\"\n",
    "    pass\n",
    "\n",
    "\n",
    "def set_score(score):\n",
    "    if not isinstance(score, (int, float)):\n",
    "        raise TypeError(\"score must be a number\")\n",
    "    if not 0 <= score <= 100:\n",
    "        raise ScoreOutOfRangeError(f\"Invalid score: {score}. Must be between 0 and 100.\")\n",
    "    return f\"Recorded score: {score}\"\n",
    "\n",
    "\n",
    "try:\n",
    "    print(set_score(105))\n",
    "except ScoreOutOfRangeError as e:\n",
    "    print(\"Custom error caught:\", e)\n",
    "except TypeError as e:\n",
    "    print(\"Type error:\", e)\n",
    "else:\n",
    "    print(\"Score saved successfully.\")\n",
    "finally:\n",
    "    print(\"Score validation complete.\")"
   ]
  },
  {
   "cell_type": "markdown",
   "id": "78d51403",
   "metadata": {},
   "source": [
    "## You Try Custom Exceptions\n",
    "Define a custom exception named `TooMuchCoffeeError` that triggers when a coffee order exceeds a specified limit, e.g., more than 5 cups.\n",
    "- Create the exception class inheriting from Exception\n",
    "- Write a function order_coffee(cups) that raises TooMuchCoffeeError if cups > 5\n",
    "- Handle the exception when calling the function"
   ]
  },
  {
   "cell_type": "code",
   "execution_count": null,
   "id": "85febe2f",
   "metadata": {},
   "outputs": [],
   "source": [
    "class CustomException(Exception):\n",
    "    \"\"\"Custom exception class.\"\"\"\n",
    "    pass\n",
    "\n",
    "def order_coffee(cups):\n",
    "    # TODO: implement check and raise\n",
    "    pass\n",
    "\n",
    "try:\n",
    "    order_coffee(8)\n",
    "except CustomException as e:\n",
    "    print(\"Error:\", e)"
   ]
  },
  {
   "cell_type": "markdown",
   "id": "be3d7c41",
   "metadata": {},
   "source": [
    "# You Try Solutions"
   ]
  },
  {
   "cell_type": "markdown",
   "id": "19d2a938",
   "metadata": {},
   "source": [
    "## You Try Non-Numeric Input - ValueError Exception\n",
    "```python\n",
    "s = input(\"Enter an integer: \")\n",
    "try:\n",
    "    n = int(s)\n",
    "    print(f\"Double: {2 * n}\")\n",
    "except ValueError:\n",
    "    print(\"That's not a valid integer. Please try again.\")\n",
    "```\n",
    "\n",
    "## You Try Addition - TypeError Exception\n",
    "```python\n",
    "# Unhandled function (will raise TypeError when given a string)\n",
    "def add_xy(x, y):\n",
    "    return x + y\n",
    "\n",
    "# Example (uncomment to see traceback)\n",
    "# result = add_xy('2', 3)\n",
    "# print(result)\n",
    "```\n",
    "```python\n",
    "# Handled version with try/except\n",
    "def add_xy_e(x, y):\n",
    "    try:\n",
    "        return x + y\n",
    "    except TypeError:\n",
    "        print(\"Both inputs must be numbers.\")\n",
    "        return None\n",
    "\n",
    "# Example\n",
    "# print(add_xy_e('2', 3))  # -> Both inputs must be numbers. None\n",
    "# print(add_xy_e(2, 3))    # -> 5\n",
    "```\n",
    "\n",
    "## You Try Multiple Exceptions (separate handlers)\n",
    "```python\n",
    "try:\n",
    "    a = int(input(\"Enter numerator: \"))\n",
    "    b = int(input(\"Enter denominator: \"))\n",
    "    print(a / b)\n",
    "except ValueError:\n",
    "    print(\"Please enter whole numbers only.\")\n",
    "except ZeroDivisionError:\n",
    "    print(\"Cannot divide by zero.\")\n",
    "```\n",
    "\n",
    "## You Try Multiple Exceptions (grouped TypeError and ValueError)\n",
    "```python\n",
    "try:\n",
    "    a = input(\"Enter first value: \")\n",
    "    b = input(\"Enter second value: \")\n",
    "    result = int(a) / int(b)\n",
    "    print(\"Result:\", result)\n",
    "except (TypeError, ValueError):\n",
    "    print(\"Invalid input; please enter numeric values.\")\n",
    "```\n",
    "\n",
    "## You Try Raising Exceptions\n",
    "```python\n",
    "def require_str(value):\n",
    "    if not isinstance(value, str):\n",
    "        raise TypeError(\"Input must be a string\")\n",
    "    return value.upper()\n",
    "\n",
    "# Examples:\n",
    "# print(require_str(\"hello\"))  # HELLO\n",
    "# print(require_str(123))      # raises TypeError\n",
    "```\n",
    "\n",
    "## You Try Assert\n",
    "```python\n",
    "person = {\"name\": \"Alex\", \"age\": 25}\n",
    "assert person[\"age\"] < 21, \"Must be under 21\"\n",
    "```\n",
    "\n",
    "## You Try Exceptions in Functions (Quadratic)\n",
    "```python\n",
    "import math\n",
    "\n",
    "def quadratic_roots(a, b, c):\n",
    "    if a == 0:\n",
    "        raise ZeroDivisionError(\"a must not be 0 (denominator 2a is zero)\")\n",
    "    disc = b*b - 4*a*c\n",
    "    if disc < 0:\n",
    "        raise ValueError(\"Discriminant is negative; complex roots not allowed.\")\n",
    "    sqrt_disc = math.sqrt(disc)\n",
    "    x1 = (-b + sqrt_disc) / (2*a)\n",
    "    x2 = (-b - sqrt_disc) / (2*a)\n",
    "    return x1, x2\n",
    "\n",
    "# Example usage with handling:\n",
    "try:\n",
    "    print(quadratic_roots(1, 0, 1))  # disc < 0 -> ValueError\n",
    "except ValueError as e:\n",
    "    print(\"Error:\", e)\n",
    "except ZeroDivisionError as e:\n",
    "    print(\"Error:\", e)\n",
    "```\n",
    "\n",
    "## You Try Secret Code Validator\n",
    "```python\n",
    "code = input(\"Enter the secret code: \")\n",
    "try:\n",
    "    n = int(code)\n",
    "    # rules: 4-digit, even, greater than 100\n",
    "    if not (1000 <= n <= 9999):\n",
    "        raise ValueError(\"Code must be 4 digits.\")\n",
    "    if n % 2 != 0:\n",
    "        raise ValueError(\"Code must be even.\")\n",
    "    if n <= 100:\n",
    "        raise ValueError(\"Code must be greater than 100.\")\n",
    "except ValueError as e:\n",
    "    print(\"Invalid code:\", e)\n",
    "else:\n",
    "    print(\"Success! Code accepted.\")\n",
    "finally:\n",
    "    print(\"Validation complete.\")\n",
    "```\n",
    "\n",
    "## You Try Custom Exceptions\n",
    "```python\n",
    "class TooMuchCoffeeError(Exception):\n",
    "    \"\"\"Raised when coffee order exceeds 5 cups.\"\"\"\n",
    "    pass\n",
    "\n",
    "def order_coffee(cups):\n",
    "    if not isinstance(cups, int):\n",
    "        raise TypeError(\"cups must be an integer\")\n",
    "    if cups > 5:\n",
    "        raise TooMuchCoffeeError(f\"Ordered {cups} cups; maximum is 5.\")\n",
    "    return f\"Order placed for {cups} cup(s).\"\n",
    "\n",
    "# Example usage:\n",
    "try:\n",
    "    print(order_coffee(8))\n",
    "except TooMuchCoffeeError as e:\n",
    "    print(\"Order error:\", e)\n",
    "```"
   ]
  }
 ],
 "metadata": {
  "kernelspec": {
   "display_name": "base",
   "language": "python",
   "name": "python3"
  },
  "language_info": {
   "codemirror_mode": {
    "name": "ipython",
    "version": 3
   },
   "file_extension": ".py",
   "mimetype": "text/x-python",
   "name": "python",
   "nbconvert_exporter": "python",
   "pygments_lexer": "ipython3",
   "version": "3.13.5"
  }
 },
 "nbformat": 4,
 "nbformat_minor": 5
}
