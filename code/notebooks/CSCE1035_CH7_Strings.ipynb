{
 "cells": [
  {
   "cell_type": "markdown",
   "id": "1954f490",
   "metadata": {},
   "source": [
    "# **Chapter 7: Strings**\n",
    "\n",
    "# **Advance String Manipulation**"
   ]
  },
  {
   "cell_type": "markdown",
   "id": "4e6ca663",
   "metadata": {},
   "source": [
    "## Selecting Characters in a String\n",
    "\n",
    "Done via indexing and slicing."
   ]
  },
  {
   "cell_type": "markdown",
   "id": "a8ba1090",
   "metadata": {},
   "source": [
    "### Indexing"
   ]
  },
  {
   "cell_type": "code",
   "execution_count": null,
   "id": "72cdf109",
   "metadata": {},
   "outputs": [],
   "source": [
    "greet = 'hello, world'\n",
    "# How to get the ',' character?\n",
    "print(greet[6])\n",
    "print(greet[-3])\n",
    "print(greet[-10])\n",
    "# Another way for `greet[-10]`?\n",
    "print(greet['6']) # Will produce an error"
   ]
  },
  {
   "cell_type": "markdown",
   "id": "6d37cd0c",
   "metadata": {},
   "source": [
    "### Example 1 - Accessing First and Last Characters"
   ]
  },
  {
   "cell_type": "code",
   "execution_count": null,
   "id": "6db844eb",
   "metadata": {},
   "outputs": [],
   "source": [
    "word = \"Python\"\n",
    "print(f\"First character: {word[0]}\")\n",
    "print(f\"Last character: {word[-1]}\")\n",
    "print(f\"Second character: {word[1]}\")\n",
    "print(f\"Second to last: {word[-2]}\")"
   ]
  },
  {
   "cell_type": "markdown",
   "id": "36292e2d",
   "metadata": {},
   "source": [
    "### Example 2 - Safe Indexing with Length Check"
   ]
  },
  {
   "cell_type": "code",
   "execution_count": 1,
   "id": "2a53773c",
   "metadata": {},
   "outputs": [
    {
     "name": "stdout",
     "output_type": "stream",
     "text": [
      "Index 10 is out of range for string of length 5\n",
      "Length of 'Hello': 5\n",
      "Index -5: 'H'\n",
      "Index -4: 'e'\n",
      "Index -3: 'l'\n",
      "Index -2: 'l'\n",
      "Index -1: 'o'\n"
     ]
    }
   ],
   "source": [
    "text = \"Hello\"\n",
    "index = 10\n",
    "\n",
    "if index < len(text):\n",
    "    print(f\"Character at index {index}: {text[index]}\")\n",
    "else:\n",
    "    print(f\"Index {index} is out of range for string of length {len(text)}\")\n",
    "\n",
    "# Show negative indexing \n",
    "print(f\"Length of '{text}': {len(text)}\")\n",
    "for i in range(-len(text), 0):\n",
    "    print(f\"Index {i}: '{text[i]}'\")"
   ]
  },
  {
   "cell_type": "markdown",
   "id": "ce78d23a",
   "metadata": {},
   "source": [
    "### Example 3 - Finding Character Positions"
   ]
  },
  {
   "cell_type": "code",
   "execution_count": 2,
   "id": "82acccf6",
   "metadata": {},
   "outputs": [
    {
     "name": "stdout",
     "output_type": "stream",
     "text": [
      "String: 'Programming is fun!'\n",
      "Position of 'r': 1\n",
      "Position of 'i': 8\n",
      "Position of '!': 18\n",
      "Vowel 'o' found at index 2\n",
      "Vowel 'a' found at index 5\n",
      "Vowel 'i' found at index 8\n",
      "Vowel 'i' found at index 12\n",
      "Vowel 'u' found at index 16\n"
     ]
    }
   ],
   "source": [
    "sentence = \"Programming is fun!\"\n",
    "print(f\"String: '{sentence}'\")\n",
    "print(f\"Position of 'r': {sentence.find('r')}\")\n",
    "print(f\"Position of 'i': {sentence.find('i')}\")\n",
    "print(f\"Position of '!': {sentence.find('!')}\")\n",
    "\n",
    "# Manual indexing to show positions\n",
    "for i, char in enumerate(sentence):\n",
    "    if char in 'aeiou':  # Find vowels\n",
    "        print(f\"Vowel '{char}' found at index {i}\")"
   ]
  },
  {
   "cell_type": "markdown",
   "id": "a55db206",
   "metadata": {},
   "source": [
    "### You Try - Print Even Characters\n",
    "\n",
    "Goal: Print out all the characters in the string with an even index\n",
    "Program Structure:\n",
    "- Create a user-defined function:\n",
    "    - Call it even_char with one string argument. \n",
    "    - returns all characters with an even index. \n",
    "- In the main part of the program:\n",
    "    - Prompt the user for and read in a string.\n",
    "    - Call the even_char function, passing in the user-inputted string.\n",
    "    - Print the return.\n"
   ]
  },
  {
   "cell_type": "code",
   "execution_count": 26,
   "id": "eab18683",
   "metadata": {},
   "outputs": [],
   "source": [
    "# You Try - Print Even Characters"
   ]
  },
  {
   "cell_type": "markdown",
   "id": "9d69619a",
   "metadata": {},
   "source": [
    "### Splicing"
   ]
  },
  {
   "cell_type": "code",
   "execution_count": 6,
   "id": "cfec2e11",
   "metadata": {},
   "outputs": [
    {
     "name": "stdout",
     "output_type": "stream",
     "text": [
      "dlrow ,olleh\n"
     ]
    }
   ],
   "source": [
    "greet = 'hello, world'\n",
    "# How to get the 'hello' substring?\n",
    "# print(greet[7:11])\n",
    "# print(greet[7:])\n",
    "# print()\n",
    "# print(greet[:6:1])\n",
    "# # What are other way to get same substring instead of `greet[:6:1]`?\n",
    "# print()\n",
    "# print(greet[5::-1])\n",
    "# print(greet[::2])\n",
    "# print(greet[11::-1])\n",
    "print(greet[25::-1])"
   ]
  },
  {
   "cell_type": "code",
   "execution_count": 11,
   "id": "b522ea78",
   "metadata": {},
   "outputs": [
    {
     "name": "stdout",
     "output_type": "stream",
     "text": [
      "MNO\n",
      "ONM\n"
     ]
    }
   ],
   "source": [
    "ALPHABET = 'ABCDEFGHIJKLMNOPQRSTUVWXYZ'\n",
    "# print(ALPHABET[7:9] )\n",
    "# print(ALPHABET[1:-1])\n",
    "# print(ALPHABET[-3:-1])\n",
    "# print(ALPHABET[0:5:2])\n",
    "# print(ALPHABET[:3])\n",
    "# print(ALPHABET[::-1])\n",
    "# print(ALPHABET[-1:])\n",
    "# print(ALPHABET[5:2:-1])\n",
    "# print(ALPHABET[14:-12])\n",
    "# print(ALPHABET[14:10:-2])\n",
    "print(ALPHABET[12:15:1])\n",
    "print(ALPHABET[14:11:-1])\n"
   ]
  },
  {
   "cell_type": "markdown",
   "id": "577d71a7",
   "metadata": {},
   "source": [
    "### Example 1 - Extracting Words from Sentences"
   ]
  },
  {
   "cell_type": "code",
   "execution_count": null,
   "id": "92d5e5dc",
   "metadata": {},
   "outputs": [],
   "source": [
    "sentence = \"The quick brown fox jumps\"\n",
    "print(f\"Original: '{sentence}'\")\n",
    "print(f\"First word: '{sentence[0:3]}'\")\n",
    "print(f\"Second word: '{sentence[4:9]}'\")\n",
    "print(f\"Last word: '{sentence[20:]}'\")\n",
    "print(f\"Everything except first word: '{sentence[4:]}'\")\n",
    "print(f\"Everything except last word: '{sentence[:-6]}'\")"
   ]
  },
  {
   "cell_type": "markdown",
   "id": "c7216627",
   "metadata": {},
   "source": [
    "### Example 2 - String Reversal and Patterns"
   ]
  },
  {
   "cell_type": "code",
   "execution_count": null,
   "id": "4cb81a44",
   "metadata": {},
   "outputs": [],
   "source": [
    "text = \"PROGRAMMING\"\n",
    "print(f\"Original: {text}\")\n",
    "print(f\"Reversed: {text[::-1]}\")\n",
    "print(f\"Every 2nd character: {text[::2]}\")\n",
    "print(f\"Every 3rd character: {text[::3]}\")\n",
    "print(f\"Last 5 characters reversed: {text[-5:][::-1]}\")\n",
    "print(f\"Middle portion: {text[2:-2]}\")\n",
    "print(f\"Alternate from end: {text[::-2]}\")"
   ]
  },
  {
   "cell_type": "markdown",
   "id": "2da0d61b",
   "metadata": {},
   "source": [
    "### Example 3 - Data Extraction from Formatted Strings"
   ]
  },
  {
   "cell_type": "code",
   "execution_count": null,
   "id": "c96470e6",
   "metadata": {},
   "outputs": [],
   "source": [
    "date_string = \"2024-03-15\"\n",
    "email = \"user@example.com\"\n",
    "phone = \"(555) 123-4567\"\n",
    "\n",
    "print(\"Date parsing:\")\n",
    "print(f\"Year: {date_string[0:4]}\")\n",
    "print(f\"Month: {date_string[5:7]}\")\n",
    "print(f\"Day: {date_string[8:10]}\")\n",
    "\n",
    "print(\"\\nEmail parsing:\")\n",
    "print(f\"Username: {email[0:email.find('@')]}\")\n",
    "print(f\"Domain: {email[email.find('@')+1:]}\")\n",
    "\n",
    "print(\"\\nPhone parsing:\")\n",
    "print(f\"Area code: {phone[1:4]}\")\n",
    "print(f\"Exchange: {phone[6:9]}\")\n",
    "print(f\"Number: {phone[10:14]}\")"
   ]
  },
  {
   "cell_type": "markdown",
   "id": "2d02564d",
   "metadata": {},
   "source": [
    "### You Try - Print Even Characters with Splicing\n",
    "\n",
    "Goal: Print out all the characters in the string with an even index\n",
    "Program Structure:\n",
    "- Create a user-defined function:\n",
    "    - Call it even_char with one string argument. \n",
    "    - returns all characters with an even index. \n",
    "- In the main part of the program:\n",
    "    - Prompt the user for and read in a string.\n",
    "    - Call the even_char function, passing in the user-inputted string.\n",
    "    - Print the return.\n"
   ]
  },
  {
   "cell_type": "code",
   "execution_count": 27,
   "id": "f706e02e",
   "metadata": {},
   "outputs": [],
   "source": [
    "# You Try - Print Even Characters with Splicing"
   ]
  },
  {
   "cell_type": "markdown",
   "id": "0add01db",
   "metadata": {},
   "source": [
    "## Advance String Formatting"
   ]
  },
  {
   "cell_type": "markdown",
   "id": "eeead53b",
   "metadata": {},
   "source": [
    "### Regular String Formatting\n",
    "\n",
    "When printing the following we getting the following output:"
   ]
  },
  {
   "cell_type": "code",
   "execution_count": 15,
   "id": "25b710c1",
   "metadata": {},
   "outputs": [
    {
     "name": "stdout",
     "output_type": "stream",
     "text": [
      "Dominic|29\n",
      "Dominic|29\n"
     ]
    }
   ],
   "source": [
    "name = 'Dominic'\n",
    "age = 29\n",
    "print(\"{}|{}\".format(name, age))\n",
    "print(f\"{name}|{age}\")"
   ]
  },
  {
   "cell_type": "markdown",
   "id": "7e4a6731",
   "metadata": {},
   "source": [
    "That is fine for simple cases, but what if we want to print multiple names and ages?\n",
    "\n",
    "Utilizing the same regular string formatting we can do the following:"
   ]
  },
  {
   "cell_type": "code",
   "execution_count": 51,
   "id": "a1a436c2",
   "metadata": {},
   "outputs": [
    {
     "name": "stdout",
     "output_type": "stream",
     "text": [
      "Name|Age\n",
      "Dominic|29\n",
      "Phil|25\n",
      "Luke|30\n",
      "Zhin|35\n"
     ]
    }
   ],
   "source": [
    "names = ['Dominic', 'Phil', 'Luke', 'Zhin']\n",
    "ages = [29, 25, 30, 35]\n",
    "\n",
    "print(f\"{'Name'}|{'Age'}\")\n",
    "for name, age in zip(names, ages):\n",
    "    print(f\"{name}|{age}\")"
   ]
  },
  {
   "cell_type": "markdown",
   "id": "9c609b89",
   "metadata": {},
   "source": [
    "This is spacing and aligning of the output is not ideal. Especially if we have a lot of names and ages to print. Not including other information like addresses, phone numbers, etc, which would make the output even more cluttered.\n"
   ]
  },
  {
   "cell_type": "markdown",
   "id": "f58babcb",
   "metadata": {},
   "source": [
    "### String Format Specification\n"
   ]
  },
  {
   "cell_type": "markdown",
   "id": "963e5d3a",
   "metadata": {},
   "source": [
    "Let's start with printing and understanding the format specification, starting with the width and fill options."
   ]
  },
  {
   "cell_type": "code",
   "execution_count": 16,
   "id": "ac6996fb",
   "metadata": {},
   "outputs": [
    {
     "name": "stdout",
     "output_type": "stream",
     "text": [
      "'1234567890'\n",
      "'1234567890     '\n",
      "'-------1234567890--------'\n"
     ]
    }
   ],
   "source": [
    "print(f\"\\'{'1234567890'}\\'\")\n",
    "print(f\"\\'{'1234567890':15}\\'\")\n",
    "print(f\"\\'{'1234567890':-^25}\\'\")"
   ]
  },
  {
   "cell_type": "code",
   "execution_count": 100,
   "id": "254b75ed",
   "metadata": {},
   "outputs": [
    {
     "ename": "ValueError",
     "evalue": "Invalid format specifier '@15' for object of type 'str'",
     "output_type": "error",
     "traceback": [
      "\u001b[31m---------------------------------------------------------------------------\u001b[39m",
      "\u001b[31mValueError\u001b[39m                                Traceback (most recent call last)",
      "\u001b[36mCell\u001b[39m\u001b[36m \u001b[39m\u001b[32mIn[100]\u001b[39m\u001b[32m, line 2\u001b[39m\n\u001b[32m      1\u001b[39m \u001b[38;5;66;03m# Error will occur because no alignment is used.\u001b[39;00m\n\u001b[32m----> \u001b[39m\u001b[32m2\u001b[39m \u001b[38;5;28mprint\u001b[39m(\u001b[33mf\u001b[39m\u001b[33m\"\u001b[39m\u001b[38;5;130;01m\\'\u001b[39;00m\u001b[38;5;132;01m{\u001b[39;00m\u001b[33m'\u001b[39m\u001b[33m1234567890\u001b[39m\u001b[33m'\u001b[39m\u001b[38;5;132;01m:\u001b[39;00m\u001b[33m@15\u001b[39m\u001b[38;5;132;01m}\u001b[39;00m\u001b[38;5;130;01m\\'\u001b[39;00m\u001b[33m\"\u001b[39m)\n",
      "\u001b[31mValueError\u001b[39m: Invalid format specifier '@15' for object of type 'str'"
     ]
    }
   ],
   "source": [
    "# Error will occur because no alignment is used.\n",
    "print(f\"\\'{'1234567890':@15}\\'\")"
   ]
  },
  {
   "cell_type": "markdown",
   "id": "e6ebfba4",
   "metadata": {},
   "source": [
    "Let's look at printing using the fill and align options."
   ]
  },
  {
   "cell_type": "code",
   "execution_count": 17,
   "id": "569193f9",
   "metadata": {},
   "outputs": [
    {
     "name": "stdout",
     "output_type": "stream",
     "text": [
      "'    Dominic    '\n",
      "'Dominic@@@@@@@@'\n",
      "'--------Dominic'\n"
     ]
    }
   ],
   "source": [
    "print(f\"\\'{'Dominic':^15}\\'\")\n",
    "print(f\"\\'{'Dominic':@<15}\\'\")\n",
    "print(f\"\\'{'Dominic':->15}\\'\")"
   ]
  },
  {
   "cell_type": "markdown",
   "id": "bb41ddf7",
   "metadata": {},
   "source": [
    "Let's look at aligning a signed number with 0 padding for numbers."
   ]
  },
  {
   "cell_type": "code",
   "execution_count": 103,
   "id": "535d6cc5",
   "metadata": {},
   "outputs": [
    {
     "name": "stdout",
     "output_type": "stream",
     "text": [
      "+0000005\n",
      "000000+5\n",
      "+5000000\n",
      "-0000005\n",
      "000+5000\n"
     ]
    }
   ],
   "source": [
    "print(f\"{5:0=+8}\")\n",
    "print(f\"{5:0>+8}\")\n",
    "print(f\"{5:0<+8}\")\n",
    "print(f\"{-5:0=-8}\")\n",
    "print(f\"{5:0^+8}\")"
   ]
  },
  {
   "cell_type": "markdown",
   "id": "cba86964",
   "metadata": {},
   "source": [
    "Let's look at the number 15 and applying different types within formatting, along '#' alternative display for numbers."
   ]
  },
  {
   "cell_type": "code",
   "execution_count": 78,
   "id": "26f84732",
   "metadata": {},
   "outputs": [
    {
     "name": "stdout",
     "output_type": "stream",
     "text": [
      "15\n",
      "15.000000\n",
      "1.500000e+01\n",
      "0xf\n",
      "0XF\n",
      "f\n",
      "F\n",
      "15.00%\n"
     ]
    }
   ],
   "source": [
    "print(f\"{15}\")\n",
    "print(f\"{15:f}\")\n",
    "print(f\"{15:e}\")\n",
    "print(f\"{15:#x}\")\n",
    "print(f\"{15:#X}\")\n",
    "print(f\"{15:x}\")\n",
    "print(f\"{15:X}\")\n",
    "print(f\"{0.15:.2%}\")"
   ]
  },
  {
   "cell_type": "markdown",
   "id": "5982ab6f",
   "metadata": {},
   "source": [
    "Let's look at providing the width and precision for floating point numbers."
   ]
  },
  {
   "cell_type": "code",
   "execution_count": 7,
   "id": "1b721982",
   "metadata": {},
   "outputs": [
    {
     "name": "stdout",
     "output_type": "stream",
     "text": [
      "'----1,234,567.00----'\n",
      "'---1,234,567.0000---'\n",
      "'----1,234,567.0-----'\n"
     ]
    }
   ],
   "source": [
    "# number = 1234567.89123\n",
    "number = 1234567\n",
    "print(f\"\\'{number:-^20,.2f}\\'\")\n",
    "print(f\"\\'{number:-^20,.4f}\\'\")\n",
    "print(f\"\\'{number:-^20,.1f}\\'\")"
   ]
  },
  {
   "cell_type": "markdown",
   "id": "9238f502",
   "metadata": {},
   "source": [
    "### Example 1 - Creating Professional Reports"
   ]
  },
  {
   "cell_type": "code",
   "execution_count": 23,
   "id": "099b65b6",
   "metadata": {},
   "outputs": [
    {
     "name": "stdout",
     "output_type": "stream",
     "text": [
      "======================================================================\n",
      "                           EMPLOYEE REPORT                            \n",
      "======================================================================\n",
      "        Name            ID    Department            Salary\n",
      "----------------------------------------------------------------------\n",
      "Alice Johnson         12345   Engineering  $      75,000.50\n",
      "Bob Smith             67890   Marketing    $      82,000.75\n",
      "Carol Davis           11111   HR           $      68,500.00\n",
      "----------------------------------------------------------------------\n",
      "TOTAL                                     $  225,501.25\n"
     ]
    }
   ],
   "source": [
    "employees = [\n",
    "    {\"name\": \"Alice Johnson\", \"id\": 12345, \"salary\": 75000.50, \"dept\": \"Engineering\"},\n",
    "    {\"name\": \"Bob Smith\", \"id\": 67890, \"salary\": 82000.75, \"dept\": \"Marketing\"},\n",
    "    {\"name\": \"Carol Davis\", \"id\": 11111, \"salary\": 68500.00, \"dept\": \"HR\"}\n",
    "]\n",
    "\n",
    "print(f\"{'='*70}\")\n",
    "print(f\"{'EMPLOYEE REPORT':^70}\")\n",
    "print(f\"{'='*70}\")\n",
    "print(f\"{'Name':^20} {'ID':^8} {'Department':<12} {'Salary':>15}\")\n",
    "print(f\"{'-'*70}\")\n",
    "\n",
    "for emp in employees:\n",
    "    print(f\"{emp['name']:<20} {emp['id']:^8} {emp['dept']:<12} ${emp['salary']:>15,.2f}\")\n",
    "\n",
    "print(f\"{'-'*70}\")\n",
    "total_salary = sum(emp['salary'] for emp in employees)\n",
    "print(f\"{'TOTAL':<41} ${total_salary:>12,.2f}\")"
   ]
  },
  {
   "cell_type": "markdown",
   "id": "e8160555",
   "metadata": {},
   "source": [
    "### Example 2 - Number System Conversions"
   ]
  },
  {
   "cell_type": "code",
   "execution_count": 55,
   "id": "0b3e0217",
   "metadata": {},
   "outputs": [
    {
     "name": "stdout",
     "output_type": "stream",
     "text": [
      "Number   Binary       Octal    Hex      Scientific      Percentage  \n",
      "-----------------------------------------------------------------\n",
      "42       00101010     000052   002A     4.20e+01         42.0%      \n",
      "255      11111111     000377   00FF     2.55e+02        255.0%      \n",
      "1024     10000000000  002000   0400     1.02e+03        1024.0%     \n",
      "16       00010000     000020   0010     1.60e+01         16.0%      \n"
     ]
    }
   ],
   "source": [
    "numbers = [42, 255, 1024, 16]\n",
    "\n",
    "print(f\"{'Number':<8} {'Binary':<12} {'Octal':<8} {'Hex':<8} {'Scientific':<15} {'Percentage':<12}\")\n",
    "print(f\"{'-'*65}\")\n",
    "\n",
    "for num in numbers:\n",
    "    binary = f\"{num:08b}\"  # 8-digit binary\n",
    "    octal = f\"{num:06o}\"   # 6-digit octal\n",
    "    hexadecimal = f\"{num:04X}\"  # 4-digit uppercase hex\n",
    "    scientific = f\"{num:8.2e}\"  # scientific notation\n",
    "    percentage = f\"{num/100:6.1%}\"  # as percentage\n",
    "    \n",
    "    print(f\"{num:<8} {binary:<12} {octal:<8} {hexadecimal:<8} {scientific:<15} {percentage:<12}\")"
   ]
  },
  {
   "attachments": {
    "image.png": {
     "image/png": "[encoded data removed]"
    }
   },
   "cell_type": "markdown",
   "id": "6fcb6520",
   "metadata": {},
   "source": [
    "### You Try - Player Stat \n",
    "\n",
    "Let's attempt to recreate this table using advance string formatting.\n",
    "\n",
    "![image.png](attachment:image.png)"
   ]
  },
  {
   "cell_type": "code",
   "execution_count": 118,
   "id": "52b4c126",
   "metadata": {},
   "outputs": [],
   "source": [
    "players = {\n",
    "    'name' : ['Sadio Mane', 'Mohamed Salah', 'Sergio Aguero', 'Jamie Vardy', 'Gabreil Jesus'],\n",
    "    'goals' : [22, 22, 21, 18, 7],\n",
    "    'games_played' : [36, 38, 33, 34, 29],\n",
    "}"
   ]
  },
  {
   "cell_type": "markdown",
   "id": "d416c4f6",
   "metadata": {},
   "source": [
    "Here is a character template with the spacing for each categories: \n",
    "- Player Name is 15 characters long\n",
    "- Goals is 8 characters long\n",
    "- Games Played is 15 characters long\n",
    "- Goals Per Game is 20 characters long\n",
    "- Don't forget 3 characters for the pipes (|) between each category\n",
    "- Total width is 61 characters"
   ]
  },
  {
   "cell_type": "code",
   "execution_count": null,
   "id": "2efa837e",
   "metadata": {},
   "outputs": [],
   "source": [
    "# You Try - Player Stat\n",
    "# Print the Header\n",
    "# Print the header separation bar\n",
    "# Loop through each player and print their stats"
   ]
  },
  {
   "cell_type": "markdown",
   "id": "3122219c",
   "metadata": {},
   "source": [
    "### You Try - Palindrome Detector\n",
    "\n",
    "A palindrome is a word, phrase, number, or other sequence of characters which reads the same backward as forward.\n",
    "\n",
    "Example:\n",
    "- madam\n",
    "- racecar.\n",
    "- bob\n",
    "- sees\n",
    "- never odd or even (ignoring spaces)\n",
    "\n",
    "Write a program whose input is a word or phrase, and that outputs whether the input is a palindrome."
   ]
  },
  {
   "cell_type": "code",
   "execution_count": null,
   "id": "c05d53f8",
   "metadata": {},
   "outputs": [],
   "source": [
    "# You Try - Palindrome Detector"
   ]
  },
  {
   "cell_type": "markdown",
   "id": "743b157f",
   "metadata": {},
   "source": [
    "# **String Methods**"
   ]
  },
  {
   "cell_type": "markdown",
   "id": "7b2ae6ad",
   "metadata": {},
   "source": [
    "## Find Method"
   ]
  },
  {
   "cell_type": "code",
   "execution_count": 7,
   "id": "bec1948c",
   "metadata": {},
   "outputs": [
    {
     "name": "stdout",
     "output_type": "stream",
     "text": [
      "6\n",
      "6\n",
      "-1\n",
      "-1\n",
      "3\n",
      "5\n",
      "15\n",
      "5\n"
     ]
    }
   ],
   "source": [
    "print(\"hello world\".find(\"world\"))\n",
    "print(\"hello world\".find(\"w\"))\n",
    "print(\"hello world\".find(\"Python\"))\n",
    "print(\"hello world\".find(\"World\"))\n",
    "print(\"Dominic\".find(\"i\", 2))\n",
    "print(\"Dominic\".find(\"i\", 4, 6))\n",
    "print(\"Is class boring?\".find(\"?\"))\n",
    "print(\"where is the space?\".find(\" \"))"
   ]
  },
  {
   "cell_type": "code",
   "execution_count": 11,
   "id": "835b3cc3",
   "metadata": {},
   "outputs": [
    {
     "name": "stdout",
     "output_type": "stream",
     "text": [
      "1\n",
      "-1\n",
      "4\n",
      "-1\n",
      "8\n"
     ]
    }
   ],
   "source": [
    "greet = 'Welcome to python'\n",
    "print(greet.find('el'))\n",
    "print(greet.find('el', 3))\n",
    "print(greet.find('o', 3))\n",
    "print(greet.find('to', 3, 9))\n",
    "print(greet.find('to', 3, 10))"
   ]
  },
  {
   "cell_type": "markdown",
   "id": "c41e9801",
   "metadata": {},
   "source": [
    "### Example 1 - Text Analysis and Word Extraction"
   ]
  },
  {
   "cell_type": "code",
   "execution_count": 61,
   "id": "d1d3dcba",
   "metadata": {},
   "outputs": [
    {
     "name": "stdout",
     "output_type": "stream",
     "text": [
      "Text: 'The quick brown fox jumps over the lazy dog'\n",
      "\n",
      "'the' found at positions: [31]\n",
      "\n",
      "Second word: 'quick'\n",
      "\n",
      "File: document, Extension: pdf\n",
      "File: image, Extension: jpg\n",
      "File: script, Extension: py\n",
      "File: data, Extension: csv\n",
      "File: exam2-test-questions, Extension: markdown\n"
     ]
    }
   ],
   "source": [
    "text = \"The quick brown fox jumps over the lazy dog\"\n",
    "print(f\"Text: '{text}'\")\n",
    "print()\n",
    "\n",
    "# Find all occurrences of 'the'\n",
    "word = 'the'\n",
    "positions = []\n",
    "start = 0\n",
    "while True:\n",
    "    pos = text.find(word, start)\n",
    "    if pos == -1:\n",
    "        break\n",
    "    positions.append(pos)\n",
    "    start = pos + 1\n",
    "\n",
    "print(f\"'{word}' found at positions: {positions}\")\n",
    "print()\n",
    "first_space = text.find(' ')\n",
    "second_space = text.find(' ', first_space + 1)\n",
    "print(f\"Second word: '{text[first_space+1:second_space]}'\")\n",
    "\n",
    "print()\n",
    "filenames = [\"document.pdf\", \"image.jpg\", \"script.py\", \"data.csv\", \"exam2-test-questions.markdown\"]\n",
    "for filename in filenames:\n",
    "    dot_pos = filename.rfind('.')  # Find last occurrence\n",
    "    if dot_pos != -1:\n",
    "        extension = filename[dot_pos+1:]\n",
    "        name = filename[:dot_pos]\n",
    "        print(f\"File: {name}, Extension: {extension}\")"
   ]
  },
  {
   "cell_type": "markdown",
   "id": "6e163969",
   "metadata": {},
   "source": [
    "### Example 2 - Email and URL Validation"
   ]
  },
  {
   "cell_type": "code",
   "execution_count": 76,
   "id": "a73ab827",
   "metadata": {},
   "outputs": [
    {
     "name": "stdout",
     "output_type": "stream",
     "text": [
      "Email Validation:\n",
      "+: user@example.com          -> User: user, Domain: example.com\n",
      "-: invalid.email             -> Invalid format\n",
      "+: test@domain.org           -> User: test, Domain: domain.org\n",
      "-: bad@                      -> Invalid format\n",
      "+: good.email@company.co.uk  -> User: good.email, Domain: company.co.uk\n"
     ]
    }
   ],
   "source": [
    "# Example 2: Validating email addresses and URLs\n",
    "emails = [\n",
    "    \"user@example.com\",\n",
    "    \"invalid.email\",\n",
    "    \"test@domain.org\",\n",
    "    \"bad@\",\n",
    "    \"good.email@company.co.uk\"\n",
    "]\n",
    "\n",
    "print(\"Email Validation:\")\n",
    "for email in emails:\n",
    "    at_pos = email.find('@')\n",
    "    dot_pos = email.rfind('.')\n",
    "    \n",
    "    if at_pos > 0 and dot_pos > at_pos + 1 and dot_pos < len(email) - 1:\n",
    "        username = email[:at_pos]\n",
    "        domain = email[at_pos+1:]\n",
    "        print(f\"+: {email:<25} -> User: {username}, Domain: {domain}\")\n",
    "    else:\n",
    "        print(f\"-: {email:<25} -> Invalid format\")"
   ]
  },
  {
   "cell_type": "markdown",
   "id": "fe999106",
   "metadata": {},
   "source": [
    "### You Try - Text Search Engine\n",
    "\n",
    "Create a simple text search engine that:\n",
    "\n",
    "1. Takes a large text input (paragraph or more)\n",
    "2. Allows users to search for words or phrases\n",
    "3. Returns:\n",
    "   - Number of occurrences\n",
    "   - All positions where found\n",
    "   - Context (5 words before and after each occurrence)\n",
    "   - Case-insensitive search option"
   ]
  },
  {
   "cell_type": "code",
   "execution_count": null,
   "id": "6723306c",
   "metadata": {},
   "outputs": [],
   "source": [
    "# You Try - Text Search Engine\n"
   ]
  },
  {
   "cell_type": "markdown",
   "id": "0f956eae",
   "metadata": {},
   "source": [
    "## Additional Methods"
   ]
  },
  {
   "cell_type": "code",
   "execution_count": 8,
   "id": "1930bee3",
   "metadata": {},
   "outputs": [
    {
     "name": "stdout",
     "output_type": "stream",
     "text": [
      "1\n",
      "8\n",
      "-1\n",
      "4\n",
      "15\n",
      "3\n"
     ]
    }
   ],
   "source": [
    "greet = 'Welcome to python'\n",
    "print(greet.index('el'))\n",
    "print(greet.index('to', 3))\n",
    "print(greet.find('to', 3, 9))\n",
    "# Error will occure for index if substring is not found in string\n",
    "# print(greet.index('to', 3, 9))\n",
    "print(greet.find('o'))\n",
    "print(greet.rfind('o'))\n",
    "print(greet.count('o'))"
   ]
  },
  {
   "cell_type": "markdown",
   "id": "7a3a2e07",
   "metadata": {},
   "source": [
    "## Comparisons"
   ]
  },
  {
   "cell_type": "code",
   "execution_count": 25,
   "id": "4b21ee59",
   "metadata": {},
   "outputs": [
    {
     "name": "stdout",
     "output_type": "stream",
     "text": [
      "True\n",
      "False\n"
     ]
    }
   ],
   "source": [
    "a = 'Let us comparing strings'\n",
    "b = 'Let us comparing strings'\n",
    "print(a == b)\n",
    "print(a is b)"
   ]
  },
  {
   "cell_type": "code",
   "execution_count": null,
   "id": "13f4ea12",
   "metadata": {},
   "outputs": [],
   "source": [
    "a = 'hello'\n",
    "b = 'hello'\n",
    "print(a == b)\n",
    "print(a is b)"
   ]
  },
  {
   "cell_type": "markdown",
   "id": "79f492c5",
   "metadata": {},
   "source": [
    "## Test Methods"
   ]
  },
  {
   "cell_type": "code",
   "execution_count": 9,
   "id": "8582bef4",
   "metadata": {},
   "outputs": [
    {
     "name": "stdout",
     "output_type": "stream",
     "text": [
      "False\n",
      "False\n",
      "False\n",
      "True\n",
      "False\n",
      "False\n",
      "True\n"
     ]
    }
   ],
   "source": [
    "phrase = \"welcome to python!\"\n",
    "print(phrase.isalnum())\n",
    "print(phrase.isalpha())\n",
    "print(phrase.isdigit())\n",
    "print(phrase.islower())\n",
    "print(phrase.isspace())\n",
    "print(phrase.isupper())\n",
    "print('  \\n\\t'.isspace())"
   ]
  },
  {
   "cell_type": "code",
   "execution_count": 16,
   "id": "1d81f0b2",
   "metadata": {},
   "outputs": [
    {
     "name": "stdout",
     "output_type": "stream",
     "text": [
      "False\n",
      "True\n"
     ]
    }
   ],
   "source": [
    "print(phrase.startswith('wal'))\n",
    "print(phrase.endswith('!'))"
   ]
  },
  {
   "cell_type": "code",
   "execution_count": null,
   "id": "84ce7805",
   "metadata": {},
   "outputs": [],
   "source": []
  },
  {
   "cell_type": "code",
   "execution_count": null,
   "id": "b8742b41",
   "metadata": {},
   "outputs": [],
   "source": []
  },
  {
   "cell_type": "code",
   "execution_count": null,
   "id": "fe919d3e",
   "metadata": {},
   "outputs": [],
   "source": []
  },
  {
   "cell_type": "markdown",
   "id": "89dbeec3",
   "metadata": {},
   "source": [
    "### Example 1 - Input Validation System"
   ]
  },
  {
   "cell_type": "code",
   "execution_count": 82,
   "id": "f19389d8",
   "metadata": {},
   "outputs": [
    {
     "name": "stdout",
     "output_type": "stream",
     "text": [
      "+ Username: 'john123' - \n",
      "- Username: 'jo' - Username must be alphanumeric and at least 3 characters\n",
      "+ Password: 'Password123' - \n",
      "- Password: 'weak' - Password must be 8+ chars with upper, lower, and digit\n",
      "+ Phone: '555-123-4567' - \n",
      "- Phone: '123456789' - Phone must be 10 digits\n"
     ]
    }
   ],
   "source": [
    "def validate_input(data, input_type):\n",
    "    \"\"\"Validate different types of input data\"\"\"\n",
    "    result = {\"valid\": False, \"reason\": \"\"}\n",
    "    \n",
    "    if input_type == \"username\":\n",
    "        if data.isalnum() and len(data) >= 3:\n",
    "            result[\"valid\"] = True\n",
    "        else:\n",
    "            result[\"reason\"] = \"Username must be alphanumeric and at least 3 characters\"\n",
    "    \n",
    "    elif input_type == \"password\":\n",
    "        has_upper = any(c.isupper() for c in data)\n",
    "        has_lower = any(c.islower() for c in data)\n",
    "        has_digit = any(c.isdigit() for c in data)\n",
    "        \n",
    "        if len(data) >= 8 and has_upper and has_lower and has_digit:\n",
    "            result[\"valid\"] = True\n",
    "        else:\n",
    "            result[\"reason\"] = \"Password must be 8+ chars with upper, lower, and digit\"\n",
    "    \n",
    "    elif input_type == \"phone\":\n",
    "        clean_phone = data.replace(\"-\", \"\").replace(\"(\", \"\").replace(\")\", \"\").replace(\" \", \"\")\n",
    "        if clean_phone.isdigit() and len(clean_phone) == 10:\n",
    "            result[\"valid\"] = True\n",
    "        else:\n",
    "            result[\"reason\"] = \"Phone must be 10 digits\"\n",
    "    \n",
    "    return result\n",
    "\n",
    "test_data = [\n",
    "    (\"john123\", \"username\"),\n",
    "    (\"jo\", \"username\"),\n",
    "    (\"Password123\", \"password\"),\n",
    "    (\"weak\", \"password\"),\n",
    "    (\"555-123-4567\", \"phone\"),\n",
    "    (\"123456789\", \"phone\")\n",
    "]\n",
    "\n",
    "for data, data_type in test_data:\n",
    "    result = validate_input(data, data_type)\n",
    "    status = \"+\" if result[\"valid\"] else \"-\"\n",
    "    print(f\"{status} {data_type.capitalize()}: '{data}' - {result.get('reason', 'Valid')}\")"
   ]
  },
  {
   "cell_type": "markdown",
   "id": "3e50ba2f",
   "metadata": {},
   "source": [
    "### Example 2 - Data Type Classification"
   ]
  },
  {
   "cell_type": "code",
   "execution_count": 80,
   "id": "afb8ef45",
   "metadata": {},
   "outputs": [
    {
     "name": "stdout",
     "output_type": "stream",
     "text": [
      "String Classification:\n",
      "String               Classifications\n",
      "--------------------------------------------------\n",
      "12345                Pure Number, Possible Phone\n",
      "HELLO                Pure Text, All Uppercase\n",
      "hello                Pure Text, All Lowercase\n",
      "Hello123             Alphanumeric, Mixed Case\n",
      "user@email.com       All Lowercase, Possible Email\n",
      "https://example.com  All Lowercase, Possible URL\n",
      "(555) 123-4567       Contains Spaces, Possible Phone\n",
      "'   \\t\\n   '         Whitespace Only\n",
      "Hello World!         Mixed Case, Contains Spaces\n",
      "MixedCase123!        Mixed Case\n"
     ]
    }
   ],
   "source": [
    "def classify_string(text):\n",
    "    \"\"\"Classify a string based on its characteristics\"\"\"\n",
    "    classifications = []\n",
    "    \n",
    "    if text.isdigit():\n",
    "        classifications.append(\"Pure Number\")\n",
    "    elif text.isalpha():\n",
    "        classifications.append(\"Pure Text\")\n",
    "    elif text.isalnum():\n",
    "        classifications.append(\"Alphanumeric\")\n",
    "    \n",
    "    if text.isupper():\n",
    "        classifications.append(\"All Uppercase\")\n",
    "    elif text.islower():\n",
    "        classifications.append(\"All Lowercase\")\n",
    "    elif any(c.isupper() for c in text) and any(c.islower() for c in text):\n",
    "        classifications.append(\"Mixed Case\")\n",
    "    \n",
    "    if text.isspace():\n",
    "        classifications.append(\"Whitespace Only\")\n",
    "    elif ' ' in text:\n",
    "        classifications.append(\"Contains Spaces\")\n",
    "    \n",
    "    if text.startswith('http') and '.' in text:\n",
    "        classifications.append(\"Possible URL\")\n",
    "    elif '@' in text and '.' in text:\n",
    "        classifications.append(\"Possible Email\")\n",
    "    elif text.replace('-', '').replace('(', '').replace(')', '').replace(' ', '').isdigit():\n",
    "        classifications.append(\"Possible Phone\")\n",
    "    \n",
    "    return classifications if classifications else [\"Mixed Content\"]\n",
    "\n",
    "test_strings = [\n",
    "    \"12345\",\n",
    "    \"HELLO\",\n",
    "    \"hello\",\n",
    "    \"Hello123\",\n",
    "    \"user@email.com\",\n",
    "    \"https://example.com\",\n",
    "    \"(555) 123-4567\",\n",
    "    \"   \\t\\n   \",\n",
    "    \"Hello World!\",\n",
    "    \"MixedCase123!\"\n",
    "]\n",
    "\n",
    "print(\"String Classification:\")\n",
    "print(f\"{'String':<20} {'Classifications'}\")\n",
    "print(\"-\" * 50)\n",
    "\n",
    "for string in test_strings:\n",
    "    classes = classify_string(string)\n",
    "    display_string = repr(string) if string.isspace() else string\n",
    "    print(f\"{display_string:<20} {', '.join(classes)}\")"
   ]
  },
  {
   "cell_type": "markdown",
   "id": "ec1847f7",
   "metadata": {},
   "source": [
    "### You Try - Smart Password Checker\n",
    "\n",
    "Create an advanced password strength checker that:\n",
    "\n",
    "1. Uses string test methods to analyze password composition\n",
    "2. Checks for:\n",
    "   - Length (minimum 8 characters)\n",
    "   - At least one uppercase letter\n",
    "   - At least one lowercase letter  \n",
    "   - At least one digit\n",
    "   - At least one special character\n",
    "   - No whitespace characters\n",
    "   - Not entirely numeric or alphabetic\n",
    "\n",
    "3. Provides a strength score (1-5) and specific feedback\n",
    "\n",
    "Output example:\n",
    "```\n",
    "Password: \"mypassword\"\n",
    "Strength: 2/5 (Weak)\n",
    "(Optional) Issues: Missing uppercase, Missing digits, Missing special characters\n",
    "```"
   ]
  },
  {
   "cell_type": "code",
   "execution_count": null,
   "id": "17b14926",
   "metadata": {},
   "outputs": [],
   "source": [
    "# You Try - Smart Password Checker\n"
   ]
  },
  {
   "cell_type": "markdown",
   "id": "69e61f23",
   "metadata": {},
   "source": [
    "## Modification Methods"
   ]
  },
  {
   "cell_type": "code",
   "execution_count": 8,
   "id": "4cac12a4",
   "metadata": {},
   "outputs": [
    {
     "name": "stdout",
     "output_type": "stream",
     "text": [
      "hello world\n",
      "HELLO WORLD\n",
      "\n",
      "hello  '\n",
      "   hello\n",
      "-     hello\n",
      "\n",
      "hello---\n",
      "---hello\n",
      "hello\n"
     ]
    }
   ],
   "source": [
    "print(\"Hello World\".lower())\n",
    "print(\"hello world\".upper())\n",
    "print()\n",
    "print(\"   hello  \\'\".lstrip())\n",
    "print(\"   hello  \".rstrip())\n",
    "print(\"   -     hello  \".strip())\n",
    "print()\n",
    "print(\"---hello---\".lstrip(\"-\"))\n",
    "print(\"---hello---\".rstrip(\"-\"))\n",
    "print(\"---hello---\".strip(\"-\"))"
   ]
  },
  {
   "cell_type": "code",
   "execution_count": 31,
   "id": "9fb360c9",
   "metadata": {},
   "outputs": [
    {
     "name": "stdout",
     "output_type": "stream",
     "text": [
      "['When', 'do', 'you', 'think', 'this', 'class', 'will', 'end?']\n"
     ]
    }
   ],
   "source": [
    "question = \"When do you think this class will end?\"\n",
    "words = question.split()\n",
    "print(words)"
   ]
  },
  {
   "cell_type": "code",
   "execution_count": 33,
   "id": "686aea64",
   "metadata": {},
   "outputs": [
    {
     "name": "stdout",
     "output_type": "stream",
     "text": [
      "['I', 'do', 'not', 'know,', 'but', 'hopefully', 'soon.']\n"
     ]
    }
   ],
   "source": [
    "response = \"I do not know, but hopefully soon.\"\n",
    "words = response.split(' ')\n",
    "print(words)"
   ]
  },
  {
   "cell_type": "code",
   "execution_count": 74,
   "id": "05dced9f",
   "metadata": {},
   "outputs": [
    {
     "name": "stdout",
     "output_type": "stream",
     "text": [
      "[Info]: Admin Logged In\n",
      "[Error]: Invalid Command\n",
      "[Warning]: Refer to User Manual\n"
     ]
    }
   ],
   "source": [
    "logs = [\n",
    "    'Info Admin Logged In',\n",
    "    'Error Invalid Command',\n",
    "    'Warning Refer to User Manual'\n",
    "]\n",
    "for log in logs:\n",
    "    l = log.split(' ', 1)\n",
    "    print(f'[{l[0]}]: {l[1]}')"
   ]
  },
  {
   "cell_type": "markdown",
   "id": "d9c2e9f3",
   "metadata": {},
   "source": [
    "### Example 1 - Log File Parsing"
   ]
  },
  {
   "cell_type": "code",
   "execution_count": 73,
   "id": "a3f607bd",
   "metadata": {},
   "outputs": [
    {
     "name": "stdout",
     "output_type": "stream",
     "text": [
      "Log Analysis:\n",
      "Timestamp    Level      Message                       \n",
      "------------------------------------------------------------\n",
      "2024-03-15   10:30:15   ERROR Database connection failed\n",
      "2024-03-15   10:30:16   INFO User login successful    \n",
      "2024-03-15   10:30:17   WARNING Memory usage high     \n",
      "2024-03-15   10:30:18   ERROR File not found: config.txt\n"
     ]
    }
   ],
   "source": [
    "log_entries = [\n",
    "    \"2024-03-15 10:30:15 ERROR Database connection failed\",\n",
    "    \"2024-03-15 10:30:16 INFO User login successful\",\n",
    "    \"2024-03-15 10:30:17 WARNING Memory usage high\",\n",
    "    \"2024-03-15 10:30:18 ERROR File not found: config.txt\"\n",
    "]\n",
    "\n",
    "print(\"Log Analysis:\")\n",
    "print(f\"{'Timestamp':<12} {'Level':<10} {'Message':<30}\")\n",
    "print(\"-\" * 60)\n",
    "\n",
    "error_count = 0\n",
    "for entry in log_entries:\n",
    "    log = entry.split(' ', 2)\n",
    "    \n",
    "    if log[0] != -1 and log[1] != -1 and log[2] != -1:\n",
    "        timestamp = log[0]\n",
    "        level =    log[1]\n",
    "        message =  log[2]\n",
    "        \n",
    "        print(f\"{timestamp:<12} {level:<10} {message:<30}\")\n",
    "        \n",
    "        if level == \"ERROR\":\n",
    "            error_count += 1"
   ]
  },
  {
   "cell_type": "markdown",
   "id": "29f84abf",
   "metadata": {},
   "source": [
    "## Join Method"
   ]
  },
  {
   "cell_type": "markdown",
   "id": "a60f0770",
   "metadata": {},
   "source": [
    "### Basic Join Operations"
   ]
  },
  {
   "cell_type": "code",
   "execution_count": 37,
   "id": "322c6458",
   "metadata": {},
   "outputs": [
    {
     "data": {
      "text/plain": [
       "'home/dom/projects'"
      ]
     },
     "execution_count": 37,
     "metadata": {},
     "output_type": "execute_result"
    }
   ],
   "source": [
    "'/'.join(['home','dom','projects'])"
   ]
  },
  {
   "cell_type": "markdown",
   "id": "924dd607",
   "metadata": {},
   "source": [
    "An incorrect way to join a list of strings is by using a string as the separator. "
   ]
  },
  {
   "cell_type": "code",
   "execution_count": null,
   "id": "d8de0ea4",
   "metadata": {},
   "outputs": [
    {
     "data": {
      "text/plain": [
       "'domhome/projects'"
      ]
     },
     "execution_count": 39,
     "metadata": {},
     "output_type": "execute_result"
    }
   ],
   "source": [
    "#Incorrect way to join a list of strings\n",
    "dir = 'home/'\n",
    "dir.join(['dom','projects'])"
   ]
  },
  {
   "cell_type": "code",
   "execution_count": null,
   "id": "ed73a692",
   "metadata": {},
   "outputs": [
    {
     "ename": "AttributeError",
     "evalue": "'int' object has no attribute 'join'",
     "output_type": "error",
     "traceback": [
      "\u001b[0;31m---------------------------------------------------------------------------\u001b[0m",
      "\u001b[0;31mAttributeError\u001b[0m                            Traceback (most recent call last)",
      "Cell \u001b[0;32mIn[13], line 3\u001b[0m\n\u001b[1;32m      1\u001b[0m words \u001b[38;5;241m=\u001b[39m [\u001b[38;5;124m'\u001b[39m\u001b[38;5;124mHello\u001b[39m\u001b[38;5;124m'\u001b[39m, \u001b[38;5;124m'\u001b[39m\u001b[38;5;124mworld\u001b[39m\u001b[38;5;124m'\u001b[39m, \u001b[38;5;124m'\u001b[39m\u001b[38;5;124mfrom\u001b[39m\u001b[38;5;124m'\u001b[39m, \u001b[38;5;124m'\u001b[39m\u001b[38;5;124mPython\u001b[39m\u001b[38;5;124m'\u001b[39m]\n\u001b[1;32m      2\u001b[0m sep \u001b[38;5;241m=\u001b[39m \u001b[38;5;241m4\u001b[39m\n\u001b[0;32m----> 3\u001b[0m sentence \u001b[38;5;241m=\u001b[39m sep\u001b[38;5;241m.\u001b[39mjoin(words)\n\u001b[1;32m      4\u001b[0m \u001b[38;5;28mprint\u001b[39m(\u001b[38;5;124mf\u001b[39m\u001b[38;5;124m\"\u001b[39m\u001b[38;5;124mJoined with spaces: \u001b[39m\u001b[38;5;132;01m{\u001b[39;00msentence\u001b[38;5;132;01m}\u001b[39;00m\u001b[38;5;124m\"\u001b[39m)\n",
      "\u001b[0;31mAttributeError\u001b[0m: 'int' object has no attribute 'join'"
     ]
    }
   ],
   "source": [
    "words = ['Hello', 'world', 'from', 'Python']\n",
    "sep = '4'\n",
    "sentence = sep.join(words)\n",
    "print(f\"Joined with spaces: {sentence}\")"
   ]
  },
  {
   "cell_type": "code",
   "execution_count": 85,
   "id": "e1a91185",
   "metadata": {},
   "outputs": [
    {
     "name": "stdout",
     "output_type": "stream",
     "text": [
      "Comma separated: apple, banana, cherry, date\n",
      "Dash separated: apple-banana-cherry-date\n",
      "No separator: applebananacherrydate\n"
     ]
    }
   ],
   "source": [
    "fruits = ['apple', 'banana', 'cherry', 'date']\n",
    "print(f\"Comma separated: {', '.join(fruits)}\")\n",
    "print(f\"Dash separated: {'-'.join(fruits)}\")\n",
    "print(f\"No separator: {''.join(fruits)}\")"
   ]
  },
  {
   "cell_type": "code",
   "execution_count": 86,
   "id": "707c3fb9",
   "metadata": {},
   "outputs": [
    {
     "name": "stdout",
     "output_type": "stream",
     "text": [
      "File path: home/user/documents/file.txt\n"
     ]
    }
   ],
   "source": [
    "path_parts = ['home', 'user', 'documents', 'file.txt']\n",
    "file_path = '/'.join(path_parts)\n",
    "print(f\"File path: {file_path}\")"
   ]
  },
  {
   "cell_type": "code",
   "execution_count": 87,
   "id": "3e56de71",
   "metadata": {},
   "outputs": [
    {
     "name": "stdout",
     "output_type": "stream",
     "text": [
      "Joined numbers: 1-2-3-4-5\n"
     ]
    }
   ],
   "source": [
    "numbers = [1, 2, 3, 4, 5]\n",
    "number_string = '-'.join(str(num) for num in numbers)\n",
    "print(f\"Joined numbers: {number_string}\")"
   ]
  },
  {
   "cell_type": "markdown",
   "id": "57a9fd4d",
   "metadata": {},
   "source": [
    "### Example 1 - Complex Join with Functions"
   ]
  },
  {
   "cell_type": "code",
   "execution_count": 83,
   "id": "8d284648",
   "metadata": {},
   "outputs": [
    {
     "name": "stdout",
     "output_type": "stream",
     "text": [
      "SUMMARY REPORT:\n",
      "=== EMPLOYEE SUMMARY REPORT ===\n",
      "Total Employees: 5\n",
      "Departments: Marketing, Engineering, HR\n",
      "Employee Names: Alice Johnson | Bob Smith | Carol Davis | David Wilson | Eva Brown\n",
      "\n",
      "==================================================\n",
      "\n",
      "DETAILED REPORT:\n",
      "=== DETAILED EMPLOYEE REPORT ===\n",
      "Name: Alice Johnson | Dept: Engineering | Salary: $85,000\n",
      "Name: Bob Smith | Dept: Marketing | Salary: $65,000\n",
      "Name: Carol Davis | Dept: Engineering | Salary: $90,000\n",
      "Name: David Wilson | Dept: HR | Salary: $55,000\n",
      "Name: Eva Brown | Dept: Marketing | Salary: $70,000\n",
      "\n",
      "==================================================\n",
      "\n",
      "CSV REPORT:\n",
      "Name,Department,Salary\n",
      "Alice Johnson,Engineering,85000\n",
      "Bob Smith,Marketing,65000\n",
      "Carol Davis,Engineering,90000\n",
      "David Wilson,HR,55000\n",
      "Eva Brown,Marketing,70000\n"
     ]
    }
   ],
   "source": [
    "def format_employee_report(employees_data, report_type='summary'):\n",
    "    \"\"\"\n",
    "    Creates formatted reports using join method for different output formats.\n",
    "    \"\"\"\n",
    "    \n",
    "    if report_type == 'summary':\n",
    "        names = [emp['name'] for emp in employees_data]\n",
    "        departments = list(set(emp['department'] for emp in employees_data))\n",
    "        \n",
    "        report_lines = [\n",
    "            \"=== EMPLOYEE SUMMARY REPORT ===\",\n",
    "            f\"Total Employees: {len(employees_data)}\",\n",
    "            f\"Departments: {', '.join(departments)}\",\n",
    "            f\"Employee Names: {' | '.join(names)}\"\n",
    "        ]\n",
    "        return '\\n'.join(report_lines)\n",
    "    \n",
    "    elif report_type == 'detailed':\n",
    "        employee_lines = []\n",
    "        for emp in employees_data:\n",
    "            details = [\n",
    "                f\"Name: {emp['name']}\",\n",
    "                f\"Dept: {emp['department']}\",\n",
    "                f\"Salary: ${emp['salary']:,}\"\n",
    "            ]\n",
    "            employee_lines.append(' | '.join(details))\n",
    "        \n",
    "        report_header = \"=== DETAILED EMPLOYEE REPORT ===\"\n",
    "        return '\\n'.join([report_header] + employee_lines)\n",
    "    \n",
    "    elif report_type == 'csv':\n",
    "        headers = ['Name', 'Department', 'Salary']\n",
    "        csv_lines = [','.join(headers)]\n",
    "        \n",
    "        for emp in employees_data:\n",
    "            row = [emp['name'], emp['department'], str(emp['salary'])]\n",
    "            csv_lines.append(','.join(row))\n",
    "        \n",
    "        return '\\n'.join(csv_lines)\n",
    "\n",
    "employees = [\n",
    "    {'name': 'Alice Johnson', 'department': 'Engineering', 'salary': 85000},\n",
    "    {'name': 'Bob Smith', 'department': 'Marketing', 'salary': 65000},\n",
    "    {'name': 'Carol Davis', 'department': 'Engineering', 'salary': 90000},\n",
    "    {'name': 'David Wilson', 'department': 'HR', 'salary': 55000},\n",
    "    {'name': 'Eva Brown', 'department': 'Marketing', 'salary': 70000}\n",
    "]\n",
    "\n",
    "print(\"SUMMARY REPORT:\")\n",
    "print(format_employee_report(employees, 'summary'))\n",
    "print(\"\\n\" + \"=\"*50 + \"\\n\")\n",
    "\n",
    "print(\"DETAILED REPORT:\")\n",
    "print(format_employee_report(employees, 'detailed'))\n",
    "print(\"\\n\" + \"=\"*50 + \"\\n\")\n",
    "\n",
    "print(\"CSV REPORT:\")\n",
    "print(format_employee_report(employees, 'csv'))"
   ]
  },
  {
   "cell_type": "markdown",
   "id": "2637e459",
   "metadata": {},
   "source": [
    "# You Try - Answers"
   ]
  },
  {
   "cell_type": "markdown",
   "id": "3229064f",
   "metadata": {},
   "source": [
    "Write a Python function that takes a string and returns a new string where every vowel is replaced with an asterisk (*)."
   ]
  },
  {
   "cell_type": "code",
   "execution_count": null,
   "id": "44ceecc5",
   "metadata": {},
   "outputs": [
    {
     "name": "stdout",
     "output_type": "stream",
     "text": [
      "d*m*n*c\n"
     ]
    }
   ],
   "source": [
    "def replace_vowels_with_asterisk(s):\n",
    "    # Convert the string to lowercase to match the expected output\n",
    "    s = s.lower()\n",
    "    vowels = \"aeiou\"\n",
    "    # Replace each vowel with an asterisk using join\n",
    "    return ''.join('*' if char in vowels else char for char in s)\n",
    "\n",
    "# Testing the function with the provided variable 'data'\n",
    "data = \"Dominic\"\n",
    "print(replace_vowels_with_asterisk(data))"
   ]
  },
  {
   "cell_type": "code",
   "execution_count": null,
   "id": "9ba2f563",
   "metadata": {},
   "outputs": [
    {
     "name": "stdout",
     "output_type": "stream",
     "text": [
      "d*m*n*c\n"
     ]
    }
   ],
   "source": [
    "def replace_vowels(s: str) -> str:\n",
    "    for vowel in \"aeiouAEIOU\":\n",
    "        s = s.replace(vowel, \"*\")\n",
    "    return s\n",
    "\n",
    "# Test the function with the existing variable 'data'\n",
    "data = \"dominic\"\n",
    "result = replace_vowels(data)\n",
    "print(result)"
   ]
  },
  {
   "cell_type": "code",
   "execution_count": 3,
   "id": "2e747fde",
   "metadata": {},
   "outputs": [
    {
     "name": "stdout",
     "output_type": "stream",
     "text": [
      "D*m*n*c\n"
     ]
    }
   ],
   "source": [
    "def replace_vowel(str_val):\n",
    "    vowels = 'aieuoy'\n",
    "    for vowel in vowels:\n",
    "        str_val = str_val.replace(vowel, '*')\n",
    "    return str_val    \n",
    "\n",
    "data = 'Dominic'\n",
    "print(replace_vowel(data))\n"
   ]
  },
  {
   "cell_type": "markdown",
   "id": "37c5ac3d",
   "metadata": {},
   "source": [
    "### Print Even Characters"
   ]
  },
  {
   "cell_type": "code",
   "execution_count": null,
   "id": "fc60030c",
   "metadata": {},
   "outputs": [],
   "source": [
    "def is_even(arg):\n",
    "    l = len(arg)\n",
    "    ret = []\n",
    "    for i in range(l):\n",
    "        if i % 2 == 0:\n",
    "            ret.append(arg[i])\n",
    "    return ret\n",
    "\n",
    "str = \"This is a random string\"\n",
    "print(is_even(str))"
   ]
  },
  {
   "cell_type": "markdown",
   "id": "f5120b44",
   "metadata": {},
   "source": [
    "### Print Even Characters with Splicing"
   ]
  },
  {
   "cell_type": "code",
   "execution_count": null,
   "id": "cceaefe9",
   "metadata": {},
   "outputs": [],
   "source": [
    "def even_char(arg):\n",
    "    return arg[::2]\n",
    "\n",
    "str = \"This is a random string\"\n",
    "print(even_char(str))"
   ]
  },
  {
   "cell_type": "markdown",
   "id": "c8c56c42",
   "metadata": {},
   "source": [
    "### Player Stat"
   ]
  },
  {
   "cell_type": "code",
   "execution_count": 95,
   "id": "76a8c873",
   "metadata": {},
   "outputs": [
    {
     "name": "stdout",
     "output_type": "stream",
     "text": [
      "Player Name|Goals|Games Played|Goals Per Game\n",
      "-------------------------------------------------------------\n",
      "Sadio Mane|22|36|0.6111111111111112\n",
      "Mohamed Salah|22|38|0.5789473684210527\n",
      "Sergio Aguero|21|33|0.6363636363636364\n",
      "Jamie Vardy|18|34|0.5294117647058824\n",
      "Gabreil Jesus|7|29|0.2413793103448276\n"
     ]
    }
   ],
   "source": [
    "players = {\n",
    "    'name' : ['Sadio Mane', 'Mohamed Salah', 'Sergio Aguero', 'Jamie Vardy', 'Gabreil Jesus'],\n",
    "    'goals' : [22, 22, 21, 18, 7],\n",
    "    'games_played' : [36, 38, 33, 34, 29],\n",
    "}\n",
    "print(f\"{'Player Name'}|{'Goals'}|{'Games Played'}|{'Goals Per Game'}\")\n",
    "print(f\"{'-':-^61}\")\n",
    "for i in range(len(players['name'])):\n",
    "    name = players['name'][i]\n",
    "    goals = players['goals'][i]\n",
    "    games = players['games_played'][i]\n",
    "    goals_per_game = goals / games\n",
    "    print(f\"{name}|{goals}|{games}|{goals_per_game}\")"
   ]
  },
  {
   "cell_type": "code",
   "execution_count": 5,
   "id": "2e7882c9",
   "metadata": {},
   "outputs": [
    {
     "name": "stdout",
     "output_type": "stream",
     "text": [
      "Player Name    | Goals  | Games Played  |   Goals Per Game   \n",
      "-------------------------------------------------------------\n",
      "Sadio Mane     |   22   |      36       |       0.6111       \n",
      "Mohamed Salah  |   22   |      38       |       0.5789       \n",
      "Sergio Aguero  |   21   |      33       |       0.6364       \n",
      "Jamie Vardy    |   18   |      34       |       0.5294       \n",
      "Gabreil Jesus  |   7    |      29       |       0.2414       \n"
     ]
    }
   ],
   "source": [
    "players = {\n",
    "    'name' : ['Sadio Mane', 'Mohamed Salah', 'Sergio Aguero', 'Jamie Vardy', 'Gabreil Jesus'],\n",
    "    'goals' : [22, 22, 21, 18, 7],\n",
    "    'games_played' : [36, 38, 33, 34, 29],\n",
    "}\n",
    "print(f\"{'Player Name':<15}|{'Goals':^8}|{'Games Played':^15}|{'Goals Per Game':^20}\")\n",
    "print(f\"{'-'*61}\")\n",
    "for i in range(len(players['name'])):\n",
    "    name = players['name'][i]\n",
    "    goals = players['goals'][i]\n",
    "    games = players['games_played'][i]\n",
    "    goals_per_game = goals / games\n",
    "    print(f\"{name:<15}|{goals:^8}|{games:^15}|{goals_per_game:^20.4f}\")"
   ]
  },
  {
   "cell_type": "markdown",
   "id": "9c277268",
   "metadata": {},
   "source": [
    "### Palindrome Detector"
   ]
  },
  {
   "cell_type": "code",
   "execution_count": null,
   "id": "ee629d14",
   "metadata": {},
   "outputs": [],
   "source": []
  },
  {
   "cell_type": "code",
   "execution_count": 44,
   "id": "5d19e97a",
   "metadata": {},
   "outputs": [
    {
     "name": "stdout",
     "output_type": "stream",
     "text": [
      "bob is a Palindrome\n"
     ]
    }
   ],
   "source": [
    "def is_palindrome(text):\n",
    "    cleaned = ''.join(c.lower() for c in text if c.isalnum())\n",
    "    return cleaned == cleaned[::-1]\n",
    "\n",
    "user_input = input(\"Enter a word or phrase: \")\n",
    "if is_palindrome(user_input):\n",
    "    print(f\"{user_input} is a Palindrome\")\n",
    "else:\n",
    "    print(f\"{user_input} is not a palindrome\")"
   ]
  }
 ],
 "metadata": {
  "kernelspec": {
   "display_name": "base",
   "language": "python",
   "name": "python3"
  },
  "language_info": {
   "codemirror_mode": {
    "name": "ipython",
    "version": 3
   },
   "file_extension": ".py",
   "mimetype": "text/x-python",
   "name": "python",
   "nbconvert_exporter": "python",
   "pygments_lexer": "ipython3",
   "version": "3.13.5"
  }
 },
 "nbformat": 4,
 "nbformat_minor": 5
}
