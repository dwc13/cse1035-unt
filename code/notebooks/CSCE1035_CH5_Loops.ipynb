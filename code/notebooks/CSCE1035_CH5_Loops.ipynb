{
 "cells": [
  {
   "cell_type": "markdown",
   "id": "1e7df04b",
   "metadata": {},
   "source": [
    "# Chapter 5: Loops"
   ]
  },
  {
   "cell_type": "markdown",
   "id": "682129eb",
   "metadata": {},
   "source": [
    "## Loop Concept"
   ]
  },
  {
   "cell_type": "markdown",
   "id": "f442fff9",
   "metadata": {},
   "source": [
    "Loops allow repeated execution of code until a condition is met.\n",
    "- **Entry-controlled**: condition checked first (`for`, `while`).\n",
    "- **Exit-controlled**: condition checked last (`do-while`, in other languages)."
   ]
  },
  {
   "cell_type": "markdown",
   "id": "16a06f8f",
   "metadata": {},
   "source": [
    "### Example 1: Validate Stocks"
   ]
  },
  {
   "cell_type": "code",
   "execution_count": 2,
   "id": "f92c1a6e",
   "metadata": {},
   "outputs": [
    {
     "name": "stdout",
     "output_type": "stream",
     "text": [
      "Checking milk... available in inventory!\n",
      "Checking bread... available in inventory!\n",
      "Checking eggs... available in inventory!\n",
      "Checking apples... available in inventory!\n"
     ]
    }
   ],
   "source": [
    "items = [\"milk\", \"bread\", \"eggs\", \"apples\"]\n",
    "for item in items:\n",
    "    print(f\"Checking {item}... available in inventory!\")"
   ]
  },
  {
   "cell_type": "markdown",
   "id": "83bf0007",
   "metadata": {},
   "source": [
    "### Example 2: Combine two lists"
   ]
  },
  {
   "cell_type": "code",
   "execution_count": null,
   "id": "74cc4302",
   "metadata": {},
   "outputs": [],
   "source": [
    "students = [\"Alice\", \"Bob\", \"Charlie\"]\n",
    "grades = [88, 92, 79]\n",
    "for name, grade in zip(students, grades):\n",
    "    print(f\"{name} scored {grade}\")"
   ]
  },
  {
   "cell_type": "markdown",
   "id": "0df06b22",
   "metadata": {},
   "source": [
    "### Example 3: Loop through dictionary"
   ]
  },
  {
   "cell_type": "code",
   "execution_count": null,
   "id": "fb90fe0c",
   "metadata": {},
   "outputs": [],
   "source": [
    "user = {\"username\": \"student123\", \"role\": \"admin\", \"active\": True}\n",
    "for key, value in user.items():\n",
    "    print(f\"{key} -> {value}\")"
   ]
  },
  {
   "cell_type": "markdown",
   "id": "286d9e09",
   "metadata": {},
   "source": [
    "### You Try: Loop Concept\n",
    "Write a loop that prints all **even numbers from 2 to 20**."
   ]
  },
  {
   "cell_type": "code",
   "execution_count": null,
   "id": "307096e6",
   "metadata": {},
   "outputs": [],
   "source": [
    "# Your code here"
   ]
  },
  {
   "cell_type": "markdown",
   "id": "97196a39",
   "metadata": {},
   "source": [
    "## While Loops"
   ]
  },
  {
   "cell_type": "markdown",
   "id": "3c754461",
   "metadata": {},
   "source": [
    "A `while` loop repeats while a condition is True."
   ]
  },
  {
   "cell_type": "markdown",
   "id": "74d1031f",
   "metadata": {},
   "source": [
    "### Example 1: Accepting the Terms"
   ]
  },
  {
   "cell_type": "code",
   "execution_count": null,
   "id": "66c92aa9",
   "metadata": {},
   "outputs": [],
   "source": [
    "response = input(\"Do you accept the terms? (yes to continue): \")\n",
    "while response.lower() != \"yes\":\n",
    "    response = input(\"Unfortunately, you must accept the terms? (yes to continue): \")\n",
    "print(\"Thank you for confirming!\")"
   ]
  },
  {
   "cell_type": "markdown",
   "id": "c98fc8b9",
   "metadata": {},
   "source": [
    "### Example 2: Game While Loop"
   ]
  },
  {
   "cell_type": "code",
   "execution_count": null,
   "id": "90c774c2",
   "metadata": {},
   "outputs": [],
   "source": [
    "running = True\n",
    "rounds = 0\n",
    "while running:\n",
    "    print(f\"Playing round {rounds+1}...\")\n",
    "    rounds += 1\n",
    "    if rounds >= 3:  # after 3 rounds, stop\n",
    "        running = False\n",
    "print(\"Game Over!\")"
   ]
  },
  {
   "cell_type": "markdown",
   "id": "eee7b08e",
   "metadata": {},
   "source": [
    "### Example 3: Generate random numbers until divisible by 3"
   ]
  },
  {
   "cell_type": "code",
   "execution_count": null,
   "id": "c0b43b8c",
   "metadata": {},
   "outputs": [],
   "source": [
    "import random\n",
    "count = 0\n",
    "r_num = random.randint(1, 100)\n",
    "while r_num % 3 != 0:\n",
    "    print(f\"Current guess: {r_num}\")\n",
    "    count += 1\n",
    "    r_num = random.randint(1, 100)\n",
    "print(f\"Final guess (divisible by 3): {r_num}\")\n",
    "print(f\"Number of tries: {count}\")"
   ]
  },
  {
   "cell_type": "markdown",
   "id": "d6da3574",
   "metadata": {},
   "source": [
    "### You Try: While Loop\n",
    "Write a while loop that sums numbers from 1 to 100."
   ]
  },
  {
   "cell_type": "code",
   "execution_count": 3,
   "id": "a81bc3f8",
   "metadata": {},
   "outputs": [],
   "source": [
    "# Your code here"
   ]
  },
  {
   "cell_type": "markdown",
   "id": "7128dc04",
   "metadata": {},
   "source": [
    "## For Loops"
   ]
  },
  {
   "cell_type": "markdown",
   "id": "b0131714",
   "metadata": {},
   "source": [
    "A `for` loop iterates directly over an iterable (list, tuple, dict, set, string)."
   ]
  },
  {
   "cell_type": "markdown",
   "id": "d17ae659",
   "metadata": {},
   "source": [
    "### Example 1: Product Prices "
   ]
  },
  {
   "cell_type": "code",
   "execution_count": null,
   "id": "b30c1fa8",
   "metadata": {},
   "outputs": [],
   "source": [
    "products = [\"laptop\", \"phone\", \"tablet\"]\n",
    "prices = [1200, 800, 500]\n",
    "for p, price in zip(products, prices):\n",
    "    print(f\"The {p} costs ${price}\")"
   ]
  },
  {
   "cell_type": "markdown",
   "id": "6223e0fc",
   "metadata": {},
   "source": [
    "### Example 2: Iterate through a string"
   ]
  },
  {
   "cell_type": "code",
   "execution_count": 7,
   "id": "9679579c",
   "metadata": {},
   "outputs": [
    {
     "name": "stdout",
     "output_type": "stream",
     "text": [
      "Word: Machine\n",
      "Word: learning\n",
      "Word: models\n",
      "Word: need\n",
      "Word: lots\n",
      "Word: of\n",
      "Word: data\n"
     ]
    }
   ],
   "source": [
    "sentence = \"Machine learning models need lots of data\"\n",
    "for word in sentence.split():\n",
    "    print(\"Word:\", word)"
   ]
  },
  {
   "cell_type": "code",
   "execution_count": 8,
   "id": "e41a1fcc",
   "metadata": {},
   "outputs": [
    {
     "name": "stdout",
     "output_type": "stream",
     "text": [
      "S\n",
      "u\n",
      "p\n",
      "e\n",
      "r\n",
      "c\n",
      "a\n",
      "l\n",
      "i\n",
      "f\n",
      "r\n",
      "a\n",
      "g\n",
      "i\n",
      "l\n",
      "i\n",
      "s\n",
      "t\n",
      "i\n",
      "c\n",
      "e\n",
      "x\n",
      "p\n",
      "i\n",
      "a\n",
      "l\n",
      "i\n",
      "d\n",
      "o\n",
      "c\n",
      "i\n",
      "o\n",
      "u\n",
      "s\n"
     ]
    }
   ],
   "source": [
    "word = \"Supercalifragilisticexpialidocious\"\n",
    "for letter in word:\n",
    "    print(letter)"
   ]
  },
  {
   "cell_type": "markdown",
   "id": "2cd998e6",
   "metadata": {},
   "source": [
    "### Example 3: Reverse iteration"
   ]
  },
  {
   "cell_type": "code",
   "execution_count": null,
   "id": "80c45820",
   "metadata": {},
   "outputs": [],
   "source": [
    "for num in reversed([1, 2, 3, 4, 5]):\n",
    "    print(num)"
   ]
  },
  {
   "cell_type": "markdown",
   "id": "d2e3de23",
   "metadata": {},
   "source": [
    "### Example 4: Fruit Price Manager"
   ]
  },
  {
   "cell_type": "code",
   "execution_count": null,
   "id": "919a033e",
   "metadata": {},
   "outputs": [],
   "source": [
    "fruit_prices = {\n",
    "    \"apple\": 2.0,\n",
    "    \"banana\": 0.7\n",
    "}\n",
    "new_fruit = input(\"Enter the name of a fruit: \")\n",
    "if new_fruit in fruit_prices:\n",
    "    print(\"This fruit price has already been entered.\")\n",
    "else:\n",
    "    price = float(input(f\"Enter the price for {new_fruit}: \"))\n",
    "    fruit_prices[new_fruit] = price\n",
    "print(\"\\nFruit Price List:\")\n",
    "for fruit, price in fruit_prices.items():\n",
    "    print(f\"{fruit}: ${price:.2f}\")"
   ]
  },
  {
   "cell_type": "markdown",
   "id": "cf4cb3bb",
   "metadata": {},
   "source": [
    "### You Try: For Loop\n",
    "Create a dictionary of **3 countries and their capitals**.  \n",
    "Use a for loop to print `\"The capital of X is Y\"`."
   ]
  },
  {
   "cell_type": "code",
   "execution_count": null,
   "id": "ae1e0da3",
   "metadata": {},
   "outputs": [],
   "source": [
    "# Your code here"
   ]
  },
  {
   "cell_type": "markdown",
   "id": "d527e1a1",
   "metadata": {},
   "source": [
    "## Range Function"
   ]
  },
  {
   "cell_type": "markdown",
   "id": "03121af7",
   "metadata": {},
   "source": [
    "`range(start, stop, step)` generates a sequence of numbers."
   ]
  },
  {
   "cell_type": "markdown",
   "id": "45220d5f",
   "metadata": {},
   "source": [
    "### Example 1: Index alongside items"
   ]
  },
  {
   "cell_type": "code",
   "execution_count": null,
   "id": "894308e1",
   "metadata": {},
   "outputs": [],
   "source": [
    "names = [\n",
    "    \"Alice\", \"Bob\", \"Charlie\", \"Diana\", \"Ethan\",\n",
    "    \"Fiona\", \"George\", \"Hannah\", \"Ian\", \"Julia\",\n",
    "    \"Kevin\", \"Laura\", \"Michael\", \"Nina\", \"Oscar\",\n",
    "    \"Paula\", \"Quentin\", \"Rachel\", \"Sam\", \"Tina\",\n",
    "    \"Uma\", \"Victor\", \"Wendy\", \"Xander\", \"Yara\",\n",
    "    \"Zane\", \"Adam\", \"Bella\", \"Carl\", \"Daisy\",\n",
    "    \"Edward\", \"Faith\", \"Gavin\", \"Hailey\", \"Isaac\",\n",
    "    \"Jasmine\", \"Kyle\", \"Liam\", \"Mia\", \"Noah\",\n",
    "    \"Olivia\", \"Peter\", \"Queen\", \"Ryan\"\n",
    "]\n",
    "for idx in range(0, len(names)):\n",
    "  print(f'{idx=}:{names[idx]}')"
   ]
  },
  {
   "cell_type": "markdown",
   "id": "316127ab",
   "metadata": {},
   "source": [
    "### Example 2: Countdown timer"
   ]
  },
  {
   "cell_type": "code",
   "execution_count": null,
   "id": "6306084b",
   "metadata": {},
   "outputs": [],
   "source": [
    "import time\n",
    "for seconds in range(3, 0, -1):\n",
    "    print(f\"Timer: {seconds}\")\n",
    "print(\"Go!\")"
   ]
  },
  {
   "cell_type": "markdown",
   "id": "5666c2fe",
   "metadata": {},
   "source": [
    "### Example 3: Batching IDs for processing"
   ]
  },
  {
   "cell_type": "code",
   "execution_count": null,
   "id": "c8a13209",
   "metadata": {},
   "outputs": [],
   "source": [
    "for batch_id in range(100, 111, 2):\n",
    "    print(\"Processing batch:\", batch_id)"
   ]
  },
  {
   "cell_type": "markdown",
   "id": "a7d5f5f6",
   "metadata": {},
   "source": [
    "### You Try: Range\n",
    "Print all multiples of 5 between 5 and 50."
   ]
  },
  {
   "cell_type": "code",
   "execution_count": 9,
   "id": "57756dea",
   "metadata": {},
   "outputs": [],
   "source": [
    "# Your code here"
   ]
  },
  {
   "cell_type": "markdown",
   "id": "60a12da5",
   "metadata": {},
   "source": [
    "## Nested Loops"
   ]
  },
  {
   "cell_type": "markdown",
   "id": "31704553",
   "metadata": {},
   "source": [
    "A loop inside another loop."
   ]
  },
  {
   "cell_type": "markdown",
   "id": "07d81261",
   "metadata": {},
   "source": [
    "### Example 1: Students in Courses "
   ]
  },
  {
   "cell_type": "code",
   "execution_count": null,
   "id": "b6e39944",
   "metadata": {},
   "outputs": [],
   "source": [
    "students = [\"Alice\", \"Bob\"]\n",
    "courses = [\"Math\", \"History\"]\n",
    "for s in students:\n",
    "    for c in courses:\n",
    "        print(f\"{s} is enrolled in {c}\")"
   ]
  },
  {
   "cell_type": "markdown",
   "id": "d1ced15b",
   "metadata": {},
   "source": [
    "### Example 2: Grid Pattern Generator"
   ]
  },
  {
   "cell_type": "code",
   "execution_count": null,
   "id": "6f1c8d9d",
   "metadata": {},
   "outputs": [
    {
     "name": "stdout",
     "output_type": "stream",
     "text": [
      "*                           * \n",
      "  *                       *   \n",
      "    *                   *     \n",
      "      *               *       \n",
      "        *           *         \n",
      "          *       *           \n",
      "            *   *             \n",
      "              *               \n",
      "            *   *             \n",
      "          *       *           \n",
      "        *           *         \n",
      "      *               *       \n",
      "    *                   *     \n",
      "  *                       *   \n",
      "*                           * \n"
     ]
    }
   ],
   "source": [
    "size = 15\n",
    "for row in range(size):\n",
    "    for col in range(size):\n",
    "        # print(f\"({row},{col})\", end=\" \")\n",
    "        if row == col or row + col == size - 1:\n",
    "            print(\"*\", end=\" \")\n",
    "        else:\n",
    "            print(\" \", end=\" \")\n",
    "    print()"
   ]
  },
  {
   "cell_type": "markdown",
   "id": "b508a60a",
   "metadata": {},
   "source": [
    "### Example 3: Patients and their readings"
   ]
  },
  {
   "cell_type": "code",
   "execution_count": 18,
   "id": "456d9c3f",
   "metadata": {},
   "outputs": [
    {
     "name": "stdout",
     "output_type": "stream",
     "text": [
      "Alice's temperature: 98.6\n",
      "Alice's temperature: 99.1\n",
      "Bob's temperature: 97.9\n",
      "Bob's temperature: 100.2\n",
      "Charlie's temperature: 98.4\n",
      "David's temperature: 99.5\n",
      "David's temperature: 100.1\n",
      "David's temperature: 101.3\n",
      "Eve's temperature: 98.7\n"
     ]
    }
   ],
   "source": [
    "patients = {\n",
    "    \"Alice\": [98.6, 99.1],\n",
    "    \"Bob\": [97.9, 100.2],\n",
    "    \"Charlie\": [98.4],\n",
    "    \"David\": [99.5, 100.1, 101.3],\n",
    "    \"Eve\": [98.7]\n",
    "}\n",
    "for name, temps in patients.items():\n",
    "    for t in temps:\n",
    "        print(f\"{name}'s temperature: {t}\")"
   ]
  },
  {
   "cell_type": "markdown",
   "id": "1f388dc2",
   "metadata": {},
   "source": [
    "### You Try: Nested Loops\n",
    "Write a nested loop that prints a 3x3 grid of `*` characters."
   ]
  },
  {
   "cell_type": "code",
   "execution_count": null,
   "id": "d1301705",
   "metadata": {},
   "outputs": [],
   "source": [
    "# Your code here"
   ]
  },
  {
   "cell_type": "markdown",
   "id": "51c7a007",
   "metadata": {},
   "source": [
    "## Break and Continue"
   ]
  },
  {
   "cell_type": "markdown",
   "id": "a9d5e1fb",
   "metadata": {},
   "source": [
    "- `break`: exit loop immediately.  \n",
    "- `continue`: skip current iteration, go to next."
   ]
  },
  {
   "cell_type": "markdown",
   "id": "71d60cd9",
   "metadata": {},
   "source": [
    "### Example 1: Searching for a keyword in logs "
   ]
  },
  {
   "cell_type": "code",
   "execution_count": 21,
   "id": "eceaba2a",
   "metadata": {},
   "outputs": [
    {
     "name": "stdout",
     "output_type": "stream",
     "text": [
      "Checking for a Security breach...\n",
      "Log checked: INFO server start\n",
      "Log checked: INFO login user\n",
      "Log checked: INFO login admin\n",
      "Log checked: INFO admin: new user created\n",
      "Log checked: INFO logout user\n",
      "Log checked: INFO login user\n",
      "Log checked: INFO login user\n",
      "Log checked: ERROR server breach: unauthorized access\n",
      "Security breach detected, stopping scan!\n"
     ]
    }
   ],
   "source": [
    "log_entries = [\n",
    "    \"INFO server start\",\n",
    "    \"INFO login user\",\n",
    "    \"INFO login admin\",\n",
    "    \"INFO admin: new user created\",\n",
    "    \"INFO logout user\",\n",
    "    \"INFO login user\",\n",
    "    \"INFO login user\",\n",
    "    \"ERROR server breach: unauthorized access\",\n",
    "    \"INFO logout user\",\n",
    "    \"INFO login user\",\n",
    "    \"INFO logout user\",\n",
    "    \"INFO logout user\",\n",
    "    \"INFO end\",\n",
    "    ]\n",
    "\n",
    "print(\"Checking for a Security breach...\")\n",
    "for entry in log_entries:\n",
    "    print(\"Log checked:\", entry)\n",
    "    if \"ERROR\" in entry:\n",
    "        print(\"Security breach detected, stopping scan!\")\n",
    "        break"
   ]
  },
  {
   "cell_type": "markdown",
   "id": "a08656af",
   "metadata": {},
   "source": [
    "### Example 2: Skipping out-of-stock items"
   ]
  },
  {
   "cell_type": "code",
   "execution_count": 22,
   "id": "7dddbf40",
   "metadata": {},
   "outputs": [
    {
     "name": "stdout",
     "output_type": "stream",
     "text": [
      "milk available, qty=10\n",
      "eggs available, qty=5\n"
     ]
    }
   ],
   "source": [
    "inventory = {\n",
    "    \"milk\": 10,\n",
    "    \"bread\": 0,\n",
    "    \"eggs\": 5\n",
    "    }\n",
    "\n",
    "for item, qty in inventory.items():\n",
    "    if qty == 0:\n",
    "        continue\n",
    "    print(f\"{item} available, qty={qty}\")"
   ]
  },
  {
   "cell_type": "markdown",
   "id": "ea4f9f2e",
   "metadata": {},
   "source": [
    "### Example 3: Early stop at faulty reading"
   ]
  },
  {
   "cell_type": "code",
   "execution_count": 23,
   "id": "b6e32c92",
   "metadata": {},
   "outputs": [
    {
     "name": "stdout",
     "output_type": "stream",
     "text": [
      "Valid reading: 98.6\n",
      "Valid reading: 98.9\n",
      "Faulty reading, aborting...\n"
     ]
    }
   ],
   "source": [
    "readings = [98.6, 98.9, -1, 99.2]\n",
    "for r in readings:\n",
    "    if r < 0:\n",
    "        print(\"Faulty reading, aborting...\")\n",
    "        break\n",
    "    print(\"Valid reading:\", r)"
   ]
  },
  {
   "cell_type": "markdown",
   "id": "b8112f70",
   "metadata": {},
   "source": [
    "### You Try: Break/Continue\n",
    "Use a loop to print numbers from 1 to 10, but:\n",
    "- Skip multiples of 3  \n",
    "- Stop completely if the number is greater than 8"
   ]
  },
  {
   "cell_type": "code",
   "execution_count": null,
   "id": "d1bccb09",
   "metadata": {},
   "outputs": [],
   "source": [
    "# Your code here"
   ]
  },
  {
   "cell_type": "markdown",
   "id": "7539eaeb",
   "metadata": {},
   "source": [
    "## Enumeration"
   ]
  },
  {
   "cell_type": "markdown",
   "id": "57121c2f",
   "metadata": {},
   "source": [
    "`enumerate()` gives both index and element."
   ]
  },
  {
   "cell_type": "markdown",
   "id": "612461a2",
   "metadata": {},
   "source": [
    "### Example 1: Index List"
   ]
  },
  {
   "cell_type": "code",
   "execution_count": null,
   "id": "5e3bb6df",
   "metadata": {},
   "outputs": [
    {
     "name": "stdout",
     "output_type": "stream",
     "text": [
      "Feature 0: age\n",
      "Feature 1: height\n",
      "Feature 2: weight\n",
      "Feature 3: income\n",
      "Feature 4: education\n",
      "Feature 5: occupation\n",
      "Feature 6: marital_status\n",
      "Feature 7: number_of_children\n"
     ]
    }
   ],
   "source": [
    "features = [\"age\", \"height\", \"weight\", \"income\", \"education\", \"occupation\", \"marital_status\", \"number_of_children\"]\n",
    "for i, f in enumerate(features):\n",
    "    print(f\"Feature {i}: {f}\")"
   ]
  },
  {
   "cell_type": "markdown",
   "id": "1bde2f3d",
   "metadata": {},
   "source": [
    "### Example 2: Business orders with starting number "
   ]
  },
  {
   "cell_type": "code",
   "execution_count": null,
   "id": "af13373b",
   "metadata": {},
   "outputs": [
    {
     "name": "stdout",
     "output_type": "stream",
     "text": [
      "Tracking ID 101: OrderA\n",
      "Tracking ID 102: OrderB\n",
      "Tracking ID 103: OrderC\n"
     ]
    }
   ],
   "source": [
    "orders = [\"OrderA\", \"OrderB\", \"OrderC\"]\n",
    "for idx, order in enumerate(orders, start=101):\n",
    "    print(f\"Tracking ID {idx}: {order}\")"
   ]
  },
  {
   "cell_type": "markdown",
   "id": "83f40ce4",
   "metadata": {},
   "source": [
    "### Example 3: Long list of strings, print every 2nd one"
   ]
  },
  {
   "cell_type": "code",
   "execution_count": 26,
   "id": "f2bc5388",
   "metadata": {},
   "outputs": [
    {
     "name": "stdout",
     "output_type": "stream",
     "text": [
      "0: Alice\n",
      "2: Charlie\n",
      "4: Ethan\n",
      "6: George\n",
      "8: Ian\n"
     ]
    }
   ],
   "source": [
    "names = [\"Alice\", \"Bob\", \"Charlie\", \"Diana\", \"Ethan\",\n",
    "         \"Fiona\", \"George\", \"Hannah\", \"Ian\", \"Julia\"]\n",
    "for idx, name in enumerate(names):\n",
    "    if idx % 2 == 0:  # print every other one\n",
    "        print(f\"{idx}: {name}\")"
   ]
  },
  {
   "cell_type": "markdown",
   "id": "337dbb87",
   "metadata": {},
   "source": [
    "### You Try: Enumeration\n",
    "Use `enumerate()` to print the index and square of numbers in `[2, 4, 6, 8]`."
   ]
  },
  {
   "cell_type": "code",
   "execution_count": 27,
   "id": "a0ebd90d",
   "metadata": {},
   "outputs": [],
   "source": [
    "# Your code here"
   ]
  },
  {
   "cell_type": "markdown",
   "id": "2908888d",
   "metadata": {},
   "source": [
    "## Number Guessing Game"
   ]
  },
  {
   "cell_type": "markdown",
   "id": "5e130faa",
   "metadata": {},
   "source": [
    "We’ll build an interactive guessing game with two approaches:\n",
    "1. Using a **boolean flag**.  \n",
    "2. Using a **break** statement."
   ]
  },
  {
   "cell_type": "code",
   "execution_count": null,
   "id": "7c256c77",
   "metadata": {},
   "outputs": [],
   "source": [
    "import random\n",
    "\n",
    "# Variant 1: Boolean flag\n",
    "game_num = random.randint(1, 50)\n",
    "print(\"Debug: The number to guess is\", game_num)  # For testing purposes\n",
    "\n",
    "found = False\n",
    "while not found:\n",
    "    guess = int(input(\"Guess a number 1 to 50: \"))\n",
    "    if guess > game_num:\n",
    "        print(\"Too High!\")\n",
    "    elif guess < game_num:\n",
    "        print(\"Too Low!\")\n",
    "    else:\n",
    "        print(\"Correct! You got it!\")\n",
    "        found = True"
   ]
  },
  {
   "cell_type": "code",
   "execution_count": null,
   "id": "afa69ac7",
   "metadata": {},
   "outputs": [
    {
     "name": "stdout",
     "output_type": "stream",
     "text": [
      "D e b u g :   T h e   n u m b e r   t o   g u e s s   i s 16\n",
      "Too High!\n"
     ]
    },
    {
     "ename": "ValueError",
     "evalue": "invalid literal for int() with base 10: ''",
     "output_type": "error",
     "traceback": [
      "\u001b[31m---------------------------------------------------------------------------\u001b[39m",
      "\u001b[31mValueError\u001b[39m                                Traceback (most recent call last)",
      "\u001b[36mCell\u001b[39m\u001b[36m \u001b[39m\u001b[32mIn[37]\u001b[39m\u001b[32m, line 8\u001b[39m\n\u001b[32m      5\u001b[39m \u001b[38;5;28mprint\u001b[39m(*\u001b[33m\"\u001b[39m\u001b[33mDebug: The number to guess is\u001b[39m\u001b[33m\"\u001b[39m, game_num)  \u001b[38;5;66;03m# For testing purposes\u001b[39;00m\n\u001b[32m      7\u001b[39m \u001b[38;5;28;01mwhile\u001b[39;00m \u001b[38;5;28;01mTrue\u001b[39;00m:\n\u001b[32m----> \u001b[39m\u001b[32m8\u001b[39m     guess = \u001b[38;5;28;43mint\u001b[39;49m\u001b[43m(\u001b[49m\u001b[38;5;28;43minput\u001b[39;49m\u001b[43m(\u001b[49m\u001b[33;43m\"\u001b[39;49m\u001b[33;43mGuess a number 1 to 50: \u001b[39;49m\u001b[33;43m\"\u001b[39;49m\u001b[43m)\u001b[49m\u001b[43m)\u001b[49m\n\u001b[32m      9\u001b[39m     \u001b[38;5;28;01mif\u001b[39;00m guess > game_num:\n\u001b[32m     10\u001b[39m         \u001b[38;5;28mprint\u001b[39m(\u001b[33m\"\u001b[39m\u001b[33mToo High!\u001b[39m\u001b[33m\"\u001b[39m)\n",
      "\u001b[31mValueError\u001b[39m: invalid literal for int() with base 10: ''"
     ]
    }
   ],
   "source": [
    "import random\n",
    "\n",
    "# Variant 2: Using break\n",
    "game_num = random.randint(1, 50)\n",
    "print(\"Debug: The number to guess is\", game_num)  # For testing purposes\n",
    "\n",
    "while True:\n",
    "    guess = int(input(\"Guess a number 1 to 50: \"))\n",
    "    if guess > game_num:\n",
    "        print(\"Too High!\")\n",
    "    elif guess < game_num:\n",
    "        print(\"Too Low!\")\n",
    "    else:\n",
    "        print(\"Correct! You got it!\")\n",
    "        break"
   ]
  },
  {
   "cell_type": "markdown",
   "id": "f9d480b5",
   "metadata": {},
   "source": [
    "## Login System with Lockout"
   ]
  },
  {
   "cell_type": "markdown",
   "id": "9a13e899",
   "metadata": {},
   "source": [
    "This program simulates a login system:\n",
    "- The user has 3 attempts to enter the correct password.  \n",
    "- If the correct password is entered, access is granted.  \n",
    "- After 3 failed attempts, the account is locked."
   ]
  },
  {
   "cell_type": "code",
   "execution_count": null,
   "id": "a4acd27d",
   "metadata": {},
   "outputs": [],
   "source": [
    "correct_password = \"mysupersecretpassword\"\n",
    "attempts = 0\n",
    "max_attempts = 3\n",
    "\n",
    "while attempts < max_attempts:\n",
    "    guess = input(\"Enter your password: \")\n",
    "    if guess == correct_password:\n",
    "        print(\"Access Granted\")\n",
    "        break\n",
    "    else:\n",
    "        attempts += 1\n",
    "        print(f\"Incorrect password. Attempts left: {max_attempts - attempts}\")\n",
    "\n",
    "if attempts == max_attempts:\n",
    "    print(\"Account Locked - Too many failed attempts.\")"
   ]
  },
  {
   "cell_type": "markdown",
   "id": "b5141b52",
   "metadata": {},
   "source": [
    "## You Try Solutions"
   ]
  },
  {
   "cell_type": "markdown",
   "id": "28bfd211",
   "metadata": {},
   "source": [
    "### Loop Concept Solution"
   ]
  },
  {
   "cell_type": "code",
   "execution_count": null,
   "id": "fe2a993f",
   "metadata": {},
   "outputs": [],
   "source": [
    "for i in range(2, 21, 2):\n",
    "    print(i)"
   ]
  },
  {
   "cell_type": "markdown",
   "id": "fb606ab8",
   "metadata": {},
   "source": [
    "### While Loop Solution"
   ]
  },
  {
   "cell_type": "code",
   "execution_count": 29,
   "id": "7b95fcae",
   "metadata": {},
   "outputs": [
    {
     "name": "stdout",
     "output_type": "stream",
     "text": [
      "Sum: 5050\n"
     ]
    }
   ],
   "source": [
    "s = 0\n",
    "n = 1\n",
    "while n <= 100:\n",
    "    s += n\n",
    "    n += 1\n",
    "print(\"Sum:\", s)\n"
   ]
  },
  {
   "cell_type": "markdown",
   "id": "ef080053",
   "metadata": {},
   "source": [
    "### For Loop Solution"
   ]
  },
  {
   "cell_type": "code",
   "execution_count": 30,
   "id": "bca2dd0f",
   "metadata": {},
   "outputs": [
    {
     "name": "stdout",
     "output_type": "stream",
     "text": [
      "The capital of USA is Washington\n",
      "The capital of France is Paris\n",
      "The capital of Japan is Tokyo\n"
     ]
    }
   ],
   "source": [
    "capitals = {\"USA\": \"Washington\", \"France\": \"Paris\", \"Japan\": \"Tokyo\"}\n",
    "for country, capital in capitals.items():\n",
    "    print(f\"The capital of {country} is {capital}\")"
   ]
  },
  {
   "cell_type": "markdown",
   "id": "305a3f9b",
   "metadata": {},
   "source": [
    "### Range Solution"
   ]
  },
  {
   "cell_type": "code",
   "execution_count": null,
   "id": "56b36018",
   "metadata": {},
   "outputs": [],
   "source": [
    "for i in range(5, 55, 5):\n",
    "    print(i)"
   ]
  },
  {
   "cell_type": "markdown",
   "id": "ca393bdc",
   "metadata": {},
   "source": [
    "### Nested Loop Solution"
   ]
  },
  {
   "cell_type": "code",
   "execution_count": 31,
   "id": "b9ca0b2b",
   "metadata": {},
   "outputs": [
    {
     "name": "stdout",
     "output_type": "stream",
     "text": [
      "* * * \n",
      "* * * \n",
      "* * * \n"
     ]
    }
   ],
   "source": [
    "for i in range(3):\n",
    "    for j in range(3):\n",
    "        print(\"*\", end=\" \")\n",
    "    print()"
   ]
  },
  {
   "cell_type": "markdown",
   "id": "1d8f9bc6",
   "metadata": {},
   "source": [
    "### Break/Continue Solution"
   ]
  },
  {
   "cell_type": "code",
   "execution_count": null,
   "id": "a93a9071",
   "metadata": {},
   "outputs": [],
   "source": [
    "for i in range(1, 11):\n",
    "    if i > 8:\n",
    "        break\n",
    "    if i % 3 == 0:\n",
    "        continue\n",
    "    print(i)"
   ]
  },
  {
   "cell_type": "markdown",
   "id": "33327c38",
   "metadata": {},
   "source": [
    "### Enumeration Solution"
   ]
  },
  {
   "cell_type": "code",
   "execution_count": null,
   "id": "8d6c6fd6",
   "metadata": {},
   "outputs": [],
   "source": [
    "nums = [2, 4, 6, 8]\n",
    "for i, val in enumerate(nums):\n",
    "    print(i, val**2)"
   ]
  }
 ],
 "metadata": {
  "kernelspec": {
   "display_name": ".venv-2 (3.13.7)",
   "language": "python",
   "name": "python3"
  },
  "language_info": {
   "codemirror_mode": {
    "name": "ipython",
    "version": 3
   },
   "file_extension": ".py",
   "mimetype": "text/x-python",
   "name": "python",
   "nbconvert_exporter": "python",
   "pygments_lexer": "ipython3",
   "version": "3.13.7"
  }
 },
 "nbformat": 4,
 "nbformat_minor": 5
}
